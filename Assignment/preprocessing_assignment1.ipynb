{
  "nbformat": 4,
  "nbformat_minor": 0,
  "metadata": {
    "colab": {
      "name": "preprocessing_assignment1.ipynb",
      "provenance": []
    },
    "kernelspec": {
      "name": "python3",
      "display_name": "Python 3"
    }
  },
  "cells": [
    {
      "cell_type": "code",
      "metadata": {
        "id": "31trynt242WT"
      },
      "source": [
        "import numpy as np\r\n",
        "import pandas as pd\r\n",
        "import matplotlib.pyplot as plt\r\n",
        "import seaborn as sns"
      ],
      "execution_count": 1,
      "outputs": []
    },
    {
      "cell_type": "code",
      "metadata": {
        "id": "Bvlhti6c5i_J"
      },
      "source": [
        "df = pd.read_csv('')"
      ],
      "execution_count": null,
      "outputs": []
    },
    {
      "cell_type": "markdown",
      "metadata": {
        "id": "Zqzq2Gg95XqY"
      },
      "source": [
        "Arrests in the UK by ethnicity by area across uk (city(urban area), small town/village(rural b area)) \r\n",
        "\r\n",
        "First use a classification method to classify what sort of area places are\r\n",
        "\r\n",
        "get arrest data on a mix of different places from each category from different regions in the uk over a set period\r\n",
        "\r\n",
        "\r\n",
        "\r\n",
        "\r\n",
        "How can you remove ai bias from an algorithm which is designed to find social bias?\r\n"
      ]
    }
  ]
}