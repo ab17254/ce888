{
  "nbformat": 4,
  "nbformat_minor": 0,
  "metadata": {
    "colab": {
      "name": "preprocessing_assignment1.ipynb",
      "provenance": []
    },
    "kernelspec": {
      "name": "python3",
      "display_name": "Python 3"
    }
  },
  "cells": [
    {
      "cell_type": "code",
      "metadata": {
        "id": "31trynt242WT"
      },
      "source": [
        "import numpy as np\r\n",
        "import pandas as pd\r\n",
        "import matplotlib.pyplot as plt\r\n",
        "import seaborn as sns\r\n",
        "import io\r\n",
        "import requests"
      ],
      "execution_count": 3,
      "outputs": []
    },
    {
      "cell_type": "code",
      "metadata": {
        "id": "bshyyPzLGX0N"
      },
      "source": [
        "arrest_data = requests.get('https://www.ethnicity-facts-figures.service.gov.uk/crime-justice-and-the-law/policing/number-of-arrests/latest/downloads/number-of-arrests.csv').content\r\n",
        "arrest_df = pd.read_csv(io.StringIO(arrest_data.decode('utf-8')))\r\n"
      ],
      "execution_count": 13,
      "outputs": []
    },
    {
      "cell_type": "code",
      "metadata": {
        "id": "lSENjJqUG7JO"
      },
      "source": [
        "'https://www.ons.gov.uk/file?uri=/peoplepopulationandcommunity/populationandmigration/populationestimates/datasets/populationestimatesforukenglandandwalesscotlandandnorthernireland/mid2019april2020localauthoritydistrictcodes/ukmidyearestimates20192020ladcodes.xls'"
      ],
      "execution_count": null,
      "outputs": []
    },
    {
      "cell_type": "markdown",
      "metadata": {
        "id": "Zqzq2Gg95XqY"
      },
      "source": [
        "Arrests in the UK by ethnicity by area across uk (city(urban area), small town/village(rural b area)) \r\n",
        "\r\n",
        "First use a classification method to classify what sort of area places are\r\n",
        "\r\n",
        "get arrest data on a mix of different places from each category from different regions in the uk over a set period\r\n",
        "\r\n",
        "\r\n",
        "\r\n",
        "\r\n",
        "How can you remove ai bias from an algorithm which is designed to find social bias?\r\n"
      ]
    }
  ]
}