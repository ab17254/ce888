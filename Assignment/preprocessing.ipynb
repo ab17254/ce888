{
  "nbformat": 4,
  "nbformat_minor": 0,
  "metadata": {
    "colab": {
      "name": "preprocessing.ipynb",
      "provenance": [],
      "toc_visible": true,
      "include_colab_link": true
    },
    "kernelspec": {
      "name": "python3",
      "display_name": "Python 3"
    }
  },
  "cells": [
    {
      "cell_type": "markdown",
      "metadata": {
        "id": "view-in-github",
        "colab_type": "text"
      },
      "source": [
        "<a href=\"https://colab.research.google.com/github/ab17254/ce888/blob/main/Assignment/preprocessing.ipynb\" target=\"_parent\"><img src=\"https://colab.research.google.com/assets/colab-badge.svg\" alt=\"Open In Colab\"/></a>"
      ]
    },
    {
      "cell_type": "markdown",
      "metadata": {
        "id": "FrXe5lpUQ7eS"
      },
      "source": [
        "## Import Packages"
      ]
    },
    {
      "cell_type": "code",
      "metadata": {
        "id": "31trynt242WT"
      },
      "source": [
        "import numpy as np\n",
        "import pandas as pd\n",
        "import matplotlib.pyplot as plt\n",
        "import seaborn as sns\n",
        "import io\n",
        "import requests\n",
        "import os\n",
        "\n",
        "sns.set_style('whitegrid')"
      ],
      "execution_count": null,
      "outputs": []
    },
    {
      "cell_type": "markdown",
      "metadata": {
        "id": "um0P8QEVSf_l"
      },
      "source": [
        "### Functions to reload data as so that it is formatted correctly"
      ]
    },
    {
      "cell_type": "code",
      "metadata": {
        "id": "nCxfjztQPfd1"
      },
      "source": [
        "!mkdir temp"
      ],
      "execution_count": null,
      "outputs": []
    },
    {
      "cell_type": "code",
      "metadata": {
        "id": "6uivoffoPXrg"
      },
      "source": [
        "def reload(df):\n",
        "  if os.path.exists('temp/df.csv'):\n",
        "    os.remove('temp/df.csv')\n",
        "  df.to_csv('temp/df.csv')\n",
        "  return(pd.read_csv('/content/temp/df.csv'))"
      ],
      "execution_count": null,
      "outputs": []
    },
    {
      "cell_type": "code",
      "metadata": {
        "id": "Sj-Uy5oiTMgj"
      },
      "source": [
        "def reload_del_index(df):\n",
        "  if os.path.exists('temp/df.csv'):\n",
        "    os.remove('temp/df.csv')\n",
        "  df.to_csv('temp/df.csv', index=False)\n",
        "  return(pd.read_csv('/content/temp/df.csv'))"
      ],
      "execution_count": null,
      "outputs": []
    },
    {
      "cell_type": "markdown",
      "metadata": {
        "id": "kW4zCyHxQ-wm"
      },
      "source": [
        "## Load arrest dataset and processes"
      ]
    },
    {
      "cell_type": "code",
      "metadata": {
        "id": "bshyyPzLGX0N",
        "colab": {
          "base_uri": "https://localhost:8080/"
        },
        "outputId": "aae891f0-a917-4381-bab2-8131800668a8"
      },
      "source": [
        "arrest_data = requests.get('https://www.ethnicity-facts-figures.service.gov.uk/crime-justice-and-the-law/policing/number-of-arrests/latest/downloads/number-of-arrests.csv').content\n",
        "arrest_df = pd.read_csv(io.StringIO(arrest_data.decode('utf-8')))\n",
        "arrest_df = arrest_df.drop(columns=['Notes'])\n",
        "arrest_df = arrest_df.dropna()\n",
        "arrest_df = arrest_df[arrest_df['Age_Group'] == 'All']\n",
        "arrest_df = arrest_df[arrest_df['Gender'] == 'All']\n",
        "arrest_df.shape"
      ],
      "execution_count": null,
      "outputs": [
        {
          "output_type": "execute_result",
          "data": {
            "text/plain": [
              "(12144, 15)"
            ]
          },
          "metadata": {
            "tags": []
          },
          "execution_count": 5
        }
      ]
    },
    {
      "cell_type": "code",
      "metadata": {
        "id": "_hJe2Qx-ND83"
      },
      "source": [
        "'''\n",
        "Purpose: Takes an location and filters the data so that it only shows data relating to that location\n",
        "param location string: A string of the location the data needs to be filtered by\n",
        "param df pandas.DataFrame: Dataframe downloaded from source\n",
        "returns df_new pandas.DataFrame: Dataframe of filtered processed data\n",
        "'''\n",
        "def get_arrest_per_pop(location, df):\n",
        "  df_new = df[df['Geography'] == location]\n",
        "  df_new = df_new[df_new['Rate per 1,000 population by ethnicity, gender, and PFA'] != ' N/A ']\n",
        "  df_new = df_new.pivot(index='Time', columns='Ethnicity' ,values='Rate per 1,000 population by ethnicity, gender, and PFA')\n",
        "  # Used when working with total value of arrests to remove commas from values above 1,000 (changes 1,000 (str) to 1000 (int))\n",
        "  # df_new = df_new.convert_dtypes()\n",
        "  # df_new = df_new.apply(lambda x: x.str.replace(',', ''))\n",
        "  df_new = df_new.apply(lambda x: x.str.replace('-','0'))\n",
        "  df_new = df_new.fillna(0) #Set NA values to 0 - we are assuming there was no recorded arrests of that ethnicity in that year. Mean could be used but that would does not seem like a valid identifier\n",
        "  df_new = df_new.astype(int)\n",
        "  \n",
        "  # Combines ethnicity's into ethnic groups and then divides this to make it per population\n",
        "  df_new['Black'] = df_new['Black'] + df_new['Black African'] + df_new['Black Caribbean'] + df_new['Any other black background']\n",
        "  df_new['Black'] = df_new['Black']/4\n",
        "  df_new['White'] = df_new['White'] + df_new['White British'] + df_new['White Irish'] + df_new['Any other white background']\n",
        "  df_new['White'] = df_new['White']/4\n",
        "  df_new['Asian'] = df_new['Asian'] + df_new['Chinese'] + df_new['Indian'] + df_new['Bangladeshi'] + df_new['Pakistani'] + df_new['Any other asian']\n",
        "  df_new['Asian'] = df_new['Asian']/6\n",
        "  df_new['Mixed'] = df_new['Mixed'] + df_new['Mixed White and Asian'] + df_new['Mixed White and Black African'] + df_new['Mixed White and Black Caribbean'] + df_new['Any other mixed/multiple ethnic background']\n",
        "  df_new['Mixed'] = df_new['Mixed']/5\n",
        "  df_new['Other'] = df_new['Other'] + df_new['Any other ethnic group']\n",
        "  df_new['Other'] = df_new['Other']/2\n",
        "  df_new['All'] = (df_new['Black'] + df_new['White'] + df_new['Asian'] + df_new['Mixed'] + df_new['Other'])/5\n",
        "  df_new = df_new.drop(columns=['Black African', 'Black Caribbean', 'Any other black background', 'White British', 'White Irish', 'Any other white background', 'Chinese', 'Indian', 'Bangladeshi', 'Pakistani', 'Any other asian', 'Mixed White and Asian', 'Mixed White and Black African', 'Mixed White and Black Caribbean', 'Any other mixed/multiple ethnic background', 'Any other ethnic group'])\n",
        "\n",
        "  return df_new"
      ],
      "execution_count": null,
      "outputs": []
    },
    {
      "cell_type": "code",
      "metadata": {
        "id": "yb64PZjUPRKB"
      },
      "source": [
        "arrest_df_all = get_arrest_per_pop('All', arrest_df)\n",
        "#Large forces\n",
        "arrest_df_manchester = get_arrest_per_pop('Greater Manchester', arrest_df)\n",
        "arrest_df_london = get_arrest_per_pop('Metropolitan Police', arrest_df)\n",
        "#Medium forces\n",
        "arrest_df_essex = get_arrest_per_pop('Essex', arrest_df)\n",
        "arrest_df_lancashire = get_arrest_per_pop('Lancashire', arrest_df)\n",
        "#Small forces\n",
        "arrest_df_suffolk = get_arrest_per_pop('Suffolk', arrest_df)\n",
        "arrest_df_wiltshire = get_arrest_per_pop('Wiltshire', arrest_df)"
      ],
      "execution_count": null,
      "outputs": []
    },
    {
      "cell_type": "markdown",
      "metadata": {
        "id": "_BrUv30xHUwp"
      },
      "source": [
        "## Add Ethnicity of Officers to main dataset"
      ]
    },
    {
      "cell_type": "code",
      "metadata": {
        "id": "-jEhiv0AHT3r"
      },
      "source": [
        "officer_data = requests.get('https://www.ethnicity-facts-figures.service.gov.uk/workforce-and-business/workforce-diversity/police-workforce/latest/downloads/by-ethnicity-over-time-police-officers.csv').content\n",
        "officer_data = pd.read_csv(io.StringIO(officer_data.decode('utf-8')))"
      ],
      "execution_count": null,
      "outputs": []
    },
    {
      "cell_type": "code",
      "metadata": {
        "id": "qCSGAECvHwIw"
      },
      "source": [
        "officer_data = officer_data.pivot(index='Time', columns='Ethnicity', values='Number of police officers (FTE) ')"
      ],
      "execution_count": null,
      "outputs": []
    },
    {
      "cell_type": "code",
      "metadata": {
        "id": "PdGFcXOhMAt_"
      },
      "source": [
        "officer_data = officer_data.drop(columns=['Unknown'])"
      ],
      "execution_count": null,
      "outputs": []
    },
    {
      "cell_type": "code",
      "metadata": {
        "id": "TMFjvWvPMNlB"
      },
      "source": [
        "officer_data = officer_data.rename(columns={'Other inc Chinese': 'Other Officers', 'Time': 'Date',\n",
        "                                            'White': 'White Officers',\n",
        "                                            'Black': 'Black Officers',\n",
        "                                            'Asian': 'Asian Officers',\n",
        "                                            'Mixed': 'Mixed Officers'})"
      ],
      "execution_count": null,
      "outputs": []
    },
    {
      "cell_type": "code",
      "metadata": {
        "id": "QeY74UT0BnBg",
        "colab": {
          "base_uri": "https://localhost:8080/",
          "height": 514
        },
        "outputId": "0a166775-e07c-43ee-ab77-b38131b9315a"
      },
      "source": [
        "officer_data"
      ],
      "execution_count": null,
      "outputs": [
        {
          "output_type": "execute_result",
          "data": {
            "text/html": [
              "<div>\n",
              "<style scoped>\n",
              "    .dataframe tbody tr th:only-of-type {\n",
              "        vertical-align: middle;\n",
              "    }\n",
              "\n",
              "    .dataframe tbody tr th {\n",
              "        vertical-align: top;\n",
              "    }\n",
              "\n",
              "    .dataframe thead th {\n",
              "        text-align: right;\n",
              "    }\n",
              "</style>\n",
              "<table border=\"1\" class=\"dataframe\">\n",
              "  <thead>\n",
              "    <tr style=\"text-align: right;\">\n",
              "      <th>Ethnicity</th>\n",
              "      <th>Asian Officers</th>\n",
              "      <th>Black Officers</th>\n",
              "      <th>Mixed Officers</th>\n",
              "      <th>Other Officers</th>\n",
              "      <th>White Officers</th>\n",
              "    </tr>\n",
              "    <tr>\n",
              "      <th>Time</th>\n",
              "      <th></th>\n",
              "      <th></th>\n",
              "      <th></th>\n",
              "      <th></th>\n",
              "      <th></th>\n",
              "    </tr>\n",
              "  </thead>\n",
              "  <tbody>\n",
              "    <tr>\n",
              "      <th>2007</th>\n",
              "      <td>2,111</td>\n",
              "      <td>1,350</td>\n",
              "      <td>1,419</td>\n",
              "      <td>632</td>\n",
              "      <td>134,372</td>\n",
              "    </tr>\n",
              "    <tr>\n",
              "      <th>2008</th>\n",
              "      <td>2,231</td>\n",
              "      <td>1,371</td>\n",
              "      <td>1,525</td>\n",
              "      <td>656</td>\n",
              "      <td>134,000</td>\n",
              "    </tr>\n",
              "    <tr>\n",
              "      <th>2009</th>\n",
              "      <td>2,472</td>\n",
              "      <td>1,427</td>\n",
              "      <td>1,699</td>\n",
              "      <td>689</td>\n",
              "      <td>135,651</td>\n",
              "    </tr>\n",
              "    <tr>\n",
              "      <th>2010</th>\n",
              "      <td>2,607</td>\n",
              "      <td>1,446</td>\n",
              "      <td>1,844</td>\n",
              "      <td>745</td>\n",
              "      <td>135,293</td>\n",
              "    </tr>\n",
              "    <tr>\n",
              "      <th>2011</th>\n",
              "      <td>2,582</td>\n",
              "      <td>1,442</td>\n",
              "      <td>1,838</td>\n",
              "      <td>754</td>\n",
              "      <td>130,870</td>\n",
              "    </tr>\n",
              "    <tr>\n",
              "      <th>2012</th>\n",
              "      <td>2,607</td>\n",
              "      <td>1,420</td>\n",
              "      <td>1,871</td>\n",
              "      <td>766</td>\n",
              "      <td>125,579</td>\n",
              "    </tr>\n",
              "    <tr>\n",
              "      <th>2013</th>\n",
              "      <td>2,563</td>\n",
              "      <td>1,361</td>\n",
              "      <td>1,865</td>\n",
              "      <td>749</td>\n",
              "      <td>121,086</td>\n",
              "    </tr>\n",
              "    <tr>\n",
              "      <th>2014</th>\n",
              "      <td>2,665</td>\n",
              "      <td>1,352</td>\n",
              "      <td>1,922</td>\n",
              "      <td>776</td>\n",
              "      <td>119,071</td>\n",
              "    </tr>\n",
              "    <tr>\n",
              "      <th>2015</th>\n",
              "      <td>2,795</td>\n",
              "      <td>1,373</td>\n",
              "      <td>2,028</td>\n",
              "      <td>785</td>\n",
              "      <td>117,757</td>\n",
              "    </tr>\n",
              "    <tr>\n",
              "      <th>2016</th>\n",
              "      <td>2,881</td>\n",
              "      <td>1,433</td>\n",
              "      <td>2,096</td>\n",
              "      <td>808</td>\n",
              "      <td>114,437</td>\n",
              "    </tr>\n",
              "    <tr>\n",
              "      <th>2017</th>\n",
              "      <td>3,104</td>\n",
              "      <td>1,432</td>\n",
              "      <td>2,185</td>\n",
              "      <td>841</td>\n",
              "      <td>112,953</td>\n",
              "    </tr>\n",
              "    <tr>\n",
              "      <th>2018</th>\n",
              "      <td>3,266</td>\n",
              "      <td>1,424</td>\n",
              "      <td>2,309</td>\n",
              "      <td>852</td>\n",
              "      <td>111,506</td>\n",
              "    </tr>\n",
              "    <tr>\n",
              "      <th>2019</th>\n",
              "      <td>3,476</td>\n",
              "      <td>1,493</td>\n",
              "      <td>2,473</td>\n",
              "      <td>889</td>\n",
              "      <td>111,710</td>\n",
              "    </tr>\n",
              "    <tr>\n",
              "      <th>2020</th>\n",
              "      <td>3,884</td>\n",
              "      <td>1,586</td>\n",
              "      <td>2,711</td>\n",
              "      <td>993</td>\n",
              "      <td>116,536</td>\n",
              "    </tr>\n",
              "  </tbody>\n",
              "</table>\n",
              "</div>"
            ],
            "text/plain": [
              "Ethnicity Asian Officers Black Officers  ... Other Officers White Officers\n",
              "Time                                     ...                              \n",
              "2007               2,111          1,350  ...            632        134,372\n",
              "2008               2,231          1,371  ...            656        134,000\n",
              "2009               2,472          1,427  ...            689        135,651\n",
              "2010               2,607          1,446  ...            745        135,293\n",
              "2011               2,582          1,442  ...            754        130,870\n",
              "2012               2,607          1,420  ...            766        125,579\n",
              "2013               2,563          1,361  ...            749        121,086\n",
              "2014               2,665          1,352  ...            776        119,071\n",
              "2015               2,795          1,373  ...            785        117,757\n",
              "2016               2,881          1,433  ...            808        114,437\n",
              "2017               3,104          1,432  ...            841        112,953\n",
              "2018               3,266          1,424  ...            852        111,506\n",
              "2019               3,476          1,493  ...            889        111,710\n",
              "2020               3,884          1,586  ...            993        116,536\n",
              "\n",
              "[14 rows x 5 columns]"
            ]
          },
          "metadata": {
            "tags": []
          },
          "execution_count": 14
        }
      ]
    },
    {
      "cell_type": "code",
      "metadata": {
        "id": "eeKJoqUCBdpT"
      },
      "source": [
        "officer_data = officer_data.convert_dtypes()\n",
        "officer_data = officer_data.apply(lambda x: x.str.replace(',', ''))"
      ],
      "execution_count": null,
      "outputs": []
    },
    {
      "cell_type": "code",
      "metadata": {
        "id": "A8NBtP3DNFIn"
      },
      "source": [
        "officer_data = reload_del_index(officer_data).iloc[0:12]"
      ],
      "execution_count": null,
      "outputs": []
    },
    {
      "cell_type": "code",
      "metadata": {
        "id": "c7qSFh-mP4z3"
      },
      "source": [
        "arrest_df_all_re = reload(arrest_df_all)"
      ],
      "execution_count": null,
      "outputs": []
    },
    {
      "cell_type": "code",
      "metadata": {
        "id": "_iEiUJphMn2P"
      },
      "source": [
        "data_all = pd.concat([arrest_df_all_re, officer_data], axis=1)"
      ],
      "execution_count": null,
      "outputs": []
    },
    {
      "cell_type": "code",
      "metadata": {
        "colab": {
          "base_uri": "https://localhost:8080/",
          "height": 421
        },
        "id": "zEC7JrIGS-XK",
        "outputId": "bd34e5f4-1cac-46c8-9139-e10a7072e06c"
      },
      "source": [
        "data_all"
      ],
      "execution_count": null,
      "outputs": [
        {
          "output_type": "execute_result",
          "data": {
            "text/html": [
              "<div>\n",
              "<style scoped>\n",
              "    .dataframe tbody tr th:only-of-type {\n",
              "        vertical-align: middle;\n",
              "    }\n",
              "\n",
              "    .dataframe tbody tr th {\n",
              "        vertical-align: top;\n",
              "    }\n",
              "\n",
              "    .dataframe thead th {\n",
              "        text-align: right;\n",
              "    }\n",
              "</style>\n",
              "<table border=\"1\" class=\"dataframe\">\n",
              "  <thead>\n",
              "    <tr style=\"text-align: right;\">\n",
              "      <th></th>\n",
              "      <th>Time</th>\n",
              "      <th>All</th>\n",
              "      <th>Asian</th>\n",
              "      <th>Black</th>\n",
              "      <th>Mixed</th>\n",
              "      <th>Other</th>\n",
              "      <th>White</th>\n",
              "      <th>Asian Officers</th>\n",
              "      <th>Black Officers</th>\n",
              "      <th>Mixed Officers</th>\n",
              "      <th>Other Officers</th>\n",
              "      <th>White Officers</th>\n",
              "    </tr>\n",
              "  </thead>\n",
              "  <tbody>\n",
              "    <tr>\n",
              "      <th>0</th>\n",
              "      <td>2006/07</td>\n",
              "      <td>31.376667</td>\n",
              "      <td>17.333333</td>\n",
              "      <td>60.00</td>\n",
              "      <td>31.8</td>\n",
              "      <td>24.0</td>\n",
              "      <td>23.75</td>\n",
              "      <td>2111</td>\n",
              "      <td>1350</td>\n",
              "      <td>1419</td>\n",
              "      <td>632</td>\n",
              "      <td>134372</td>\n",
              "    </tr>\n",
              "    <tr>\n",
              "      <th>1</th>\n",
              "      <td>2007/08</td>\n",
              "      <td>33.060000</td>\n",
              "      <td>19.000000</td>\n",
              "      <td>62.75</td>\n",
              "      <td>31.8</td>\n",
              "      <td>26.0</td>\n",
              "      <td>25.75</td>\n",
              "      <td>2231</td>\n",
              "      <td>1371</td>\n",
              "      <td>1525</td>\n",
              "      <td>656</td>\n",
              "      <td>134000</td>\n",
              "    </tr>\n",
              "    <tr>\n",
              "      <th>2</th>\n",
              "      <td>2008/09</td>\n",
              "      <td>33.770000</td>\n",
              "      <td>20.000000</td>\n",
              "      <td>65.00</td>\n",
              "      <td>31.6</td>\n",
              "      <td>25.5</td>\n",
              "      <td>26.75</td>\n",
              "      <td>2472</td>\n",
              "      <td>1427</td>\n",
              "      <td>1699</td>\n",
              "      <td>689</td>\n",
              "      <td>135651</td>\n",
              "    </tr>\n",
              "    <tr>\n",
              "      <th>3</th>\n",
              "      <td>2009/10</td>\n",
              "      <td>33.503333</td>\n",
              "      <td>19.666667</td>\n",
              "      <td>65.25</td>\n",
              "      <td>31.6</td>\n",
              "      <td>24.5</td>\n",
              "      <td>26.50</td>\n",
              "      <td>2607</td>\n",
              "      <td>1446</td>\n",
              "      <td>1844</td>\n",
              "      <td>745</td>\n",
              "      <td>135293</td>\n",
              "    </tr>\n",
              "    <tr>\n",
              "      <th>4</th>\n",
              "      <td>2010/11</td>\n",
              "      <td>33.706667</td>\n",
              "      <td>19.833333</td>\n",
              "      <td>66.75</td>\n",
              "      <td>32.2</td>\n",
              "      <td>24.0</td>\n",
              "      <td>25.75</td>\n",
              "      <td>2582</td>\n",
              "      <td>1442</td>\n",
              "      <td>1838</td>\n",
              "      <td>754</td>\n",
              "      <td>130870</td>\n",
              "    </tr>\n",
              "    <tr>\n",
              "      <th>5</th>\n",
              "      <td>2011/12</td>\n",
              "      <td>30.876667</td>\n",
              "      <td>17.833333</td>\n",
              "      <td>61.00</td>\n",
              "      <td>29.8</td>\n",
              "      <td>22.0</td>\n",
              "      <td>23.75</td>\n",
              "      <td>2607</td>\n",
              "      <td>1420</td>\n",
              "      <td>1871</td>\n",
              "      <td>766</td>\n",
              "      <td>125579</td>\n",
              "    </tr>\n",
              "    <tr>\n",
              "      <th>6</th>\n",
              "      <td>2012/13</td>\n",
              "      <td>27.226667</td>\n",
              "      <td>15.833333</td>\n",
              "      <td>52.75</td>\n",
              "      <td>25.8</td>\n",
              "      <td>20.0</td>\n",
              "      <td>21.75</td>\n",
              "      <td>2563</td>\n",
              "      <td>1361</td>\n",
              "      <td>1865</td>\n",
              "      <td>749</td>\n",
              "      <td>121086</td>\n",
              "    </tr>\n",
              "    <tr>\n",
              "      <th>7</th>\n",
              "      <td>2013/14</td>\n",
              "      <td>26.436667</td>\n",
              "      <td>15.833333</td>\n",
              "      <td>51.75</td>\n",
              "      <td>24.6</td>\n",
              "      <td>19.0</td>\n",
              "      <td>21.00</td>\n",
              "      <td>2665</td>\n",
              "      <td>1352</td>\n",
              "      <td>1922</td>\n",
              "      <td>776</td>\n",
              "      <td>119071</td>\n",
              "    </tr>\n",
              "    <tr>\n",
              "      <th>8</th>\n",
              "      <td>2014/15</td>\n",
              "      <td>24.833333</td>\n",
              "      <td>14.666667</td>\n",
              "      <td>49.75</td>\n",
              "      <td>23.0</td>\n",
              "      <td>18.0</td>\n",
              "      <td>18.75</td>\n",
              "      <td>2795</td>\n",
              "      <td>1373</td>\n",
              "      <td>2028</td>\n",
              "      <td>785</td>\n",
              "      <td>117757</td>\n",
              "    </tr>\n",
              "    <tr>\n",
              "      <th>9</th>\n",
              "      <td>2015/16</td>\n",
              "      <td>23.770000</td>\n",
              "      <td>14.000000</td>\n",
              "      <td>48.50</td>\n",
              "      <td>21.6</td>\n",
              "      <td>18.0</td>\n",
              "      <td>16.75</td>\n",
              "      <td>2881</td>\n",
              "      <td>1433</td>\n",
              "      <td>2096</td>\n",
              "      <td>808</td>\n",
              "      <td>114437</td>\n",
              "    </tr>\n",
              "    <tr>\n",
              "      <th>10</th>\n",
              "      <td>2016/17</td>\n",
              "      <td>21.280000</td>\n",
              "      <td>12.500000</td>\n",
              "      <td>43.75</td>\n",
              "      <td>19.4</td>\n",
              "      <td>16.0</td>\n",
              "      <td>14.75</td>\n",
              "      <td>3104</td>\n",
              "      <td>1432</td>\n",
              "      <td>2185</td>\n",
              "      <td>841</td>\n",
              "      <td>112953</td>\n",
              "    </tr>\n",
              "    <tr>\n",
              "      <th>11</th>\n",
              "      <td>2017/18</td>\n",
              "      <td>19.413333</td>\n",
              "      <td>11.166667</td>\n",
              "      <td>40.50</td>\n",
              "      <td>18.4</td>\n",
              "      <td>14.0</td>\n",
              "      <td>13.00</td>\n",
              "      <td>3266</td>\n",
              "      <td>1424</td>\n",
              "      <td>2309</td>\n",
              "      <td>852</td>\n",
              "      <td>111506</td>\n",
              "    </tr>\n",
              "  </tbody>\n",
              "</table>\n",
              "</div>"
            ],
            "text/plain": [
              "       Time        All  ...  Other Officers  White Officers\n",
              "0   2006/07  31.376667  ...             632          134372\n",
              "1   2007/08  33.060000  ...             656          134000\n",
              "2   2008/09  33.770000  ...             689          135651\n",
              "3   2009/10  33.503333  ...             745          135293\n",
              "4   2010/11  33.706667  ...             754          130870\n",
              "5   2011/12  30.876667  ...             766          125579\n",
              "6   2012/13  27.226667  ...             749          121086\n",
              "7   2013/14  26.436667  ...             776          119071\n",
              "8   2014/15  24.833333  ...             785          117757\n",
              "9   2015/16  23.770000  ...             808          114437\n",
              "10  2016/17  21.280000  ...             841          112953\n",
              "11  2017/18  19.413333  ...             852          111506\n",
              "\n",
              "[12 rows x 12 columns]"
            ]
          },
          "metadata": {
            "tags": []
          },
          "execution_count": 19
        }
      ]
    },
    {
      "cell_type": "markdown",
      "metadata": {
        "id": "Ejb6Xejp8G9p"
      },
      "source": [
        "## AI Bias dataset"
      ]
    },
    {
      "cell_type": "code",
      "metadata": {
        "id": "fWqr3xc88IfN"
      },
      "source": [
        "arrest_data = requests.get('https://www.ethnicity-facts-figures.service.gov.uk/crime-justice-and-the-law/policing/number-of-arrests/latest/downloads/number-of-arrests.csv').content\n",
        "arrest_df = pd.read_csv(io.StringIO(arrest_data.decode('utf-8')))"
      ],
      "execution_count": null,
      "outputs": []
    },
    {
      "cell_type": "code",
      "metadata": {
        "id": "3buyKORZ8Or7"
      },
      "source": [
        "# arrest_new = arrest_df[arrest_df['Geography'] == 'All']\n",
        "arrest_new = arrest_df.drop(columns=['Measure','Time_type', 'Ethnicity_type', 'Gender_type','Age_Group_type','Geography_type', 'Population by ethnicity, gender, and PFA (based on 2011 Census)', 'Rate per 1,000 population by ethnicity, gender, and PFA', 'Proportion of arrests of this ethnicity, in this year, of this gender and in this police force area (excludes unreported)', 'Notes'])"
      ],
      "execution_count": null,
      "outputs": []
    },
    {
      "cell_type": "code",
      "metadata": {
        "id": "tI8aZPe3-A0Y"
      },
      "source": [
        "arrest_new.index.name = 'index'"
      ],
      "execution_count": null,
      "outputs": []
    },
    {
      "cell_type": "code",
      "metadata": {
        "id": "VxUW9Sio-t-e"
      },
      "source": [
        "arrest_new.reset_index(level=0, inplace=True)\n"
      ],
      "execution_count": null,
      "outputs": []
    },
    {
      "cell_type": "code",
      "metadata": {
        "id": "5KuUQtej9RR6"
      },
      "source": [
        "arrest_new = arrest_new.set_index(['index','Ethnicity','Gender'])"
      ],
      "execution_count": null,
      "outputs": []
    },
    {
      "cell_type": "code",
      "metadata": {
        "id": "NWGoj52X_kmW"
      },
      "source": [
        "arrest_new = arrest_new.convert_dtypes()\n",
        "arrest_new = arrest_new.apply(lambda x: x.str.replace(',', ''))"
      ],
      "execution_count": null,
      "outputs": []
    },
    {
      "cell_type": "code",
      "metadata": {
        "colab": {
          "base_uri": "https://localhost:8080/",
          "height": 450
        },
        "id": "g44bTbrc_sex",
        "outputId": "3c0eb68a-0262-4bf8-8ee0-d07d66e61631"
      },
      "source": [
        "arrest_new"
      ],
      "execution_count": null,
      "outputs": [
        {
          "output_type": "execute_result",
          "data": {
            "text/html": [
              "<div>\n",
              "<style scoped>\n",
              "    .dataframe tbody tr th:only-of-type {\n",
              "        vertical-align: middle;\n",
              "    }\n",
              "\n",
              "    .dataframe tbody tr th {\n",
              "        vertical-align: top;\n",
              "    }\n",
              "\n",
              "    .dataframe thead th {\n",
              "        text-align: right;\n",
              "    }\n",
              "</style>\n",
              "<table border=\"1\" class=\"dataframe\">\n",
              "  <thead>\n",
              "    <tr style=\"text-align: right;\">\n",
              "      <th></th>\n",
              "      <th></th>\n",
              "      <th></th>\n",
              "      <th>Time</th>\n",
              "      <th>Age_Group</th>\n",
              "      <th>Geography</th>\n",
              "      <th>Number of arrests</th>\n",
              "    </tr>\n",
              "    <tr>\n",
              "      <th>index</th>\n",
              "      <th>Ethnicity</th>\n",
              "      <th>Gender</th>\n",
              "      <th></th>\n",
              "      <th></th>\n",
              "      <th></th>\n",
              "      <th></th>\n",
              "    </tr>\n",
              "  </thead>\n",
              "  <tbody>\n",
              "    <tr>\n",
              "      <th>0</th>\n",
              "      <th>Asian</th>\n",
              "      <th>Female</th>\n",
              "      <td>2006/07</td>\n",
              "      <td>10 - 17 years</td>\n",
              "      <td>Avon and Somerset</td>\n",
              "      <td>10</td>\n",
              "    </tr>\n",
              "    <tr>\n",
              "      <th>1</th>\n",
              "      <th>Asian</th>\n",
              "      <th>Female</th>\n",
              "      <td>2006/07</td>\n",
              "      <td>10 - 17 years</td>\n",
              "      <td>Bedfordshire</td>\n",
              "      <td>25</td>\n",
              "    </tr>\n",
              "    <tr>\n",
              "      <th>2</th>\n",
              "      <th>Asian</th>\n",
              "      <th>Female</th>\n",
              "      <td>2006/07</td>\n",
              "      <td>10 - 17 years</td>\n",
              "      <td>Cambridgeshire</td>\n",
              "      <td>9</td>\n",
              "    </tr>\n",
              "    <tr>\n",
              "      <th>3</th>\n",
              "      <th>Asian</th>\n",
              "      <th>Female</th>\n",
              "      <td>2006/07</td>\n",
              "      <td>10 - 17 years</td>\n",
              "      <td>Cheshire</td>\n",
              "      <td>-</td>\n",
              "    </tr>\n",
              "    <tr>\n",
              "      <th>4</th>\n",
              "      <th>Asian</th>\n",
              "      <th>Female</th>\n",
              "      <td>2006/07</td>\n",
              "      <td>10 - 17 years</td>\n",
              "      <td>Cleveland</td>\n",
              "      <td>4</td>\n",
              "    </tr>\n",
              "    <tr>\n",
              "      <th>...</th>\n",
              "      <th>...</th>\n",
              "      <th>...</th>\n",
              "      <td>...</td>\n",
              "      <td>...</td>\n",
              "      <td>...</td>\n",
              "      <td>...</td>\n",
              "    </tr>\n",
              "    <tr>\n",
              "      <th>218587</th>\n",
              "      <th>Mixed White and Asian</th>\n",
              "      <th>All</th>\n",
              "      <td>2013/14</td>\n",
              "      <td>All</td>\n",
              "      <td>All</td>\n",
              "      <td>2906</td>\n",
              "    </tr>\n",
              "    <tr>\n",
              "      <th>218588</th>\n",
              "      <th>Mixed White and Asian</th>\n",
              "      <th>All</th>\n",
              "      <td>2014/15</td>\n",
              "      <td>All</td>\n",
              "      <td>All</td>\n",
              "      <td>2711</td>\n",
              "    </tr>\n",
              "    <tr>\n",
              "      <th>218589</th>\n",
              "      <th>Mixed White and Asian</th>\n",
              "      <th>All</th>\n",
              "      <td>2015/16</td>\n",
              "      <td>All</td>\n",
              "      <td>All</td>\n",
              "      <td>2532</td>\n",
              "    </tr>\n",
              "    <tr>\n",
              "      <th>218590</th>\n",
              "      <th>Mixed White and Asian</th>\n",
              "      <th>All</th>\n",
              "      <td>2016/17</td>\n",
              "      <td>All</td>\n",
              "      <td>All</td>\n",
              "      <td>2289</td>\n",
              "    </tr>\n",
              "    <tr>\n",
              "      <th>218591</th>\n",
              "      <th>Mixed White and Asian</th>\n",
              "      <th>All</th>\n",
              "      <td>2017/18</td>\n",
              "      <td>All</td>\n",
              "      <td>All</td>\n",
              "      <td>2144</td>\n",
              "    </tr>\n",
              "  </tbody>\n",
              "</table>\n",
              "<p>218592 rows × 4 columns</p>\n",
              "</div>"
            ],
            "text/plain": [
              "                                        Time  ...  Number of arrests \n",
              "index  Ethnicity             Gender           ...                    \n",
              "0      Asian                 Female  2006/07  ...                  10\n",
              "1      Asian                 Female  2006/07  ...                  25\n",
              "2      Asian                 Female  2006/07  ...                   9\n",
              "3      Asian                 Female  2006/07  ...                -   \n",
              "4      Asian                 Female  2006/07  ...                   4\n",
              "...                                      ...  ...                 ...\n",
              "218587 Mixed White and Asian All     2013/14  ...                2906\n",
              "218588 Mixed White and Asian All     2014/15  ...                2711\n",
              "218589 Mixed White and Asian All     2015/16  ...                2532\n",
              "218590 Mixed White and Asian All     2016/17  ...                2289\n",
              "218591 Mixed White and Asian All     2017/18  ...                2144\n",
              "\n",
              "[218592 rows x 4 columns]"
            ]
          },
          "metadata": {
            "tags": []
          },
          "execution_count": 28
        }
      ]
    },
    {
      "cell_type": "markdown",
      "metadata": {
        "id": "q4oPmgm9HouP"
      },
      "source": [
        "## Save data"
      ]
    },
    {
      "cell_type": "code",
      "metadata": {
        "id": "zwxDx9_W0atK"
      },
      "source": [
        "!mkdir data"
      ],
      "execution_count": null,
      "outputs": []
    },
    {
      "cell_type": "code",
      "metadata": {
        "id": "Dttq1JNZzdht"
      },
      "source": [
        "arrest_df_all.to_csv('data/arrest_all.csv')\n",
        "arrest_df_manchester.to_csv('data/arrest_manchester.csv')\n",
        "arrest_df_london.to_csv('data/arrest_london.csv')\n",
        "arrest_df_essex.to_csv('data/arrest_essex.csv')\n",
        "arrest_df_lancashire.to_csv('data/arrest_lancashire.csv')\n",
        "arrest_df_suffolk.to_csv('data/arrest_suffolk.csv')\n",
        "arrest_df_wiltshire.to_csv('data/arrest_wiltshire.csv')\n",
        "data_all.to_csv('data/data_all.csv')\n",
        "\n",
        "arrest_new.to_csv('data/arrest_all_new.csv')"
      ],
      "execution_count": null,
      "outputs": []
    },
    {
      "cell_type": "code",
      "metadata": {
        "colab": {
          "base_uri": "https://localhost:8080/"
        },
        "id": "-to1rj612HCb",
        "outputId": "a9704070-0788-4922-9e22-d55ab5ec5dd4"
      },
      "source": [
        "# Output file\n",
        "!zip -r /content/data.zip /content/data/"
      ],
      "execution_count": null,
      "outputs": [
        {
          "output_type": "stream",
          "text": [
            "  adding: content/data/ (stored 0%)\n",
            "  adding: content/data/arrest_essex.csv (deflated 58%)\n",
            "  adding: content/data/arrest_suffolk.csv (deflated 58%)\n",
            "  adding: content/data/arrest_lancashire.csv (deflated 54%)\n",
            "  adding: content/data/arrest_all.csv (deflated 60%)\n",
            "  adding: content/data/data_all.csv (deflated 55%)\n",
            "  adding: content/data/arrest_london.csv (deflated 61%)\n",
            "  adding: content/data/arrest_all_new.csv (deflated 88%)\n",
            "  adding: content/data/arrest_wiltshire.csv (deflated 59%)\n",
            "  adding: content/data/arrest_manchester.csv (deflated 59%)\n"
          ],
          "name": "stdout"
        }
      ]
    }
  ]
}