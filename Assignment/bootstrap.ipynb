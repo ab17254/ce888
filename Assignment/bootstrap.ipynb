{
  "nbformat": 4,
  "nbformat_minor": 0,
  "metadata": {
    "colab": {
      "name": "bootstrap.ipynb",
      "provenance": [],
      "authorship_tag": "ABX9TyNpYPkqiETSkwbhEhMWoF5g",
      "include_colab_link": true
    },
    "kernelspec": {
      "name": "python3",
      "display_name": "Python 3"
    },
    "language_info": {
      "name": "python"
    }
  },
  "cells": [
    {
      "cell_type": "markdown",
      "metadata": {
        "id": "view-in-github",
        "colab_type": "text"
      },
      "source": [
        "<a href=\"https://colab.research.google.com/github/ab17254/ce888/blob/main/Assignment/bootstrap.ipynb\" target=\"_parent\"><img src=\"https://colab.research.google.com/assets/colab-badge.svg\" alt=\"Open In Colab\"/></a>"
      ]
    },
    {
      "cell_type": "code",
      "metadata": {
        "id": "CBoeCbZm3Lvh"
      },
      "source": [
        "import matplotlib.pyplot as plt\n",
        "import pandas as pd\n",
        "import seaborn as sns\n",
        "import numpy as np"
      ],
      "execution_count": 1,
      "outputs": []
    },
    {
      "cell_type": "code",
      "metadata": {
        "colab": {
          "base_uri": "https://localhost:8080/"
        },
        "id": "amxn7p4247N5",
        "outputId": "b05df868-fee8-4e16-88c5-70bb4c05d69a"
      },
      "source": [
        "!unzip /content/data.zip"
      ],
      "execution_count": 77,
      "outputs": [
        {
          "output_type": "stream",
          "text": [
            "Archive:  /content/data.zip\n",
            "replace content/data/arrest_london.csv? [y]es, [n]o, [A]ll, [N]one, [r]ename: A\n",
            "  inflating: content/data/arrest_london.csv  \n",
            "  inflating: content/data/arrest_all.csv  \n",
            "  inflating: content/data/arrest_essex.csv  \n",
            "  inflating: content/data/arrest_manchester.csv  \n",
            "  inflating: content/data/arrest_lancashire.csv  \n",
            "  inflating: content/data/arrest_suffolk.csv  \n",
            "  inflating: content/data/arrest_wiltshire.csv  \n",
            "  inflating: content/data/data_all.csv  \n"
          ],
          "name": "stdout"
        }
      ]
    },
    {
      "cell_type": "code",
      "metadata": {
        "colab": {
          "base_uri": "https://localhost:8080/",
          "height": 421
        },
        "id": "2dvyeBDo5E8U",
        "outputId": "2cc91c96-650c-468d-e616-bb75a8921896"
      },
      "source": [
        "df = pd.read_csv('/content/content/data/data_all.csv')\n",
        "df"
      ],
      "execution_count": 80,
      "outputs": [
        {
          "output_type": "execute_result",
          "data": {
            "text/html": [
              "<div>\n",
              "<style scoped>\n",
              "    .dataframe tbody tr th:only-of-type {\n",
              "        vertical-align: middle;\n",
              "    }\n",
              "\n",
              "    .dataframe tbody tr th {\n",
              "        vertical-align: top;\n",
              "    }\n",
              "\n",
              "    .dataframe thead th {\n",
              "        text-align: right;\n",
              "    }\n",
              "</style>\n",
              "<table border=\"1\" class=\"dataframe\">\n",
              "  <thead>\n",
              "    <tr style=\"text-align: right;\">\n",
              "      <th></th>\n",
              "      <th>Unnamed: 0</th>\n",
              "      <th>Time</th>\n",
              "      <th>All</th>\n",
              "      <th>Asian</th>\n",
              "      <th>Black</th>\n",
              "      <th>Mixed</th>\n",
              "      <th>Other</th>\n",
              "      <th>White</th>\n",
              "      <th>Asian Officers</th>\n",
              "      <th>Black Officers</th>\n",
              "      <th>Mixed Officers</th>\n",
              "      <th>Other Officers</th>\n",
              "      <th>White Officers</th>\n",
              "    </tr>\n",
              "  </thead>\n",
              "  <tbody>\n",
              "    <tr>\n",
              "      <th>0</th>\n",
              "      <td>0</td>\n",
              "      <td>2006/07</td>\n",
              "      <td>31.376667</td>\n",
              "      <td>17.333333</td>\n",
              "      <td>60.00</td>\n",
              "      <td>31.8</td>\n",
              "      <td>24.0</td>\n",
              "      <td>23.75</td>\n",
              "      <td>2,111</td>\n",
              "      <td>1,350</td>\n",
              "      <td>1,419</td>\n",
              "      <td>632</td>\n",
              "      <td>134,372</td>\n",
              "    </tr>\n",
              "    <tr>\n",
              "      <th>1</th>\n",
              "      <td>1</td>\n",
              "      <td>2007/08</td>\n",
              "      <td>33.060000</td>\n",
              "      <td>19.000000</td>\n",
              "      <td>62.75</td>\n",
              "      <td>31.8</td>\n",
              "      <td>26.0</td>\n",
              "      <td>25.75</td>\n",
              "      <td>2,231</td>\n",
              "      <td>1,371</td>\n",
              "      <td>1,525</td>\n",
              "      <td>656</td>\n",
              "      <td>134,000</td>\n",
              "    </tr>\n",
              "    <tr>\n",
              "      <th>2</th>\n",
              "      <td>2</td>\n",
              "      <td>2008/09</td>\n",
              "      <td>33.770000</td>\n",
              "      <td>20.000000</td>\n",
              "      <td>65.00</td>\n",
              "      <td>31.6</td>\n",
              "      <td>25.5</td>\n",
              "      <td>26.75</td>\n",
              "      <td>2,472</td>\n",
              "      <td>1,427</td>\n",
              "      <td>1,699</td>\n",
              "      <td>689</td>\n",
              "      <td>135,651</td>\n",
              "    </tr>\n",
              "    <tr>\n",
              "      <th>3</th>\n",
              "      <td>3</td>\n",
              "      <td>2009/10</td>\n",
              "      <td>33.503333</td>\n",
              "      <td>19.666667</td>\n",
              "      <td>65.25</td>\n",
              "      <td>31.6</td>\n",
              "      <td>24.5</td>\n",
              "      <td>26.50</td>\n",
              "      <td>2,607</td>\n",
              "      <td>1,446</td>\n",
              "      <td>1,844</td>\n",
              "      <td>745</td>\n",
              "      <td>135,293</td>\n",
              "    </tr>\n",
              "    <tr>\n",
              "      <th>4</th>\n",
              "      <td>4</td>\n",
              "      <td>2010/11</td>\n",
              "      <td>33.706667</td>\n",
              "      <td>19.833333</td>\n",
              "      <td>66.75</td>\n",
              "      <td>32.2</td>\n",
              "      <td>24.0</td>\n",
              "      <td>25.75</td>\n",
              "      <td>2,582</td>\n",
              "      <td>1,442</td>\n",
              "      <td>1,838</td>\n",
              "      <td>754</td>\n",
              "      <td>130,870</td>\n",
              "    </tr>\n",
              "    <tr>\n",
              "      <th>5</th>\n",
              "      <td>5</td>\n",
              "      <td>2011/12</td>\n",
              "      <td>30.876667</td>\n",
              "      <td>17.833333</td>\n",
              "      <td>61.00</td>\n",
              "      <td>29.8</td>\n",
              "      <td>22.0</td>\n",
              "      <td>23.75</td>\n",
              "      <td>2,607</td>\n",
              "      <td>1,420</td>\n",
              "      <td>1,871</td>\n",
              "      <td>766</td>\n",
              "      <td>125,579</td>\n",
              "    </tr>\n",
              "    <tr>\n",
              "      <th>6</th>\n",
              "      <td>6</td>\n",
              "      <td>2012/13</td>\n",
              "      <td>27.226667</td>\n",
              "      <td>15.833333</td>\n",
              "      <td>52.75</td>\n",
              "      <td>25.8</td>\n",
              "      <td>20.0</td>\n",
              "      <td>21.75</td>\n",
              "      <td>2,563</td>\n",
              "      <td>1,361</td>\n",
              "      <td>1,865</td>\n",
              "      <td>749</td>\n",
              "      <td>121,086</td>\n",
              "    </tr>\n",
              "    <tr>\n",
              "      <th>7</th>\n",
              "      <td>7</td>\n",
              "      <td>2013/14</td>\n",
              "      <td>26.436667</td>\n",
              "      <td>15.833333</td>\n",
              "      <td>51.75</td>\n",
              "      <td>24.6</td>\n",
              "      <td>19.0</td>\n",
              "      <td>21.00</td>\n",
              "      <td>2,665</td>\n",
              "      <td>1,352</td>\n",
              "      <td>1,922</td>\n",
              "      <td>776</td>\n",
              "      <td>119,071</td>\n",
              "    </tr>\n",
              "    <tr>\n",
              "      <th>8</th>\n",
              "      <td>8</td>\n",
              "      <td>2014/15</td>\n",
              "      <td>24.833333</td>\n",
              "      <td>14.666667</td>\n",
              "      <td>49.75</td>\n",
              "      <td>23.0</td>\n",
              "      <td>18.0</td>\n",
              "      <td>18.75</td>\n",
              "      <td>2,795</td>\n",
              "      <td>1,373</td>\n",
              "      <td>2,028</td>\n",
              "      <td>785</td>\n",
              "      <td>117,757</td>\n",
              "    </tr>\n",
              "    <tr>\n",
              "      <th>9</th>\n",
              "      <td>9</td>\n",
              "      <td>2015/16</td>\n",
              "      <td>23.770000</td>\n",
              "      <td>14.000000</td>\n",
              "      <td>48.50</td>\n",
              "      <td>21.6</td>\n",
              "      <td>18.0</td>\n",
              "      <td>16.75</td>\n",
              "      <td>2,881</td>\n",
              "      <td>1,433</td>\n",
              "      <td>2,096</td>\n",
              "      <td>808</td>\n",
              "      <td>114,437</td>\n",
              "    </tr>\n",
              "    <tr>\n",
              "      <th>10</th>\n",
              "      <td>10</td>\n",
              "      <td>2016/17</td>\n",
              "      <td>21.280000</td>\n",
              "      <td>12.500000</td>\n",
              "      <td>43.75</td>\n",
              "      <td>19.4</td>\n",
              "      <td>16.0</td>\n",
              "      <td>14.75</td>\n",
              "      <td>3,104</td>\n",
              "      <td>1,432</td>\n",
              "      <td>2,185</td>\n",
              "      <td>841</td>\n",
              "      <td>112,953</td>\n",
              "    </tr>\n",
              "    <tr>\n",
              "      <th>11</th>\n",
              "      <td>11</td>\n",
              "      <td>2017/18</td>\n",
              "      <td>19.413333</td>\n",
              "      <td>11.166667</td>\n",
              "      <td>40.50</td>\n",
              "      <td>18.4</td>\n",
              "      <td>14.0</td>\n",
              "      <td>13.00</td>\n",
              "      <td>3,266</td>\n",
              "      <td>1,424</td>\n",
              "      <td>2,309</td>\n",
              "      <td>852</td>\n",
              "      <td>111,506</td>\n",
              "    </tr>\n",
              "  </tbody>\n",
              "</table>\n",
              "</div>"
            ],
            "text/plain": [
              "    Unnamed: 0     Time  ...  Other Officers  White Officers\n",
              "0            0  2006/07  ...             632         134,372\n",
              "1            1  2007/08  ...             656         134,000\n",
              "2            2  2008/09  ...             689         135,651\n",
              "3            3  2009/10  ...             745         135,293\n",
              "4            4  2010/11  ...             754         130,870\n",
              "5            5  2011/12  ...             766         125,579\n",
              "6            6  2012/13  ...             749         121,086\n",
              "7            7  2013/14  ...             776         119,071\n",
              "8            8  2014/15  ...             785         117,757\n",
              "9            9  2015/16  ...             808         114,437\n",
              "10          10  2016/17  ...             841         112,953\n",
              "11          11  2017/18  ...             852         111,506\n",
              "\n",
              "[12 rows x 13 columns]"
            ]
          },
          "metadata": {
            "tags": []
          },
          "execution_count": 80
        }
      ]
    },
    {
      "cell_type": "code",
      "metadata": {
        "id": "CdqHmvTl5HSY"
      },
      "source": [
        "data=df.values.T[8]"
      ],
      "execution_count": 83,
      "outputs": []
    },
    {
      "cell_type": "code",
      "metadata": {
        "colab": {
          "base_uri": "https://localhost:8080/"
        },
        "id": "nkgssPGJ5Mak",
        "outputId": "4a527641-63f2-49c7-e8c6-b0a7f06bad74"
      },
      "source": [
        "data"
      ],
      "execution_count": 84,
      "outputs": [
        {
          "output_type": "execute_result",
          "data": {
            "text/plain": [
              "array(['2,111', '2,231', '2,472', '2,607', '2,582', '2,607', '2,563',\n",
              "       '2,665', '2,795', '2,881', '3,104', '3,266'], dtype=object)"
            ]
          },
          "metadata": {
            "tags": []
          },
          "execution_count": 84
        }
      ]
    },
    {
      "cell_type": "code",
      "metadata": {
        "id": "UC9Cb7XC5Ur4"
      },
      "source": [
        "def bootstrap_mean_ci(sample, sample_size, n_bootstraps, ci):\n",
        "  samples = np.zeros((n_bootstraps, sample_size))\n",
        "  for i in range(n_bootstraps):\n",
        "    samples[i] = np.random.choice(sample, sample_size, replace=True)\n",
        "  data_mean = np.mean(samples)\n",
        "  n_mean = np.mean(samples, axis=1)\n",
        "  lower, upper = np.percentile(n_mean, [((100-ci)/2), (100 - (100-ci)/2)])\n",
        "  return data_mean, lower, upper"
      ],
      "execution_count": 14,
      "outputs": []
    },
    {
      "cell_type": "code",
      "metadata": {
        "id": "mOdSWmIf5VUe"
      },
      "source": [
        "boots = []\n",
        "for i in range(100, 50000, 1000):\n",
        "    boot = bootstrap_mean_ci(data, data.shape[0], i, 80)\n",
        "    boots.append([i, boot[0], \"mean\"])\n",
        "    boots.append([i, boot[1], \"lower\"])\n",
        "    boots.append([i, boot[2], \"upper\"])\n",
        "\n",
        "df_boot = pd.DataFrame(boots, columns=['Boostrap Iterations', 'Mean', \"Value\"])\n",
        "sns_plot = sns.lmplot(df_boot.columns[0], df_boot.columns[1], data=df_boot, fit_reg=False, hue=\"Value\")\n",
        "\n",
        "sns_plot.axes[0, 0].set_ylim(0,)\n",
        "sns_plot.axes[0, 0].set_xlim(0, 100000)"
      ],
      "execution_count": null,
      "outputs": []
    },
    {
      "cell_type": "code",
      "metadata": {
        "colab": {
          "base_uri": "https://localhost:8080/",
          "height": 297
        },
        "id": "ENFhkPAYBHkW",
        "outputId": "90219148-c9af-4bb4-966a-a8cbdb620940"
      },
      "source": [
        "df.describe()"
      ],
      "execution_count": 55,
      "outputs": [
        {
          "output_type": "execute_result",
          "data": {
            "text/html": [
              "<div>\n",
              "<style scoped>\n",
              "    .dataframe tbody tr th:only-of-type {\n",
              "        vertical-align: middle;\n",
              "    }\n",
              "\n",
              "    .dataframe tbody tr th {\n",
              "        vertical-align: top;\n",
              "    }\n",
              "\n",
              "    .dataframe thead th {\n",
              "        text-align: right;\n",
              "    }\n",
              "</style>\n",
              "<table border=\"1\" class=\"dataframe\">\n",
              "  <thead>\n",
              "    <tr style=\"text-align: right;\">\n",
              "      <th></th>\n",
              "      <th>All</th>\n",
              "      <th>Asian</th>\n",
              "      <th>Black</th>\n",
              "      <th>Mixed</th>\n",
              "      <th>Other</th>\n",
              "      <th>White</th>\n",
              "    </tr>\n",
              "  </thead>\n",
              "  <tbody>\n",
              "    <tr>\n",
              "      <th>count</th>\n",
              "      <td>12.000000</td>\n",
              "      <td>12.000000</td>\n",
              "      <td>12.000000</td>\n",
              "      <td>12.000000</td>\n",
              "      <td>12.000000</td>\n",
              "      <td>12.000000</td>\n",
              "    </tr>\n",
              "    <tr>\n",
              "      <th>mean</th>\n",
              "      <td>28.271111</td>\n",
              "      <td>16.472222</td>\n",
              "      <td>55.645833</td>\n",
              "      <td>26.800000</td>\n",
              "      <td>20.916667</td>\n",
              "      <td>21.520833</td>\n",
              "    </tr>\n",
              "    <tr>\n",
              "      <th>std</th>\n",
              "      <td>5.138060</td>\n",
              "      <td>2.970251</td>\n",
              "      <td>8.951548</td>\n",
              "      <td>5.281873</td>\n",
              "      <td>3.970535</td>\n",
              "      <td>4.739172</td>\n",
              "    </tr>\n",
              "    <tr>\n",
              "      <th>min</th>\n",
              "      <td>19.413333</td>\n",
              "      <td>11.166667</td>\n",
              "      <td>40.500000</td>\n",
              "      <td>18.400000</td>\n",
              "      <td>14.000000</td>\n",
              "      <td>13.000000</td>\n",
              "    </tr>\n",
              "    <tr>\n",
              "      <th>25%</th>\n",
              "      <td>24.567500</td>\n",
              "      <td>14.500000</td>\n",
              "      <td>49.437500</td>\n",
              "      <td>22.650000</td>\n",
              "      <td>18.000000</td>\n",
              "      <td>18.250000</td>\n",
              "    </tr>\n",
              "    <tr>\n",
              "      <th>50%</th>\n",
              "      <td>29.051667</td>\n",
              "      <td>16.583333</td>\n",
              "      <td>56.375000</td>\n",
              "      <td>27.800000</td>\n",
              "      <td>21.000000</td>\n",
              "      <td>22.750000</td>\n",
              "    </tr>\n",
              "    <tr>\n",
              "      <th>75%</th>\n",
              "      <td>33.170833</td>\n",
              "      <td>19.166667</td>\n",
              "      <td>63.312500</td>\n",
              "      <td>31.650000</td>\n",
              "      <td>24.125000</td>\n",
              "      <td>25.750000</td>\n",
              "    </tr>\n",
              "    <tr>\n",
              "      <th>max</th>\n",
              "      <td>33.770000</td>\n",
              "      <td>20.000000</td>\n",
              "      <td>66.750000</td>\n",
              "      <td>32.200000</td>\n",
              "      <td>26.000000</td>\n",
              "      <td>26.750000</td>\n",
              "    </tr>\n",
              "  </tbody>\n",
              "</table>\n",
              "</div>"
            ],
            "text/plain": [
              "             All      Asian      Black      Mixed      Other      White\n",
              "count  12.000000  12.000000  12.000000  12.000000  12.000000  12.000000\n",
              "mean   28.271111  16.472222  55.645833  26.800000  20.916667  21.520833\n",
              "std     5.138060   2.970251   8.951548   5.281873   3.970535   4.739172\n",
              "min    19.413333  11.166667  40.500000  18.400000  14.000000  13.000000\n",
              "25%    24.567500  14.500000  49.437500  22.650000  18.000000  18.250000\n",
              "50%    29.051667  16.583333  56.375000  27.800000  21.000000  22.750000\n",
              "75%    33.170833  19.166667  63.312500  31.650000  24.125000  25.750000\n",
              "max    33.770000  20.000000  66.750000  32.200000  26.000000  26.750000"
            ]
          },
          "metadata": {
            "tags": []
          },
          "execution_count": 55
        }
      ]
    },
    {
      "cell_type": "code",
      "metadata": {
        "colab": {
          "base_uri": "https://localhost:8080/",
          "height": 279
        },
        "id": "7z97rDidBPTF",
        "outputId": "d352b778-5d9c-4d9d-fa50-9c6503ccead6"
      },
      "source": [
        "df.plot(x='Time',y='All', style='o')\n",
        "plt.show()"
      ],
      "execution_count": 56,
      "outputs": [
        {
          "output_type": "display_data",
          "data": {
            "image/png": "[encoded data removed]",
            "text/plain": [
              "<Figure size 432x288 with 1 Axes>"
            ]
          },
          "metadata": {
            "tags": [],
            "needs_background": "light"
          }
        }
      ]
    },
    {
      "cell_type": "code",
      "metadata": {
        "id": "UwcCUjRlB498"
      },
      "source": [
        "df['Time'] = df['Time'].str[:-3]"
      ],
      "execution_count": 66,
      "outputs": []
    },
    {
      "cell_type": "code",
      "metadata": {
        "colab": {
          "base_uri": "https://localhost:8080/",
          "height": 421
        },
        "id": "YPwgpLT7B-32",
        "outputId": "9e9a13a5-5625-4b98-b86a-088a2a222e3d"
      },
      "source": [
        "df"
      ],
      "execution_count": 67,
      "outputs": [
        {
          "output_type": "execute_result",
          "data": {
            "text/html": [
              "<div>\n",
              "<style scoped>\n",
              "    .dataframe tbody tr th:only-of-type {\n",
              "        vertical-align: middle;\n",
              "    }\n",
              "\n",
              "    .dataframe tbody tr th {\n",
              "        vertical-align: top;\n",
              "    }\n",
              "\n",
              "    .dataframe thead th {\n",
              "        text-align: right;\n",
              "    }\n",
              "</style>\n",
              "<table border=\"1\" class=\"dataframe\">\n",
              "  <thead>\n",
              "    <tr style=\"text-align: right;\">\n",
              "      <th></th>\n",
              "      <th>Time</th>\n",
              "      <th>All</th>\n",
              "      <th>Asian</th>\n",
              "      <th>Black</th>\n",
              "      <th>Mixed</th>\n",
              "      <th>Other</th>\n",
              "      <th>White</th>\n",
              "    </tr>\n",
              "  </thead>\n",
              "  <tbody>\n",
              "    <tr>\n",
              "      <th>0</th>\n",
              "      <td>2006</td>\n",
              "      <td>31.376667</td>\n",
              "      <td>17.333333</td>\n",
              "      <td>60.00</td>\n",
              "      <td>31.8</td>\n",
              "      <td>24.0</td>\n",
              "      <td>23.75</td>\n",
              "    </tr>\n",
              "    <tr>\n",
              "      <th>1</th>\n",
              "      <td>2007</td>\n",
              "      <td>33.060000</td>\n",
              "      <td>19.000000</td>\n",
              "      <td>62.75</td>\n",
              "      <td>31.8</td>\n",
              "      <td>26.0</td>\n",
              "      <td>25.75</td>\n",
              "    </tr>\n",
              "    <tr>\n",
              "      <th>2</th>\n",
              "      <td>2008</td>\n",
              "      <td>33.770000</td>\n",
              "      <td>20.000000</td>\n",
              "      <td>65.00</td>\n",
              "      <td>31.6</td>\n",
              "      <td>25.5</td>\n",
              "      <td>26.75</td>\n",
              "    </tr>\n",
              "    <tr>\n",
              "      <th>3</th>\n",
              "      <td>2009</td>\n",
              "      <td>33.503333</td>\n",
              "      <td>19.666667</td>\n",
              "      <td>65.25</td>\n",
              "      <td>31.6</td>\n",
              "      <td>24.5</td>\n",
              "      <td>26.50</td>\n",
              "    </tr>\n",
              "    <tr>\n",
              "      <th>4</th>\n",
              "      <td>2010</td>\n",
              "      <td>33.706667</td>\n",
              "      <td>19.833333</td>\n",
              "      <td>66.75</td>\n",
              "      <td>32.2</td>\n",
              "      <td>24.0</td>\n",
              "      <td>25.75</td>\n",
              "    </tr>\n",
              "    <tr>\n",
              "      <th>5</th>\n",
              "      <td>2011</td>\n",
              "      <td>30.876667</td>\n",
              "      <td>17.833333</td>\n",
              "      <td>61.00</td>\n",
              "      <td>29.8</td>\n",
              "      <td>22.0</td>\n",
              "      <td>23.75</td>\n",
              "    </tr>\n",
              "    <tr>\n",
              "      <th>6</th>\n",
              "      <td>2012</td>\n",
              "      <td>27.226667</td>\n",
              "      <td>15.833333</td>\n",
              "      <td>52.75</td>\n",
              "      <td>25.8</td>\n",
              "      <td>20.0</td>\n",
              "      <td>21.75</td>\n",
              "    </tr>\n",
              "    <tr>\n",
              "      <th>7</th>\n",
              "      <td>2013</td>\n",
              "      <td>26.436667</td>\n",
              "      <td>15.833333</td>\n",
              "      <td>51.75</td>\n",
              "      <td>24.6</td>\n",
              "      <td>19.0</td>\n",
              "      <td>21.00</td>\n",
              "    </tr>\n",
              "    <tr>\n",
              "      <th>8</th>\n",
              "      <td>2014</td>\n",
              "      <td>24.833333</td>\n",
              "      <td>14.666667</td>\n",
              "      <td>49.75</td>\n",
              "      <td>23.0</td>\n",
              "      <td>18.0</td>\n",
              "      <td>18.75</td>\n",
              "    </tr>\n",
              "    <tr>\n",
              "      <th>9</th>\n",
              "      <td>2015</td>\n",
              "      <td>23.770000</td>\n",
              "      <td>14.000000</td>\n",
              "      <td>48.50</td>\n",
              "      <td>21.6</td>\n",
              "      <td>18.0</td>\n",
              "      <td>16.75</td>\n",
              "    </tr>\n",
              "    <tr>\n",
              "      <th>10</th>\n",
              "      <td>2016</td>\n",
              "      <td>21.280000</td>\n",
              "      <td>12.500000</td>\n",
              "      <td>43.75</td>\n",
              "      <td>19.4</td>\n",
              "      <td>16.0</td>\n",
              "      <td>14.75</td>\n",
              "    </tr>\n",
              "    <tr>\n",
              "      <th>11</th>\n",
              "      <td>2017</td>\n",
              "      <td>19.413333</td>\n",
              "      <td>11.166667</td>\n",
              "      <td>40.50</td>\n",
              "      <td>18.4</td>\n",
              "      <td>14.0</td>\n",
              "      <td>13.00</td>\n",
              "    </tr>\n",
              "  </tbody>\n",
              "</table>\n",
              "</div>"
            ],
            "text/plain": [
              "    Time        All      Asian  Black  Mixed  Other  White\n",
              "0   2006  31.376667  17.333333  60.00   31.8   24.0  23.75\n",
              "1   2007  33.060000  19.000000  62.75   31.8   26.0  25.75\n",
              "2   2008  33.770000  20.000000  65.00   31.6   25.5  26.75\n",
              "3   2009  33.503333  19.666667  65.25   31.6   24.5  26.50\n",
              "4   2010  33.706667  19.833333  66.75   32.2   24.0  25.75\n",
              "5   2011  30.876667  17.833333  61.00   29.8   22.0  23.75\n",
              "6   2012  27.226667  15.833333  52.75   25.8   20.0  21.75\n",
              "7   2013  26.436667  15.833333  51.75   24.6   19.0  21.00\n",
              "8   2014  24.833333  14.666667  49.75   23.0   18.0  18.75\n",
              "9   2015  23.770000  14.000000  48.50   21.6   18.0  16.75\n",
              "10  2016  21.280000  12.500000  43.75   19.4   16.0  14.75\n",
              "11  2017  19.413333  11.166667  40.50   18.4   14.0  13.00"
            ]
          },
          "metadata": {
            "tags": []
          },
          "execution_count": 67
        }
      ]
    },
    {
      "cell_type": "code",
      "metadata": {
        "id": "ABVPH8hsBnsf"
      },
      "source": [
        "X = df.iloc[:, :-1].values\n",
        "y = df.iloc[:, 1].values"
      ],
      "execution_count": 68,
      "outputs": []
    },
    {
      "cell_type": "code",
      "metadata": {
        "id": "y5J7igmRByeB"
      },
      "source": [
        "from sklearn.model_selection import train_test_split\n",
        "X_train, X_test, y_train, y_test = train_test_split(X, y, test_size=0.2, random_state=0)"
      ],
      "execution_count": 69,
      "outputs": []
    },
    {
      "cell_type": "code",
      "metadata": {
        "colab": {
          "base_uri": "https://localhost:8080/"
        },
        "id": "arMKmbrfB0NV",
        "outputId": "f1562adf-eac0-410d-f54f-b159bb9bf74c"
      },
      "source": [
        "from sklearn.linear_model import LinearRegression\n",
        "regressor = LinearRegression()\n",
        "regressor.fit(X_train, y_train)"
      ],
      "execution_count": 70,
      "outputs": [
        {
          "output_type": "execute_result",
          "data": {
            "text/plain": [
              "LinearRegression(copy_X=True, fit_intercept=True, n_jobs=None, normalize=False)"
            ]
          },
          "metadata": {
            "tags": []
          },
          "execution_count": 70
        }
      ]
    },
    {
      "cell_type": "code",
      "metadata": {
        "colab": {
          "base_uri": "https://localhost:8080/"
        },
        "id": "hlmBlMHRCiVK",
        "outputId": "d06ee5b9-f303-4dfe-88ae-1c55aff6614c"
      },
      "source": [
        "print(regressor.intercept_)\n",
        "print(regressor.coef_)"
      ],
      "execution_count": 72,
      "outputs": [
        {
          "output_type": "stream",
          "text": [
            "-1.1119993814645568e-12\n",
            "[5.42205591e-16 1.00000000e+00 1.35169653e-14 2.44249065e-15\n",
            " 6.93889390e-15 3.94129174e-15]\n"
          ],
          "name": "stdout"
        }
      ]
    },
    {
      "cell_type": "code",
      "metadata": {
        "id": "1UeZ2BSUCmuc"
      },
      "source": [
        "y_pred = regressor.predict(X_test)"
      ],
      "execution_count": 73,
      "outputs": []
    },
    {
      "cell_type": "code",
      "metadata": {
        "colab": {
          "base_uri": "https://localhost:8080/",
          "height": 142
        },
        "id": "7RnaNluYComm",
        "outputId": "d73d4dee-871f-45c6-e519-23986c828dda"
      },
      "source": [
        "dataset = pd.DataFrame({'Actual': y_test, 'Predicted': y_pred})\n",
        "dataset"
      ],
      "execution_count": 74,
      "outputs": [
        {
          "output_type": "execute_result",
          "data": {
            "text/html": [
              "<div>\n",
              "<style scoped>\n",
              "    .dataframe tbody tr th:only-of-type {\n",
              "        vertical-align: middle;\n",
              "    }\n",
              "\n",
              "    .dataframe tbody tr th {\n",
              "        vertical-align: top;\n",
              "    }\n",
              "\n",
              "    .dataframe thead th {\n",
              "        text-align: right;\n",
              "    }\n",
              "</style>\n",
              "<table border=\"1\" class=\"dataframe\">\n",
              "  <thead>\n",
              "    <tr style=\"text-align: right;\">\n",
              "      <th></th>\n",
              "      <th>Actual</th>\n",
              "      <th>Predicted</th>\n",
              "    </tr>\n",
              "  </thead>\n",
              "  <tbody>\n",
              "    <tr>\n",
              "      <th>0</th>\n",
              "      <td>27.226667</td>\n",
              "      <td>27.226667</td>\n",
              "    </tr>\n",
              "    <tr>\n",
              "      <th>1</th>\n",
              "      <td>19.413333</td>\n",
              "      <td>19.413333</td>\n",
              "    </tr>\n",
              "    <tr>\n",
              "      <th>2</th>\n",
              "      <td>33.706667</td>\n",
              "      <td>33.706667</td>\n",
              "    </tr>\n",
              "  </tbody>\n",
              "</table>\n",
              "</div>"
            ],
            "text/plain": [
              "      Actual  Predicted\n",
              "0  27.226667  27.226667\n",
              "1  19.413333  19.413333\n",
              "2  33.706667  33.706667"
            ]
          },
          "metadata": {
            "tags": []
          },
          "execution_count": 74
        }
      ]
    },
    {
      "cell_type": "code",
      "metadata": {
        "colab": {
          "base_uri": "https://localhost:8080/"
        },
        "id": "XeqlznnvCxe3",
        "outputId": "a14e2ebf-e686-4fda-a56c-f5f50c5344d2"
      },
      "source": [
        "from sklearn import metrics\n",
        "print('Mean Absolute Error:', metrics.mean_absolute_error(y_test, y_pred))\n",
        "print('Mean Squared Error:', metrics.mean_squared_error(y_test, y_pred))\n",
        "print('Root Mean Squared Error:', np.sqrt(metrics.mean_squared_error(y_test, y_pred)))"
      ],
      "execution_count": 75,
      "outputs": [
        {
          "output_type": "stream",
          "text": [
            "Mean Absolute Error: 4.736951571734001e-15\n",
            "Mean Squared Error: 3.3658065289429835e-29\n",
            "Root Mean Squared Error: 5.801557143511545e-15\n"
          ],
          "name": "stdout"
        }
      ]
    }
  ]
}