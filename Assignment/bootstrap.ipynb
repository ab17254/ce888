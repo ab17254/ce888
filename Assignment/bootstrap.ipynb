{
  "nbformat": 4,
  "nbformat_minor": 0,
  "metadata": {
    "colab": {
      "name": "bootstrap.ipynb",
      "provenance": [],
      "authorship_tag": "ABX9TyPeLw7XFY8uldj0hos3l2jK",
      "include_colab_link": true
    },
    "kernelspec": {
      "name": "python3",
      "display_name": "Python 3"
    },
    "language_info": {
      "name": "python"
    }
  },
  "cells": [
    {
      "cell_type": "markdown",
      "metadata": {
        "id": "view-in-github",
        "colab_type": "text"
      },
      "source": [
        "<a href=\"https://colab.research.google.com/github/ab17254/ce888/blob/main/Assignment/bootstrap.ipynb\" target=\"_parent\"><img src=\"https://colab.research.google.com/assets/colab-badge.svg\" alt=\"Open In Colab\"/></a>"
      ]
    },
    {
      "cell_type": "code",
      "metadata": {
        "id": "CBoeCbZm3Lvh"
      },
      "source": [
        "import matplotlib.pyplot as plt\n",
        "import pandas as pd\n",
        "import seaborn as sns\n",
        "import numpy as np"
      ],
      "execution_count": 12,
      "outputs": []
    },
    {
      "cell_type": "code",
      "metadata": {
        "colab": {
          "base_uri": "https://localhost:8080/"
        },
        "id": "amxn7p4247N5",
        "outputId": "29fa5004-b036-4146-9ff5-0160ef5e8148"
      },
      "source": [
        "!unzip /content/data.zip"
      ],
      "execution_count": 13,
      "outputs": [
        {
          "output_type": "stream",
          "text": [
            "Archive:  /content/data.zip\n",
            "replace content/data/arrest_manchester.csv? [y]es, [n]o, [A]ll, [N]one, [r]ename: A\n",
            "  inflating: content/data/arrest_manchester.csv  \n",
            "  inflating: content/data/data_all.csv  \n",
            "  inflating: content/data/arrest_london.csv  \n",
            "  inflating: content/data/arrest_essex.csv  \n",
            "  inflating: content/data/arrest_wiltshire.csv  \n",
            "  inflating: content/data/arrest_lancashire.csv  \n",
            "  inflating: content/data/arrest_suffolk.csv  \n",
            "  inflating: content/data/arrest_all.csv  \n"
          ],
          "name": "stdout"
        }
      ]
    },
    {
      "cell_type": "code",
      "metadata": {
        "colab": {
          "base_uri": "https://localhost:8080/",
          "height": 421
        },
        "id": "2dvyeBDo5E8U",
        "outputId": "6ad0b26f-c085-4d2f-f9f1-f420bfbfbf61"
      },
      "source": [
        "df = pd.read_csv('/content/content/data/data_all.csv')\n",
        "df"
      ],
      "execution_count": 14,
      "outputs": [
        {
          "output_type": "execute_result",
          "data": {
            "text/html": [
              "<div>\n",
              "<style scoped>\n",
              "    .dataframe tbody tr th:only-of-type {\n",
              "        vertical-align: middle;\n",
              "    }\n",
              "\n",
              "    .dataframe tbody tr th {\n",
              "        vertical-align: top;\n",
              "    }\n",
              "\n",
              "    .dataframe thead th {\n",
              "        text-align: right;\n",
              "    }\n",
              "</style>\n",
              "<table border=\"1\" class=\"dataframe\">\n",
              "  <thead>\n",
              "    <tr style=\"text-align: right;\">\n",
              "      <th></th>\n",
              "      <th>Unnamed: 0</th>\n",
              "      <th>Time</th>\n",
              "      <th>All</th>\n",
              "      <th>Asian</th>\n",
              "      <th>Black</th>\n",
              "      <th>Mixed</th>\n",
              "      <th>Other</th>\n",
              "      <th>White</th>\n",
              "      <th>Asian Officers</th>\n",
              "      <th>Black Officers</th>\n",
              "      <th>Mixed Officers</th>\n",
              "      <th>Other Officers</th>\n",
              "      <th>White Officers</th>\n",
              "    </tr>\n",
              "  </thead>\n",
              "  <tbody>\n",
              "    <tr>\n",
              "      <th>0</th>\n",
              "      <td>0</td>\n",
              "      <td>2006/07</td>\n",
              "      <td>31.376667</td>\n",
              "      <td>17.333333</td>\n",
              "      <td>60.00</td>\n",
              "      <td>31.8</td>\n",
              "      <td>24.0</td>\n",
              "      <td>23.75</td>\n",
              "      <td>2111</td>\n",
              "      <td>1350</td>\n",
              "      <td>1419</td>\n",
              "      <td>632</td>\n",
              "      <td>134372</td>\n",
              "    </tr>\n",
              "    <tr>\n",
              "      <th>1</th>\n",
              "      <td>1</td>\n",
              "      <td>2007/08</td>\n",
              "      <td>33.060000</td>\n",
              "      <td>19.000000</td>\n",
              "      <td>62.75</td>\n",
              "      <td>31.8</td>\n",
              "      <td>26.0</td>\n",
              "      <td>25.75</td>\n",
              "      <td>2231</td>\n",
              "      <td>1371</td>\n",
              "      <td>1525</td>\n",
              "      <td>656</td>\n",
              "      <td>134000</td>\n",
              "    </tr>\n",
              "    <tr>\n",
              "      <th>2</th>\n",
              "      <td>2</td>\n",
              "      <td>2008/09</td>\n",
              "      <td>33.770000</td>\n",
              "      <td>20.000000</td>\n",
              "      <td>65.00</td>\n",
              "      <td>31.6</td>\n",
              "      <td>25.5</td>\n",
              "      <td>26.75</td>\n",
              "      <td>2472</td>\n",
              "      <td>1427</td>\n",
              "      <td>1699</td>\n",
              "      <td>689</td>\n",
              "      <td>135651</td>\n",
              "    </tr>\n",
              "    <tr>\n",
              "      <th>3</th>\n",
              "      <td>3</td>\n",
              "      <td>2009/10</td>\n",
              "      <td>33.503333</td>\n",
              "      <td>19.666667</td>\n",
              "      <td>65.25</td>\n",
              "      <td>31.6</td>\n",
              "      <td>24.5</td>\n",
              "      <td>26.50</td>\n",
              "      <td>2607</td>\n",
              "      <td>1446</td>\n",
              "      <td>1844</td>\n",
              "      <td>745</td>\n",
              "      <td>135293</td>\n",
              "    </tr>\n",
              "    <tr>\n",
              "      <th>4</th>\n",
              "      <td>4</td>\n",
              "      <td>2010/11</td>\n",
              "      <td>33.706667</td>\n",
              "      <td>19.833333</td>\n",
              "      <td>66.75</td>\n",
              "      <td>32.2</td>\n",
              "      <td>24.0</td>\n",
              "      <td>25.75</td>\n",
              "      <td>2582</td>\n",
              "      <td>1442</td>\n",
              "      <td>1838</td>\n",
              "      <td>754</td>\n",
              "      <td>130870</td>\n",
              "    </tr>\n",
              "    <tr>\n",
              "      <th>5</th>\n",
              "      <td>5</td>\n",
              "      <td>2011/12</td>\n",
              "      <td>30.876667</td>\n",
              "      <td>17.833333</td>\n",
              "      <td>61.00</td>\n",
              "      <td>29.8</td>\n",
              "      <td>22.0</td>\n",
              "      <td>23.75</td>\n",
              "      <td>2607</td>\n",
              "      <td>1420</td>\n",
              "      <td>1871</td>\n",
              "      <td>766</td>\n",
              "      <td>125579</td>\n",
              "    </tr>\n",
              "    <tr>\n",
              "      <th>6</th>\n",
              "      <td>6</td>\n",
              "      <td>2012/13</td>\n",
              "      <td>27.226667</td>\n",
              "      <td>15.833333</td>\n",
              "      <td>52.75</td>\n",
              "      <td>25.8</td>\n",
              "      <td>20.0</td>\n",
              "      <td>21.75</td>\n",
              "      <td>2563</td>\n",
              "      <td>1361</td>\n",
              "      <td>1865</td>\n",
              "      <td>749</td>\n",
              "      <td>121086</td>\n",
              "    </tr>\n",
              "    <tr>\n",
              "      <th>7</th>\n",
              "      <td>7</td>\n",
              "      <td>2013/14</td>\n",
              "      <td>26.436667</td>\n",
              "      <td>15.833333</td>\n",
              "      <td>51.75</td>\n",
              "      <td>24.6</td>\n",
              "      <td>19.0</td>\n",
              "      <td>21.00</td>\n",
              "      <td>2665</td>\n",
              "      <td>1352</td>\n",
              "      <td>1922</td>\n",
              "      <td>776</td>\n",
              "      <td>119071</td>\n",
              "    </tr>\n",
              "    <tr>\n",
              "      <th>8</th>\n",
              "      <td>8</td>\n",
              "      <td>2014/15</td>\n",
              "      <td>24.833333</td>\n",
              "      <td>14.666667</td>\n",
              "      <td>49.75</td>\n",
              "      <td>23.0</td>\n",
              "      <td>18.0</td>\n",
              "      <td>18.75</td>\n",
              "      <td>2795</td>\n",
              "      <td>1373</td>\n",
              "      <td>2028</td>\n",
              "      <td>785</td>\n",
              "      <td>117757</td>\n",
              "    </tr>\n",
              "    <tr>\n",
              "      <th>9</th>\n",
              "      <td>9</td>\n",
              "      <td>2015/16</td>\n",
              "      <td>23.770000</td>\n",
              "      <td>14.000000</td>\n",
              "      <td>48.50</td>\n",
              "      <td>21.6</td>\n",
              "      <td>18.0</td>\n",
              "      <td>16.75</td>\n",
              "      <td>2881</td>\n",
              "      <td>1433</td>\n",
              "      <td>2096</td>\n",
              "      <td>808</td>\n",
              "      <td>114437</td>\n",
              "    </tr>\n",
              "    <tr>\n",
              "      <th>10</th>\n",
              "      <td>10</td>\n",
              "      <td>2016/17</td>\n",
              "      <td>21.280000</td>\n",
              "      <td>12.500000</td>\n",
              "      <td>43.75</td>\n",
              "      <td>19.4</td>\n",
              "      <td>16.0</td>\n",
              "      <td>14.75</td>\n",
              "      <td>3104</td>\n",
              "      <td>1432</td>\n",
              "      <td>2185</td>\n",
              "      <td>841</td>\n",
              "      <td>112953</td>\n",
              "    </tr>\n",
              "    <tr>\n",
              "      <th>11</th>\n",
              "      <td>11</td>\n",
              "      <td>2017/18</td>\n",
              "      <td>19.413333</td>\n",
              "      <td>11.166667</td>\n",
              "      <td>40.50</td>\n",
              "      <td>18.4</td>\n",
              "      <td>14.0</td>\n",
              "      <td>13.00</td>\n",
              "      <td>3266</td>\n",
              "      <td>1424</td>\n",
              "      <td>2309</td>\n",
              "      <td>852</td>\n",
              "      <td>111506</td>\n",
              "    </tr>\n",
              "  </tbody>\n",
              "</table>\n",
              "</div>"
            ],
            "text/plain": [
              "    Unnamed: 0     Time  ...  Other Officers  White Officers\n",
              "0            0  2006/07  ...             632          134372\n",
              "1            1  2007/08  ...             656          134000\n",
              "2            2  2008/09  ...             689          135651\n",
              "3            3  2009/10  ...             745          135293\n",
              "4            4  2010/11  ...             754          130870\n",
              "5            5  2011/12  ...             766          125579\n",
              "6            6  2012/13  ...             749          121086\n",
              "7            7  2013/14  ...             776          119071\n",
              "8            8  2014/15  ...             785          117757\n",
              "9            9  2015/16  ...             808          114437\n",
              "10          10  2016/17  ...             841          112953\n",
              "11          11  2017/18  ...             852          111506\n",
              "\n",
              "[12 rows x 13 columns]"
            ]
          },
          "metadata": {
            "tags": []
          },
          "execution_count": 14
        }
      ]
    },
    {
      "cell_type": "code",
      "metadata": {
        "id": "CdqHmvTl5HSY"
      },
      "source": [
        "data=df.values.T[8]"
      ],
      "execution_count": 40,
      "outputs": []
    },
    {
      "cell_type": "code",
      "metadata": {
        "colab": {
          "base_uri": "https://localhost:8080/"
        },
        "id": "nkgssPGJ5Mak",
        "outputId": "0f05c7e4-17c8-468a-f6c7-cd9dbbd6fece"
      },
      "source": [
        "data"
      ],
      "execution_count": 41,
      "outputs": [
        {
          "output_type": "execute_result",
          "data": {
            "text/plain": [
              "array([2111, 2231, 2472, 2607, 2582, 2607, 2563, 2665, 2795, 2881, 3104,\n",
              "       3266], dtype=object)"
            ]
          },
          "metadata": {
            "tags": []
          },
          "execution_count": 41
        }
      ]
    },
    {
      "cell_type": "code",
      "metadata": {
        "id": "RtlG1OMqW10Z",
        "outputId": "8383de76-d43a-4360-fd43-65d714092d29",
        "colab": {
          "base_uri": "https://localhost:8080/"
        }
      },
      "source": [
        "mean, lower, upper = bootstrap_mean_ci(data, data.shape[0], 100000, 80)\n",
        "print('''\n",
        "  Mean: {}\n",
        "  Lower Mean (95% CI): {}8\n",
        "  Upper Mean (95% CI): {}\n",
        "'''.format(mean, lower, upper))"
      ],
      "execution_count": 45,
      "outputs": [
        {
          "output_type": "stream",
          "text": [
            "\n",
            "  Mean: 2656.7798866666667\n",
            "  Lower Mean (95% CI): 2541.90833333333338\n",
            "  Upper Mean (95% CI): 2773.0833333333335\n",
            "\n"
          ],
          "name": "stdout"
        }
      ]
    },
    {
      "cell_type": "code",
      "metadata": {
        "id": "UC9Cb7XC5Ur4"
      },
      "source": [
        "def bootstrap_mean_ci(sample, sample_size, n_bootstraps, ci):\n",
        "  samples = np.zeros((n_bootstraps, sample_size))\n",
        "  for i in range(n_bootstraps):\n",
        "    samples[i] = np.random.choice(sample, sample_size, replace=True)\n",
        "  data_mean = np.mean(samples)\n",
        "  n_mean = np.mean(samples, axis=1)\n",
        "  lower, upper = np.percentile(n_mean, [((100-ci)/2), (100 - (100-ci)/2)])\n",
        "  return data_mean, lower, upper"
      ],
      "execution_count": 18,
      "outputs": []
    },
    {
      "cell_type": "code",
      "metadata": {
        "id": "mOdSWmIf5VUe",
        "colab": {
          "base_uri": "https://localhost:8080/",
          "height": 454
        },
        "outputId": "a29d2022-b205-45f5-f2c9-588d70ff19cf"
      },
      "source": [
        "boots = []\n",
        "for i in range(100, 50000, 1000):\n",
        "    boot = bootstrap_mean_ci(data, data.shape[0], i, 80)\n",
        "    boots.append([i, boot[0], \"mean\"])\n",
        "    boots.append([i, boot[1], \"lower\"])\n",
        "    boots.append([i, boot[2], \"upper\"])\n",
        "\n",
        "df_boot = pd.DataFrame(boots, columns=['Boostrap Iterations', 'Mean', \"Value\"])\n",
        "sns_plot = sns.lmplot(df_boot.columns[0], df_boot.columns[1], data=df_boot, fit_reg=False, hue=\"Value\")\n",
        "\n",
        "sns_plot.axes[0, 0].set_ylim(0,)\n",
        "sns_plot.axes[0, 0].set_xlim(0, 100000)"
      ],
      "execution_count": 19,
      "outputs": [
        {
          "output_type": "stream",
          "text": [
            "/usr/local/lib/python3.7/dist-packages/seaborn/_decorators.py:43: FutureWarning: Pass the following variables as keyword args: x, y. From version 0.12, the only valid positional argument will be `data`, and passing other arguments without an explicit keyword will result in an error or misinterpretation.\n",
            "  FutureWarning\n"
          ],
          "name": "stderr"
        },
        {
          "output_type": "execute_result",
          "data": {
            "text/plain": [
              "(0.0, 100000.0)"
            ]
          },
          "metadata": {
            "tags": []
          },
          "execution_count": 19
        },
        {
          "output_type": "display_data",
          "data": {
            "image/png": "[encoded data removed]",
            "text/plain": [
              "<Figure size 425.125x360 with 1 Axes>"
            ]
          },
          "metadata": {
            "tags": [],
            "needs_background": "light"
          }
        }
      ]
    },
    {
      "cell_type": "code",
      "metadata": {
        "colab": {
          "base_uri": "https://localhost:8080/",
          "height": 297
        },
        "id": "ENFhkPAYBHkW",
        "outputId": "c4d0dd13-d628-49e9-830c-a880bef5f7c3"
      },
      "source": [
        "df.describe()"
      ],
      "execution_count": 20,
      "outputs": [
        {
          "output_type": "execute_result",
          "data": {
            "text/html": [
              "<div>\n",
              "<style scoped>\n",
              "    .dataframe tbody tr th:only-of-type {\n",
              "        vertical-align: middle;\n",
              "    }\n",
              "\n",
              "    .dataframe tbody tr th {\n",
              "        vertical-align: top;\n",
              "    }\n",
              "\n",
              "    .dataframe thead th {\n",
              "        text-align: right;\n",
              "    }\n",
              "</style>\n",
              "<table border=\"1\" class=\"dataframe\">\n",
              "  <thead>\n",
              "    <tr style=\"text-align: right;\">\n",
              "      <th></th>\n",
              "      <th>Unnamed: 0</th>\n",
              "      <th>All</th>\n",
              "      <th>Asian</th>\n",
              "      <th>Black</th>\n",
              "      <th>Mixed</th>\n",
              "      <th>Other</th>\n",
              "      <th>White</th>\n",
              "      <th>Asian Officers</th>\n",
              "      <th>Black Officers</th>\n",
              "      <th>Mixed Officers</th>\n",
              "      <th>Other Officers</th>\n",
              "      <th>White Officers</th>\n",
              "    </tr>\n",
              "  </thead>\n",
              "  <tbody>\n",
              "    <tr>\n",
              "      <th>count</th>\n",
              "      <td>12.000000</td>\n",
              "      <td>12.000000</td>\n",
              "      <td>12.000000</td>\n",
              "      <td>12.000000</td>\n",
              "      <td>12.000000</td>\n",
              "      <td>12.000000</td>\n",
              "      <td>12.000000</td>\n",
              "      <td>12.000000</td>\n",
              "      <td>12.000000</td>\n",
              "      <td>12.000000</td>\n",
              "      <td>12.000000</td>\n",
              "      <td>12.000000</td>\n",
              "    </tr>\n",
              "    <tr>\n",
              "      <th>mean</th>\n",
              "      <td>5.500000</td>\n",
              "      <td>28.271111</td>\n",
              "      <td>16.472222</td>\n",
              "      <td>55.645833</td>\n",
              "      <td>26.800000</td>\n",
              "      <td>20.916667</td>\n",
              "      <td>21.520833</td>\n",
              "      <td>2657.000000</td>\n",
              "      <td>1402.583333</td>\n",
              "      <td>1883.416667</td>\n",
              "      <td>754.416667</td>\n",
              "      <td>124381.250000</td>\n",
              "    </tr>\n",
              "    <tr>\n",
              "      <th>std</th>\n",
              "      <td>3.605551</td>\n",
              "      <td>5.138060</td>\n",
              "      <td>2.970251</td>\n",
              "      <td>8.951548</td>\n",
              "      <td>5.281873</td>\n",
              "      <td>3.970535</td>\n",
              "      <td>4.739172</td>\n",
              "      <td>326.587313</td>\n",
              "      <td>37.553497</td>\n",
              "      <td>256.182271</td>\n",
              "      <td>67.752837</td>\n",
              "      <td>9342.720337</td>\n",
              "    </tr>\n",
              "    <tr>\n",
              "      <th>min</th>\n",
              "      <td>0.000000</td>\n",
              "      <td>19.413333</td>\n",
              "      <td>11.166667</td>\n",
              "      <td>40.500000</td>\n",
              "      <td>18.400000</td>\n",
              "      <td>14.000000</td>\n",
              "      <td>13.000000</td>\n",
              "      <td>2111.000000</td>\n",
              "      <td>1350.000000</td>\n",
              "      <td>1419.000000</td>\n",
              "      <td>632.000000</td>\n",
              "      <td>111506.000000</td>\n",
              "    </tr>\n",
              "    <tr>\n",
              "      <th>25%</th>\n",
              "      <td>2.750000</td>\n",
              "      <td>24.567500</td>\n",
              "      <td>14.500000</td>\n",
              "      <td>49.437500</td>\n",
              "      <td>22.650000</td>\n",
              "      <td>18.000000</td>\n",
              "      <td>18.250000</td>\n",
              "      <td>2540.250000</td>\n",
              "      <td>1368.500000</td>\n",
              "      <td>1803.250000</td>\n",
              "      <td>731.000000</td>\n",
              "      <td>116927.000000</td>\n",
              "    </tr>\n",
              "    <tr>\n",
              "      <th>50%</th>\n",
              "      <td>5.500000</td>\n",
              "      <td>29.051667</td>\n",
              "      <td>16.583333</td>\n",
              "      <td>56.375000</td>\n",
              "      <td>27.800000</td>\n",
              "      <td>21.000000</td>\n",
              "      <td>22.750000</td>\n",
              "      <td>2607.000000</td>\n",
              "      <td>1422.000000</td>\n",
              "      <td>1868.000000</td>\n",
              "      <td>760.000000</td>\n",
              "      <td>123332.500000</td>\n",
              "    </tr>\n",
              "    <tr>\n",
              "      <th>75%</th>\n",
              "      <td>8.250000</td>\n",
              "      <td>33.170833</td>\n",
              "      <td>19.166667</td>\n",
              "      <td>63.312500</td>\n",
              "      <td>31.650000</td>\n",
              "      <td>24.125000</td>\n",
              "      <td>25.750000</td>\n",
              "      <td>2816.500000</td>\n",
              "      <td>1432.250000</td>\n",
              "      <td>2045.000000</td>\n",
              "      <td>790.750000</td>\n",
              "      <td>134093.000000</td>\n",
              "    </tr>\n",
              "    <tr>\n",
              "      <th>max</th>\n",
              "      <td>11.000000</td>\n",
              "      <td>33.770000</td>\n",
              "      <td>20.000000</td>\n",
              "      <td>66.750000</td>\n",
              "      <td>32.200000</td>\n",
              "      <td>26.000000</td>\n",
              "      <td>26.750000</td>\n",
              "      <td>3266.000000</td>\n",
              "      <td>1446.000000</td>\n",
              "      <td>2309.000000</td>\n",
              "      <td>852.000000</td>\n",
              "      <td>135651.000000</td>\n",
              "    </tr>\n",
              "  </tbody>\n",
              "</table>\n",
              "</div>"
            ],
            "text/plain": [
              "       Unnamed: 0        All  ...  Other Officers  White Officers\n",
              "count   12.000000  12.000000  ...       12.000000       12.000000\n",
              "mean     5.500000  28.271111  ...      754.416667   124381.250000\n",
              "std      3.605551   5.138060  ...       67.752837     9342.720337\n",
              "min      0.000000  19.413333  ...      632.000000   111506.000000\n",
              "25%      2.750000  24.567500  ...      731.000000   116927.000000\n",
              "50%      5.500000  29.051667  ...      760.000000   123332.500000\n",
              "75%      8.250000  33.170833  ...      790.750000   134093.000000\n",
              "max     11.000000  33.770000  ...      852.000000   135651.000000\n",
              "\n",
              "[8 rows x 12 columns]"
            ]
          },
          "metadata": {
            "tags": []
          },
          "execution_count": 20
        }
      ]
    },
    {
      "cell_type": "code",
      "metadata": {
        "colab": {
          "base_uri": "https://localhost:8080/",
          "height": 279
        },
        "id": "7z97rDidBPTF",
        "outputId": "8d940ba0-6e51-4547-8544-4151dd7bc09f"
      },
      "source": [
        "df.plot(x='Time',y='All', style='o')\n",
        "plt.show()"
      ],
      "execution_count": 21,
      "outputs": [
        {
          "output_type": "display_data",
          "data": {
            "image/png": "[encoded data removed]",
            "text/plain": [
              "<Figure size 432x288 with 1 Axes>"
            ]
          },
          "metadata": {
            "tags": [],
            "needs_background": "light"
          }
        }
      ]
    },
    {
      "cell_type": "code",
      "metadata": {
        "id": "UwcCUjRlB498"
      },
      "source": [
        "df['Time'] = df['Time'].str[:-3]"
      ],
      "execution_count": 22,
      "outputs": []
    },
    {
      "cell_type": "code",
      "metadata": {
        "id": "cVKjDDBZw1kX"
      },
      "source": [
        "from sklearn.model_selection import KFold, cross_val_score, GridSearchCV\n",
        "from sklearn.preprocessing import StandardScaler\n",
        "from sklearn.model_selection import train_test_split\n",
        "from sklearn.linear_model import LinearRegression\n",
        "from sklearn import metrics\n"
      ],
      "execution_count": 132,
      "outputs": []
    },
    {
      "cell_type": "code",
      "metadata": {
        "colab": {
          "base_uri": "https://localhost:8080/",
          "height": 421
        },
        "id": "YPwgpLT7B-32",
        "outputId": "e1b41f03-730e-4a8c-f41e-3bacd6866560"
      },
      "source": [
        "df"
      ],
      "execution_count": 98,
      "outputs": [
        {
          "output_type": "execute_result",
          "data": {
            "text/html": [
              "<div>\n",
              "<style scoped>\n",
              "    .dataframe tbody tr th:only-of-type {\n",
              "        vertical-align: middle;\n",
              "    }\n",
              "\n",
              "    .dataframe tbody tr th {\n",
              "        vertical-align: top;\n",
              "    }\n",
              "\n",
              "    .dataframe thead th {\n",
              "        text-align: right;\n",
              "    }\n",
              "</style>\n",
              "<table border=\"1\" class=\"dataframe\">\n",
              "  <thead>\n",
              "    <tr style=\"text-align: right;\">\n",
              "      <th></th>\n",
              "      <th>Unnamed: 0</th>\n",
              "      <th>Time</th>\n",
              "      <th>All</th>\n",
              "      <th>Asian</th>\n",
              "      <th>Black</th>\n",
              "      <th>Mixed</th>\n",
              "      <th>Other</th>\n",
              "      <th>White</th>\n",
              "      <th>Asian Officers</th>\n",
              "      <th>Black Officers</th>\n",
              "      <th>Mixed Officers</th>\n",
              "      <th>Other Officers</th>\n",
              "      <th>White Officers</th>\n",
              "    </tr>\n",
              "  </thead>\n",
              "  <tbody>\n",
              "    <tr>\n",
              "      <th>0</th>\n",
              "      <td>0</td>\n",
              "      <td>2006</td>\n",
              "      <td>31.376667</td>\n",
              "      <td>17.333333</td>\n",
              "      <td>60.00</td>\n",
              "      <td>31.8</td>\n",
              "      <td>24.0</td>\n",
              "      <td>23.75</td>\n",
              "      <td>2111</td>\n",
              "      <td>1350</td>\n",
              "      <td>1419</td>\n",
              "      <td>632</td>\n",
              "      <td>134372</td>\n",
              "    </tr>\n",
              "    <tr>\n",
              "      <th>1</th>\n",
              "      <td>1</td>\n",
              "      <td>2007</td>\n",
              "      <td>33.060000</td>\n",
              "      <td>19.000000</td>\n",
              "      <td>62.75</td>\n",
              "      <td>31.8</td>\n",
              "      <td>26.0</td>\n",
              "      <td>25.75</td>\n",
              "      <td>2231</td>\n",
              "      <td>1371</td>\n",
              "      <td>1525</td>\n",
              "      <td>656</td>\n",
              "      <td>134000</td>\n",
              "    </tr>\n",
              "    <tr>\n",
              "      <th>2</th>\n",
              "      <td>2</td>\n",
              "      <td>2008</td>\n",
              "      <td>33.770000</td>\n",
              "      <td>20.000000</td>\n",
              "      <td>65.00</td>\n",
              "      <td>31.6</td>\n",
              "      <td>25.5</td>\n",
              "      <td>26.75</td>\n",
              "      <td>2472</td>\n",
              "      <td>1427</td>\n",
              "      <td>1699</td>\n",
              "      <td>689</td>\n",
              "      <td>135651</td>\n",
              "    </tr>\n",
              "    <tr>\n",
              "      <th>3</th>\n",
              "      <td>3</td>\n",
              "      <td>2009</td>\n",
              "      <td>33.503333</td>\n",
              "      <td>19.666667</td>\n",
              "      <td>65.25</td>\n",
              "      <td>31.6</td>\n",
              "      <td>24.5</td>\n",
              "      <td>26.50</td>\n",
              "      <td>2607</td>\n",
              "      <td>1446</td>\n",
              "      <td>1844</td>\n",
              "      <td>745</td>\n",
              "      <td>135293</td>\n",
              "    </tr>\n",
              "    <tr>\n",
              "      <th>4</th>\n",
              "      <td>4</td>\n",
              "      <td>2010</td>\n",
              "      <td>33.706667</td>\n",
              "      <td>19.833333</td>\n",
              "      <td>66.75</td>\n",
              "      <td>32.2</td>\n",
              "      <td>24.0</td>\n",
              "      <td>25.75</td>\n",
              "      <td>2582</td>\n",
              "      <td>1442</td>\n",
              "      <td>1838</td>\n",
              "      <td>754</td>\n",
              "      <td>130870</td>\n",
              "    </tr>\n",
              "    <tr>\n",
              "      <th>5</th>\n",
              "      <td>5</td>\n",
              "      <td>2011</td>\n",
              "      <td>30.876667</td>\n",
              "      <td>17.833333</td>\n",
              "      <td>61.00</td>\n",
              "      <td>29.8</td>\n",
              "      <td>22.0</td>\n",
              "      <td>23.75</td>\n",
              "      <td>2607</td>\n",
              "      <td>1420</td>\n",
              "      <td>1871</td>\n",
              "      <td>766</td>\n",
              "      <td>125579</td>\n",
              "    </tr>\n",
              "    <tr>\n",
              "      <th>6</th>\n",
              "      <td>6</td>\n",
              "      <td>2012</td>\n",
              "      <td>27.226667</td>\n",
              "      <td>15.833333</td>\n",
              "      <td>52.75</td>\n",
              "      <td>25.8</td>\n",
              "      <td>20.0</td>\n",
              "      <td>21.75</td>\n",
              "      <td>2563</td>\n",
              "      <td>1361</td>\n",
              "      <td>1865</td>\n",
              "      <td>749</td>\n",
              "      <td>121086</td>\n",
              "    </tr>\n",
              "    <tr>\n",
              "      <th>7</th>\n",
              "      <td>7</td>\n",
              "      <td>2013</td>\n",
              "      <td>26.436667</td>\n",
              "      <td>15.833333</td>\n",
              "      <td>51.75</td>\n",
              "      <td>24.6</td>\n",
              "      <td>19.0</td>\n",
              "      <td>21.00</td>\n",
              "      <td>2665</td>\n",
              "      <td>1352</td>\n",
              "      <td>1922</td>\n",
              "      <td>776</td>\n",
              "      <td>119071</td>\n",
              "    </tr>\n",
              "    <tr>\n",
              "      <th>8</th>\n",
              "      <td>8</td>\n",
              "      <td>2014</td>\n",
              "      <td>24.833333</td>\n",
              "      <td>14.666667</td>\n",
              "      <td>49.75</td>\n",
              "      <td>23.0</td>\n",
              "      <td>18.0</td>\n",
              "      <td>18.75</td>\n",
              "      <td>2795</td>\n",
              "      <td>1373</td>\n",
              "      <td>2028</td>\n",
              "      <td>785</td>\n",
              "      <td>117757</td>\n",
              "    </tr>\n",
              "    <tr>\n",
              "      <th>9</th>\n",
              "      <td>9</td>\n",
              "      <td>2015</td>\n",
              "      <td>23.770000</td>\n",
              "      <td>14.000000</td>\n",
              "      <td>48.50</td>\n",
              "      <td>21.6</td>\n",
              "      <td>18.0</td>\n",
              "      <td>16.75</td>\n",
              "      <td>2881</td>\n",
              "      <td>1433</td>\n",
              "      <td>2096</td>\n",
              "      <td>808</td>\n",
              "      <td>114437</td>\n",
              "    </tr>\n",
              "    <tr>\n",
              "      <th>10</th>\n",
              "      <td>10</td>\n",
              "      <td>2016</td>\n",
              "      <td>21.280000</td>\n",
              "      <td>12.500000</td>\n",
              "      <td>43.75</td>\n",
              "      <td>19.4</td>\n",
              "      <td>16.0</td>\n",
              "      <td>14.75</td>\n",
              "      <td>3104</td>\n",
              "      <td>1432</td>\n",
              "      <td>2185</td>\n",
              "      <td>841</td>\n",
              "      <td>112953</td>\n",
              "    </tr>\n",
              "    <tr>\n",
              "      <th>11</th>\n",
              "      <td>11</td>\n",
              "      <td>2017</td>\n",
              "      <td>19.413333</td>\n",
              "      <td>11.166667</td>\n",
              "      <td>40.50</td>\n",
              "      <td>18.4</td>\n",
              "      <td>14.0</td>\n",
              "      <td>13.00</td>\n",
              "      <td>3266</td>\n",
              "      <td>1424</td>\n",
              "      <td>2309</td>\n",
              "      <td>852</td>\n",
              "      <td>111506</td>\n",
              "    </tr>\n",
              "  </tbody>\n",
              "</table>\n",
              "</div>"
            ],
            "text/plain": [
              "    Unnamed: 0  Time        All  ...  Mixed Officers  Other Officers  White Officers\n",
              "0            0  2006  31.376667  ...            1419             632          134372\n",
              "1            1  2007  33.060000  ...            1525             656          134000\n",
              "2            2  2008  33.770000  ...            1699             689          135651\n",
              "3            3  2009  33.503333  ...            1844             745          135293\n",
              "4            4  2010  33.706667  ...            1838             754          130870\n",
              "5            5  2011  30.876667  ...            1871             766          125579\n",
              "6            6  2012  27.226667  ...            1865             749          121086\n",
              "7            7  2013  26.436667  ...            1922             776          119071\n",
              "8            8  2014  24.833333  ...            2028             785          117757\n",
              "9            9  2015  23.770000  ...            2096             808          114437\n",
              "10          10  2016  21.280000  ...            2185             841          112953\n",
              "11          11  2017  19.413333  ...            2309             852          111506\n",
              "\n",
              "[12 rows x 13 columns]"
            ]
          },
          "metadata": {
            "tags": []
          },
          "execution_count": 98
        }
      ]
    },
    {
      "cell_type": "code",
      "metadata": {
        "id": "j8KKgX6UEDI6",
        "colab": {
          "base_uri": "https://localhost:8080/",
          "height": 421
        },
        "outputId": "5e5e01f9-bb1b-404d-e2c3-895c1eecb049"
      },
      "source": [
        "df.iloc[:, 8:]"
      ],
      "execution_count": 24,
      "outputs": [
        {
          "output_type": "execute_result",
          "data": {
            "text/html": [
              "<div>\n",
              "<style scoped>\n",
              "    .dataframe tbody tr th:only-of-type {\n",
              "        vertical-align: middle;\n",
              "    }\n",
              "\n",
              "    .dataframe tbody tr th {\n",
              "        vertical-align: top;\n",
              "    }\n",
              "\n",
              "    .dataframe thead th {\n",
              "        text-align: right;\n",
              "    }\n",
              "</style>\n",
              "<table border=\"1\" class=\"dataframe\">\n",
              "  <thead>\n",
              "    <tr style=\"text-align: right;\">\n",
              "      <th></th>\n",
              "      <th>Asian Officers</th>\n",
              "      <th>Black Officers</th>\n",
              "      <th>Mixed Officers</th>\n",
              "      <th>Other Officers</th>\n",
              "      <th>White Officers</th>\n",
              "    </tr>\n",
              "  </thead>\n",
              "  <tbody>\n",
              "    <tr>\n",
              "      <th>0</th>\n",
              "      <td>2111</td>\n",
              "      <td>1350</td>\n",
              "      <td>1419</td>\n",
              "      <td>632</td>\n",
              "      <td>134372</td>\n",
              "    </tr>\n",
              "    <tr>\n",
              "      <th>1</th>\n",
              "      <td>2231</td>\n",
              "      <td>1371</td>\n",
              "      <td>1525</td>\n",
              "      <td>656</td>\n",
              "      <td>134000</td>\n",
              "    </tr>\n",
              "    <tr>\n",
              "      <th>2</th>\n",
              "      <td>2472</td>\n",
              "      <td>1427</td>\n",
              "      <td>1699</td>\n",
              "      <td>689</td>\n",
              "      <td>135651</td>\n",
              "    </tr>\n",
              "    <tr>\n",
              "      <th>3</th>\n",
              "      <td>2607</td>\n",
              "      <td>1446</td>\n",
              "      <td>1844</td>\n",
              "      <td>745</td>\n",
              "      <td>135293</td>\n",
              "    </tr>\n",
              "    <tr>\n",
              "      <th>4</th>\n",
              "      <td>2582</td>\n",
              "      <td>1442</td>\n",
              "      <td>1838</td>\n",
              "      <td>754</td>\n",
              "      <td>130870</td>\n",
              "    </tr>\n",
              "    <tr>\n",
              "      <th>5</th>\n",
              "      <td>2607</td>\n",
              "      <td>1420</td>\n",
              "      <td>1871</td>\n",
              "      <td>766</td>\n",
              "      <td>125579</td>\n",
              "    </tr>\n",
              "    <tr>\n",
              "      <th>6</th>\n",
              "      <td>2563</td>\n",
              "      <td>1361</td>\n",
              "      <td>1865</td>\n",
              "      <td>749</td>\n",
              "      <td>121086</td>\n",
              "    </tr>\n",
              "    <tr>\n",
              "      <th>7</th>\n",
              "      <td>2665</td>\n",
              "      <td>1352</td>\n",
              "      <td>1922</td>\n",
              "      <td>776</td>\n",
              "      <td>119071</td>\n",
              "    </tr>\n",
              "    <tr>\n",
              "      <th>8</th>\n",
              "      <td>2795</td>\n",
              "      <td>1373</td>\n",
              "      <td>2028</td>\n",
              "      <td>785</td>\n",
              "      <td>117757</td>\n",
              "    </tr>\n",
              "    <tr>\n",
              "      <th>9</th>\n",
              "      <td>2881</td>\n",
              "      <td>1433</td>\n",
              "      <td>2096</td>\n",
              "      <td>808</td>\n",
              "      <td>114437</td>\n",
              "    </tr>\n",
              "    <tr>\n",
              "      <th>10</th>\n",
              "      <td>3104</td>\n",
              "      <td>1432</td>\n",
              "      <td>2185</td>\n",
              "      <td>841</td>\n",
              "      <td>112953</td>\n",
              "    </tr>\n",
              "    <tr>\n",
              "      <th>11</th>\n",
              "      <td>3266</td>\n",
              "      <td>1424</td>\n",
              "      <td>2309</td>\n",
              "      <td>852</td>\n",
              "      <td>111506</td>\n",
              "    </tr>\n",
              "  </tbody>\n",
              "</table>\n",
              "</div>"
            ],
            "text/plain": [
              "    Asian Officers  Black Officers  ...  Other Officers  White Officers\n",
              "0             2111            1350  ...             632          134372\n",
              "1             2231            1371  ...             656          134000\n",
              "2             2472            1427  ...             689          135651\n",
              "3             2607            1446  ...             745          135293\n",
              "4             2582            1442  ...             754          130870\n",
              "5             2607            1420  ...             766          125579\n",
              "6             2563            1361  ...             749          121086\n",
              "7             2665            1352  ...             776          119071\n",
              "8             2795            1373  ...             785          117757\n",
              "9             2881            1433  ...             808          114437\n",
              "10            3104            1432  ...             841          112953\n",
              "11            3266            1424  ...             852          111506\n",
              "\n",
              "[12 rows x 5 columns]"
            ]
          },
          "metadata": {
            "tags": []
          },
          "execution_count": 24
        }
      ]
    },
    {
      "cell_type": "code",
      "metadata": {
        "id": "srodQPp6t0u-"
      },
      "source": [
        "def linear_reg(X, y):\n",
        "  X_train, X_test, y_train, y_test = train_test_split(X, y, test_size=0.2, random_state=0)\n",
        "  regressor = LinearRegression()\n",
        "  regressor.fit(X_train, y_train)\n",
        "  print(regressor.intercept_)\n",
        "  print(regressor.coef_)\n",
        "  y_pred = regressor.predict(X_test)\n",
        "  dataset = pd.DataFrame({'Actual': y_test, 'Predicted': y_pred})\n",
        "  print(dataset)\n",
        "  print('Mean Absolute Error:', metrics.mean_absolute_error(y_test, y_pred))\n",
        "  print('Mean Squared Error:', metrics.mean_squared_error(y_test, y_pred))\n",
        "  print('Root Mean Squared Error:', np.sqrt(metrics.mean_squared_error(y_test, y_pred)))\n",
        "  print('Coefficient of Determination: %.2f'% metrics.r2_score(y_test, y_pred))"
      ],
      "execution_count": 129,
      "outputs": []
    },
    {
      "cell_type": "code",
      "metadata": {
        "id": "ABVPH8hsBnsf"
      },
      "source": [
        "X = df.iloc[:, 8:].values\n",
        "y = df.iloc[:, 3].values"
      ],
      "execution_count": 94,
      "outputs": []
    },
    {
      "cell_type": "code",
      "metadata": {
        "id": "f-ZGLXAluaEd",
        "outputId": "357494fd-e681-4a70-ab1f-de94e31f8bb6",
        "colab": {
          "base_uri": "https://localhost:8080/"
        }
      },
      "source": [
        "X"
      ],
      "execution_count": 101,
      "outputs": [
        {
          "output_type": "execute_result",
          "data": {
            "text/plain": [
              "array([[  2111,   1350,   1419,    632, 134372],\n",
              "       [  2231,   1371,   1525,    656, 134000],\n",
              "       [  2472,   1427,   1699,    689, 135651],\n",
              "       [  2607,   1446,   1844,    745, 135293],\n",
              "       [  2582,   1442,   1838,    754, 130870],\n",
              "       [  2607,   1420,   1871,    766, 125579],\n",
              "       [  2563,   1361,   1865,    749, 121086],\n",
              "       [  2665,   1352,   1922,    776, 119071],\n",
              "       [  2795,   1373,   2028,    785, 117757],\n",
              "       [  2881,   1433,   2096,    808, 114437],\n",
              "       [  3104,   1432,   2185,    841, 112953],\n",
              "       [  3266,   1424,   2309,    852, 111506]])"
            ]
          },
          "metadata": {
            "tags": []
          },
          "execution_count": 101
        }
      ]
    },
    {
      "cell_type": "code",
      "metadata": {
        "id": "rMQVdqQuysAe",
        "outputId": "f86bf6a4-0181-4e60-d7b2-c4e0a5c88a0e",
        "colab": {
          "base_uri": "https://localhost:8080/"
        }
      },
      "source": [
        "linear_reg(X, y)"
      ],
      "execution_count": 130,
      "outputs": [
        {
          "output_type": "stream",
          "text": [
            "-32.82354192500084\n",
            "[-0.0126025   0.00071118  0.01699353  0.00717777  0.00035702]\n",
            "      Actual  Predicted\n",
            "0  15.833333  16.143554\n",
            "1  11.166667  12.192971\n",
            "2  19.833333  19.031874\n",
            "Mean Absolute Error: 0.7126615694101398\n",
            "Mean Squared Error: 0.5972916935209256\n",
            "Root Mean Squared Error: 0.7728464876810437\n",
            "Coefficient of Determination: 0.95\n"
          ],
          "name": "stdout"
        }
      ]
    },
    {
      "cell_type": "code",
      "metadata": {
        "id": "_vJ4lK280-34",
        "outputId": "67287ea7-ede3-4feb-86d1-e7a366ed3f59",
        "colab": {
          "base_uri": "https://localhost:8080/"
        }
      },
      "source": [
        "lin_reg_param_grid = {'fit_intercept': [True, False],\n",
        "                      'normalize': [True, False],\n",
        "                      'n_jobs': [-1,1,5,10,25]}\n",
        "lin_cv = GridSearchCV(regressor, lin_reg_param_grid, refit=True)\n",
        "lin_cv.fit(x_train, y_train.ravel())\n",
        "lin_cv_pred = lin_cv.predict(x_test)\n",
        "print('Mean Absolute Error:', metrics.mean_absolute_error(y_test, lin_cv_pred))\n",
        "print('Mean Squared Error:', metrics.mean_squared_error(y_test, lin_cv_pred))\n",
        "print('Root Mean Squared Error:', np.sqrt(metrics.mean_squared_error(y_test, lin_cv_pred)))\n",
        "print('Coefficient of Determination: %.2f'% metrics.r2_score(y_test, lin_cv_pred))\n",
        "print(lin_cv.best_params_)"
      ],
      "execution_count": 145,
      "outputs": [
        {
          "output_type": "stream",
          "text": [
            "Mean Absolute Error: 1.8438213269542008\n",
            "Mean Squared Error: 3.5040830429039613\n",
            "Root Mean Squared Error: 1.8719196144343275\n",
            "Coefficient of Determination: -6.88\n",
            "{'fit_intercept': True, 'n_jobs': -1, 'normalize': True}\n"
          ],
          "name": "stdout"
        }
      ]
    },
    {
      "cell_type": "code",
      "metadata": {
        "id": "wuL7Id9_1UXm",
        "outputId": "d24cd551-630c-4d00-f9f9-f2e70481ccec",
        "colab": {
          "base_uri": "https://localhost:8080/",
          "height": 282
        }
      },
      "source": [
        "plt.plot(np.arange(1,21), lin_cv.cv_results_['mean_test_score'])\n"
      ],
      "execution_count": 146,
      "outputs": [
        {
          "output_type": "execute_result",
          "data": {
            "text/plain": [
              "[<matplotlib.lines.Line2D at 0x7fc40ff9fd10>]"
            ]
          },
          "metadata": {
            "tags": []
          },
          "execution_count": 146
        },
        {
          "output_type": "display_data",
          "data": {
            "image/png": "[encoded data removed]",
            "text/plain": [
              "<Figure size 432x288 with 1 Axes>"
            ]
          },
          "metadata": {
            "tags": [],
            "needs_background": "light"
          }
        }
      ]
    }
  ]
}