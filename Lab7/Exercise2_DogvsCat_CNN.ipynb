{
  "nbformat": 4,
  "nbformat_minor": 0,
  "metadata": {
    "colab": {
      "name": "Exercise2_DogvsCat_CNN.ipynb",
      "provenance": [],
      "toc_visible": true,
      "include_colab_link": true
    },
    "kernelspec": {
      "name": "python3",
      "display_name": "Python 3"
    },
    "accelerator": "GPU"
  },
  "cells": [
    {
      "cell_type": "markdown",
      "metadata": {
        "id": "view-in-github",
        "colab_type": "text"
      },
      "source": [
        "<a href=\"https://colab.research.google.com/github/ab17254/ce888/blob/main/Lab7/Exercise2_DogvsCat_CNN.ipynb\" target=\"_parent\"><img src=\"https://colab.research.google.com/assets/colab-badge.svg\" alt=\"Open In Colab\"/></a>"
      ]
    },
    {
      "cell_type": "markdown",
      "metadata": {
        "id": "qTh9DiKVslsJ"
      },
      "source": [
        "## Dogs vs. Cats \n",
        "\n",
        "In this competition, you'll write an algorithm to classify whether images contain either a dog or a cat.  This is easy for humans, dogs, and cats. Your computer will find it a bit more difficult.\n",
        "\n",
        "![alt text](https://miro.medium.com/max/3000/1*bhFifratH9DjKqMBTeQG5A.gif)\n",
        "\n",
        "Ref: https://medium.com/@thegrigorian/rolling-in-the-deep-cnn-c8d3f7108c8c"
      ]
    },
    {
      "cell_type": "markdown",
      "metadata": {
        "id": "RSBI-_mSSY1g"
      },
      "source": [
        "Get your API Key from Kaggle using following steps:\n",
        "1. Login to [Kaggle](https://www.kaggle.com/) or Register if you don't have account\n",
        "2. Open Dataset (https://www.kaggle.com/c/dogs-vs-cats/rules) and accept terms and condition. \n",
        "3. On the top right corner click on your Icon and go to accounts and press a button \"Create New API Token\". It will download a JSON file containing your username and key. \n",
        "4. Now, paste both below. \n"
      ]
    },
    {
      "cell_type": "code",
      "metadata": {
        "id": "YmXSOc0tZIGA",
        "colab": {
          "base_uri": "https://localhost:8080/"
        },
        "outputId": "d5221f0e-cc3c-43f3-e678-5436ade56f1d"
      },
      "source": [
        "import os\n",
        "os.environ['KAGGLE_USERNAME'] = \"albrace\" # username from the json file\n",
        "os.environ['KAGGLE_KEY'] = \"f9e1240f435d88603209646d4bc571a6\" # key from the json file\n",
        "!kaggle competitions download -c dogs-vs-cats # api copied from kaggle (https://www.kaggle.com/c/dogs-vs-cats/data)"
      ],
      "execution_count": 1,
      "outputs": [
        {
          "output_type": "stream",
          "text": [
            "Warning: Looks like you're using an outdated API Version, please consider updating (server 1.5.10 / client 1.5.4)\n",
            "Downloading train.zip to /content\n",
            " 99% 539M/543M [00:03<00:00, 163MB/s]\n",
            "100% 543M/543M [00:03<00:00, 144MB/s]\n",
            "Downloading test1.zip to /content\n",
            " 97% 264M/271M [00:03<00:00, 104MB/s] \n",
            "100% 271M/271M [00:03<00:00, 84.5MB/s]\n",
            "Downloading sampleSubmission.csv to /content\n",
            "  0% 0.00/86.8k [00:00<?, ?B/s]\n",
            "100% 86.8k/86.8k [00:00<00:00, 76.8MB/s]\n"
          ],
          "name": "stdout"
        }
      ]
    },
    {
      "cell_type": "code",
      "metadata": {
        "id": "PiwIL8d1n7eS",
        "colab": {
          "base_uri": "https://localhost:8080/"
        },
        "outputId": "5efc8a4e-4f78-408f-a11d-eeec66a76fb3"
      },
      "source": [
        "# Unzip training data\n",
        "from zipfile import ZipFile\n",
        "file_name = \"/content/train.zip\"\n",
        "with ZipFile(file_name, 'r') as zip:\n",
        "  zip.extractall()\n",
        "  print('done')"
      ],
      "execution_count": 2,
      "outputs": [
        {
          "output_type": "stream",
          "text": [
            "done\n"
          ],
          "name": "stdout"
        }
      ]
    },
    {
      "cell_type": "code",
      "metadata": {
        "id": "sa2Bj5i7pPKV",
        "colab": {
          "base_uri": "https://localhost:8080/"
        },
        "outputId": "efbc9f9d-d9cc-4e70-f8b6-69fcb67a495b"
      },
      "source": [
        "# Get all the paths\n",
        "data_dir_list = os.listdir('/content/train')\n",
        "#print(data_dir_list)\n",
        "path, dirs, files = next(os.walk(\"/content/train\"))\n",
        "file_count = len(files)\n",
        "print(file_count)"
      ],
      "execution_count": 3,
      "outputs": [
        {
          "output_type": "stream",
          "text": [
            "25000\n"
          ],
          "name": "stdout"
        }
      ]
    },
    {
      "cell_type": "code",
      "metadata": {
        "id": "0ERlHkfHqpK8"
      },
      "source": [
        "# Make new base directory\n",
        "original_dataset_dir = '/content/train'\n",
        "base_dir = '/content/cats_and_dogs_small'\n",
        "os.mkdir(base_dir)"
      ],
      "execution_count": 4,
      "outputs": []
    },
    {
      "cell_type": "code",
      "metadata": {
        "id": "AANB1UJ6rQhM"
      },
      "source": [
        "train_dir = os.path.join(base_dir, 'train')\n",
        "os.mkdir(train_dir)\n",
        "\n",
        "validation_dir = os.path.join(base_dir, 'validation')\n",
        "os.mkdir(validation_dir)\n",
        "\n",
        "test_dir = os.path.join(base_dir, 'test')\n",
        "os.mkdir(test_dir)\n",
        "\n",
        "train_cats_dir = os.path.join(train_dir, 'cats')\n",
        "os.mkdir(train_cats_dir)\n",
        "\n",
        "train_dogs_dir = os.path.join(train_dir, 'dogs')\n",
        "os.mkdir(train_dogs_dir)\n",
        "\n",
        "validation_cats_dir = os.path.join(validation_dir, 'cats')\n",
        "os.mkdir(validation_cats_dir)\n",
        "\n",
        "validation_dogs_dir = os.path.join(validation_dir, 'dogs')\n",
        "os.mkdir(validation_dogs_dir)\n",
        "\n",
        "test_cats_dir = os.path.join(test_dir, 'cats')\n",
        "os.mkdir(test_cats_dir)\n",
        "\n",
        "test_dogs_dir = os.path.join(test_dir, 'dogs')\n",
        "os.mkdir(test_dogs_dir)"
      ],
      "execution_count": 5,
      "outputs": []
    },
    {
      "cell_type": "code",
      "metadata": {
        "id": "ULRgL9s9rV8T"
      },
      "source": [
        "import shutil\n",
        "fnames = ['cat.{}.jpg'.format(i) for i in range(1000)]\n",
        "for fname in fnames:\n",
        "    src = os.path.join(original_dataset_dir, fname)\n",
        "    dst = os.path.join(train_cats_dir, fname)\n",
        "    #print(src,dst)\n",
        "    shutil.copyfile(src, dst)\n",
        "    \n",
        "fnames = ['cat.{}.jpg'.format(i) for i in range(1000, 1500)]\n",
        "for fname in fnames:\n",
        "    src = os.path.join(original_dataset_dir, fname)\n",
        "    dst = os.path.join(validation_cats_dir, fname)\n",
        "    shutil.copyfile(src, dst)\n",
        "\n",
        "fnames = ['cat.{}.jpg'.format(i) for i in range(1500, 2000)]\n",
        "for fname in fnames:\n",
        "    src = os.path.join(original_dataset_dir, fname)\n",
        "    dst = os.path.join(test_cats_dir, fname)\n",
        "    shutil.copyfile(src, dst)\n",
        "    \n",
        "fnames = ['dog.{}.jpg'.format(i) for i in range(1000)]\n",
        "for fname in fnames:\n",
        "    src = os.path.join(original_dataset_dir, fname)\n",
        "    dst = os.path.join(train_dogs_dir, fname)\n",
        "    shutil.copyfile(src, dst)\n",
        "\n",
        "fnames = ['dog.{}.jpg'.format(i) for i in range(1000, 1500)]\n",
        "for fname in fnames:\n",
        "    src = os.path.join(original_dataset_dir, fname)\n",
        "    dst = os.path.join(validation_dogs_dir, fname)\n",
        "    shutil.copyfile(src, dst)\n",
        "\n",
        "fnames = ['dog.{}.jpg'.format(i) for i in range(1500, 2000)]\n",
        "for fname in fnames:\n",
        "    src = os.path.join(original_dataset_dir, fname)\n",
        "    dst = os.path.join(test_dogs_dir, fname)\n",
        "    shutil.copyfile(src, dst)"
      ],
      "execution_count": 6,
      "outputs": []
    },
    {
      "cell_type": "code",
      "metadata": {
        "id": "ul3XAbIyr7vC",
        "colab": {
          "base_uri": "https://localhost:8080/"
        },
        "outputId": "ba74d2d5-383c-4878-f380-3036c333d986"
      },
      "source": [
        "print('total training cat images:', len(os.listdir(train_cats_dir)))\n",
        "print('total training dog images:', len(os.listdir(train_dogs_dir)))\n",
        "print('total validation cat images:', len(os.listdir(validation_cats_dir)))\n",
        "\n",
        "print('total validation dog images:', len(os.listdir(validation_dogs_dir)))\n",
        "print('total test cat images:', len(os.listdir(test_cats_dir)))\n",
        "print('total test dog images:', len(os.listdir(test_dogs_dir)))"
      ],
      "execution_count": 7,
      "outputs": [
        {
          "output_type": "stream",
          "text": [
            "total training cat images: 1000\n",
            "total training dog images: 1000\n",
            "total validation cat images: 500\n",
            "total validation dog images: 500\n",
            "total test cat images: 500\n",
            "total test dog images: 500\n"
          ],
          "name": "stdout"
        }
      ]
    },
    {
      "cell_type": "code",
      "metadata": {
        "id": "o9yTA21_r-ma",
        "colab": {
          "base_uri": "https://localhost:8080/"
        },
        "outputId": "2a62dac0-bb44-494f-f388-368d8cd5badf"
      },
      "source": [
        "from keras import layers\n",
        "from keras import models\n",
        "\n",
        "model = models.Sequential()\n",
        "model.add(layers.Conv2D(32, (3, 3), activation='relu', input_shape=(150, 150, 3)))\n",
        "model.add(layers.MaxPooling2D((2, 2)))\n",
        "model.add(layers.Conv2D(64, (3, 3), activation='relu'))\n",
        "model.add(layers.MaxPooling2D((2, 2)))\n",
        "model.add(layers.Conv2D(128, (3, 3), activation='relu'))\n",
        "model.add(layers.MaxPooling2D((2, 2)))\n",
        "model.add(layers.Conv2D(128, (3, 3), activation='relu'))\n",
        "model.add(layers.MaxPooling2D((2, 2)))\n",
        "model.add(layers.Flatten())\n",
        "model.add(layers.Dense(512, activation='relu'))\n",
        "model.add(layers.Dense(1, activation='sigmoid'))\n",
        "model.summary()"
      ],
      "execution_count": 8,
      "outputs": [
        {
          "output_type": "stream",
          "text": [
            "Model: \"sequential\"\n",
            "_________________________________________________________________\n",
            "Layer (type)                 Output Shape              Param #   \n",
            "=================================================================\n",
            "conv2d (Conv2D)              (None, 148, 148, 32)      896       \n",
            "_________________________________________________________________\n",
            "max_pooling2d (MaxPooling2D) (None, 74, 74, 32)        0         \n",
            "_________________________________________________________________\n",
            "conv2d_1 (Conv2D)            (None, 72, 72, 64)        18496     \n",
            "_________________________________________________________________\n",
            "max_pooling2d_1 (MaxPooling2 (None, 36, 36, 64)        0         \n",
            "_________________________________________________________________\n",
            "conv2d_2 (Conv2D)            (None, 34, 34, 128)       73856     \n",
            "_________________________________________________________________\n",
            "max_pooling2d_2 (MaxPooling2 (None, 17, 17, 128)       0         \n",
            "_________________________________________________________________\n",
            "conv2d_3 (Conv2D)            (None, 15, 15, 128)       147584    \n",
            "_________________________________________________________________\n",
            "max_pooling2d_3 (MaxPooling2 (None, 7, 7, 128)         0         \n",
            "_________________________________________________________________\n",
            "flatten (Flatten)            (None, 6272)              0         \n",
            "_________________________________________________________________\n",
            "dense (Dense)                (None, 512)               3211776   \n",
            "_________________________________________________________________\n",
            "dense_1 (Dense)              (None, 1)                 513       \n",
            "=================================================================\n",
            "Total params: 3,453,121\n",
            "Trainable params: 3,453,121\n",
            "Non-trainable params: 0\n",
            "_________________________________________________________________\n"
          ],
          "name": "stdout"
        }
      ]
    },
    {
      "cell_type": "code",
      "metadata": {
        "id": "2mG8wekxsBVS"
      },
      "source": [
        "from keras import optimizers\n",
        "model.compile(loss='binary_crossentropy', \n",
        "              optimizer=optimizers.RMSprop(lr=1e-4),\n",
        "              metrics=['acc'])"
      ],
      "execution_count": 9,
      "outputs": []
    },
    {
      "cell_type": "markdown",
      "metadata": {
        "id": "7zS4Klm8qWp6"
      },
      "source": [
        "## Using ImageDataGenerator to read images from directories\n",
        "As you know by now, data should be formatted into appropriately preprocessed floatingpoint tensors before being fed into the network. Currently, the data sits on a drive as JPEG files, so the steps for getting it into the network are roughly as follows:\n",
        "\n",
        "* Read the picture files.\n",
        "* Decode the JPEG content to RGB grids of pixels.\n",
        "* Convert these into floating-point tensors.\n",
        "* Rescale the pixel values (between 0 and 255) to the [0, 1] interval (as you know, neural networks prefer to deal with small input values).\n",
        "\n",
        "It may seem a bit daunting, but fortunately Keras has utilities to take care of these steps automatically. Keras has a module with image-processing helper tools, located at keras.preprocessing.image. In particular, it contains the class ImageDataGenerator,which lets you quickly set up Python generators that can automatically turn image files on disk into batches of preprocessed tensors."
      ]
    },
    {
      "cell_type": "code",
      "metadata": {
        "id": "XJ7XU7t9sEh6",
        "colab": {
          "base_uri": "https://localhost:8080/"
        },
        "outputId": "00c4d8d3-9cb4-4d58-c313-9fca27eb0cac"
      },
      "source": [
        "from keras.preprocessing.image import ImageDataGenerator\n",
        "\n",
        "train_datagen = ImageDataGenerator(rescale=1./255)\n",
        "test_datagen = ImageDataGenerator(rescale=1./255)\n",
        "\n",
        "train_generator = train_datagen.flow_from_directory(train_dir,\n",
        "                                                    target_size=(150, 150), \n",
        "                                                    batch_size=20,\n",
        "                                                    class_mode='binary')\n",
        "\n",
        "validation_generator = test_datagen.flow_from_directory(validation_dir,\n",
        "                                                        target_size=(150, 150),\n",
        "                                                        batch_size=20,\n",
        "                                                        class_mode='binary')"
      ],
      "execution_count": 10,
      "outputs": [
        {
          "output_type": "stream",
          "text": [
            "Found 2000 images belonging to 2 classes.\n",
            "Found 1000 images belonging to 2 classes.\n"
          ],
          "name": "stdout"
        }
      ]
    },
    {
      "cell_type": "markdown",
      "metadata": {
        "id": "SEgLywySqm4u"
      },
      "source": [
        "Let’s fit the model to the data using the generator. You do so using the fit_generator method, the equivalent of fit for data generators like this one. It expects as its first argument a Python generator that will yield batches of inputs and targets indefinitely,like this one does. Because the data is being generated endlessly, the Keras model needs to know how many samples to draw from the generator before declaring anepoch over. This is the role of the `steps_per_epoch` argument: after having drawn `steps_per_epoch` batches from the generator—that is, after having run for `steps_per_epoch` gradient descent steps—the fitting process will go to the next epoch. In this case, batches are 20 samples, so it will take 100 batches until you see your target of 2,000 samples.\n",
        "\n",
        "When using fit_generator, you can pass a validation_data argument, much as with the fit method. It’s important to note that this argument is allowed to be a data generator, but it could also be a tuple of Numpy arrays. If you pass a generator as validation_data, then this generator is expected to yield batches of validation data endlessly; thus you should also specify the validation_steps argument, which tells the process how many batches to draw from the validation generator for evaluation."
      ]
    },
    {
      "cell_type": "code",
      "metadata": {
        "id": "yMyfPphJsJG6",
        "colab": {
          "base_uri": "https://localhost:8080/"
        },
        "outputId": "7a4cfbbb-d090-4134-f391-d92f84698ad9"
      },
      "source": [
        "history = model.fit_generator(train_generator,\n",
        "                              steps_per_epoch=100,\n",
        "                              epochs=30,\n",
        "                              validation_data=validation_generator,\n",
        "                              validation_steps=10)"
      ],
      "execution_count": 11,
      "outputs": [
        {
          "output_type": "stream",
          "text": [
            "/usr/local/lib/python3.7/dist-packages/tensorflow/python/keras/engine/training.py:1844: UserWarning: `Model.fit_generator` is deprecated and will be removed in a future version. Please use `Model.fit`, which supports generators.\n",
            "  warnings.warn('`Model.fit_generator` is deprecated and '\n"
          ],
          "name": "stderr"
        },
        {
          "output_type": "stream",
          "text": [
            "Epoch 1/30\n",
            "100/100 [==============================] - 40s 71ms/step - loss: 0.6896 - acc: 0.5377 - val_loss: 0.6781 - val_acc: 0.5600\n",
            "Epoch 2/30\n",
            "100/100 [==============================] - 7s 72ms/step - loss: 0.6461 - acc: 0.6286 - val_loss: 0.6172 - val_acc: 0.6800\n",
            "Epoch 3/30\n",
            "100/100 [==============================] - 7s 71ms/step - loss: 0.6014 - acc: 0.6641 - val_loss: 0.6029 - val_acc: 0.6600\n",
            "Epoch 4/30\n",
            "100/100 [==============================] - 7s 70ms/step - loss: 0.5789 - acc: 0.7009 - val_loss: 0.5881 - val_acc: 0.7150\n",
            "Epoch 5/30\n",
            "100/100 [==============================] - 7s 72ms/step - loss: 0.5441 - acc: 0.7275 - val_loss: 0.5747 - val_acc: 0.6900\n",
            "Epoch 6/30\n",
            "100/100 [==============================] - 7s 70ms/step - loss: 0.5051 - acc: 0.7579 - val_loss: 0.6563 - val_acc: 0.6150\n",
            "Epoch 7/30\n",
            "100/100 [==============================] - 7s 70ms/step - loss: 0.5105 - acc: 0.7460 - val_loss: 0.5218 - val_acc: 0.7050\n",
            "Epoch 8/30\n",
            "100/100 [==============================] - 7s 70ms/step - loss: 0.4526 - acc: 0.7794 - val_loss: 0.5482 - val_acc: 0.7300\n",
            "Epoch 9/30\n",
            "100/100 [==============================] - 7s 70ms/step - loss: 0.4459 - acc: 0.7962 - val_loss: 0.5731 - val_acc: 0.7100\n",
            "Epoch 10/30\n",
            "100/100 [==============================] - 7s 70ms/step - loss: 0.4002 - acc: 0.8136 - val_loss: 0.6003 - val_acc: 0.6900\n",
            "Epoch 11/30\n",
            "100/100 [==============================] - 7s 69ms/step - loss: 0.3880 - acc: 0.8311 - val_loss: 0.6983 - val_acc: 0.6450\n",
            "Epoch 12/30\n",
            "100/100 [==============================] - 7s 69ms/step - loss: 0.3485 - acc: 0.8641 - val_loss: 0.6578 - val_acc: 0.7050\n",
            "Epoch 13/30\n",
            "100/100 [==============================] - 7s 70ms/step - loss: 0.3413 - acc: 0.8527 - val_loss: 0.5584 - val_acc: 0.7500\n",
            "Epoch 14/30\n",
            "100/100 [==============================] - 7s 71ms/step - loss: 0.2991 - acc: 0.8669 - val_loss: 0.6767 - val_acc: 0.7050\n",
            "Epoch 15/30\n",
            "100/100 [==============================] - 7s 70ms/step - loss: 0.2799 - acc: 0.8816 - val_loss: 0.5795 - val_acc: 0.7250\n",
            "Epoch 16/30\n",
            "100/100 [==============================] - 7s 70ms/step - loss: 0.2518 - acc: 0.9068 - val_loss: 0.7054 - val_acc: 0.6750\n",
            "Epoch 17/30\n",
            "100/100 [==============================] - 7s 70ms/step - loss: 0.2190 - acc: 0.9155 - val_loss: 0.5538 - val_acc: 0.7200\n",
            "Epoch 18/30\n",
            "100/100 [==============================] - 7s 70ms/step - loss: 0.2083 - acc: 0.9153 - val_loss: 0.6814 - val_acc: 0.6850\n",
            "Epoch 19/30\n",
            "100/100 [==============================] - 7s 69ms/step - loss: 0.1822 - acc: 0.9399 - val_loss: 0.7856 - val_acc: 0.6850\n",
            "Epoch 20/30\n",
            "100/100 [==============================] - 7s 68ms/step - loss: 0.1569 - acc: 0.9477 - val_loss: 0.7310 - val_acc: 0.7250\n",
            "Epoch 21/30\n",
            "100/100 [==============================] - 7s 68ms/step - loss: 0.1348 - acc: 0.9562 - val_loss: 0.7438 - val_acc: 0.7250\n",
            "Epoch 22/30\n",
            "100/100 [==============================] - 7s 69ms/step - loss: 0.1283 - acc: 0.9591 - val_loss: 0.6539 - val_acc: 0.7500\n",
            "Epoch 23/30\n",
            "100/100 [==============================] - 7s 70ms/step - loss: 0.1025 - acc: 0.9702 - val_loss: 0.7713 - val_acc: 0.7250\n",
            "Epoch 24/30\n",
            "100/100 [==============================] - 7s 71ms/step - loss: 0.0875 - acc: 0.9726 - val_loss: 1.0048 - val_acc: 0.6750\n",
            "Epoch 25/30\n",
            "100/100 [==============================] - 7s 71ms/step - loss: 0.0775 - acc: 0.9762 - val_loss: 0.9138 - val_acc: 0.6750\n",
            "Epoch 26/30\n",
            "100/100 [==============================] - 7s 71ms/step - loss: 0.0656 - acc: 0.9837 - val_loss: 0.7942 - val_acc: 0.7050\n",
            "Epoch 27/30\n",
            "100/100 [==============================] - 7s 71ms/step - loss: 0.0486 - acc: 0.9885 - val_loss: 1.3596 - val_acc: 0.6250\n",
            "Epoch 28/30\n",
            "100/100 [==============================] - 7s 70ms/step - loss: 0.0475 - acc: 0.9876 - val_loss: 0.9010 - val_acc: 0.7050\n",
            "Epoch 29/30\n",
            "100/100 [==============================] - 7s 69ms/step - loss: 0.0336 - acc: 0.9949 - val_loss: 1.2171 - val_acc: 0.7250\n",
            "Epoch 30/30\n",
            "100/100 [==============================] - 7s 69ms/step - loss: 0.0414 - acc: 0.9897 - val_loss: 1.0072 - val_acc: 0.7200\n"
          ],
          "name": "stdout"
        }
      ]
    },
    {
      "cell_type": "code",
      "metadata": {
        "id": "MZaZ2HWZsNUi",
        "colab": {
          "base_uri": "https://localhost:8080/",
          "height": 545
        },
        "outputId": "8d65f9e9-9a51-4068-a2f4-af24d9fe51fa"
      },
      "source": [
        "model.save('cats_and_dogs_small_1.h5')\n",
        "\n",
        "import matplotlib.pyplot as plt\n",
        "\n",
        "acc = history.history['acc']\n",
        "val_acc = history.history['val_acc']\n",
        "loss = history.history['loss']\n",
        "val_loss = history.history['val_loss']\n",
        "\n",
        "epochs = range(1, len(acc) + 1)\n",
        "\n",
        "plt.plot(epochs, acc, 'bo', label='Training acc')\n",
        "plt.plot(epochs, val_acc, 'b', label='Validation acc')\n",
        "plt.title('Training and validation accuracy')\n",
        "plt.legend()\n",
        "\n",
        "plt.figure()\n",
        "\n",
        "plt.plot(epochs, loss, 'bo', label='Training loss')\n",
        "plt.plot(epochs, val_loss, 'b', label='Validation loss')\n",
        "plt.title('Training and validation loss')\n",
        "plt.legend()\n",
        "\n",
        "plt.show()"
      ],
      "execution_count": 12,
      "outputs": [
        {
          "output_type": "display_data",
          "data": {
            "image/png": "[encoded data removed]",
            "text/plain": [
              "<Figure size 432x288 with 1 Axes>"
            ]
          },
          "metadata": {
            "tags": [],
            "needs_background": "light"
          }
        },
        {
          "output_type": "display_data",
          "data": {
            "image/png": "[encoded data removed]",
            "text/plain": [
              "<Figure size 432x288 with 1 Axes>"
            ]
          },
          "metadata": {
            "tags": [],
            "needs_background": "light"
          }
        }
      ]
    },
    {
      "cell_type": "markdown",
      "metadata": {
        "id": "XKZmXmBcq_8-"
      },
      "source": [
        "## Convolutional Networks with Dropout\n",
        "\n",
        "![alt text](https://camo.githubusercontent.com/ee6fa1073247cd2c3d241300caf110d7a7541bc5/68747470733a2f2f63646e2d696d616765732d312e6d656469756d2e636f6d2f6d61782f3830302f312a4972644a355067684439596f4f7956415137334d4a772e676966)\n",
        "\n",
        "Ref: https://github.com/mneha4/Training-Neural-Nets---Guidelines"
      ]
    },
    {
      "cell_type": "code",
      "metadata": {
        "id": "wu3cqeYQrDeN"
      },
      "source": [
        "model = models.Sequential()\n",
        "model.add(layers.Conv2D(32, (3, 3), activation='relu',\n",
        "input_shape=(150, 150, 3)))\n",
        "model.add(layers.MaxPooling2D((2, 2)))\n",
        "model.add(layers.Conv2D(64, (3, 3), activation='relu'))\n",
        "model.add(layers.MaxPooling2D((2, 2)))\n",
        "model.add(layers.Conv2D(128, (3, 3), activation='relu'))\n",
        "model.add(layers.MaxPooling2D((2, 2)))\n",
        "model.add(layers.Conv2D(128, (3, 3), activation='relu'))\n",
        "model.add(layers.MaxPooling2D((2, 2)))\n",
        "model.add(layers.Flatten())\n",
        "model.add(layers.Dropout(0.75))\n",
        "model.add(layers.Dense(512, activation='relu'))\n",
        "model.add(layers.Dense(1, activation='sigmoid'))\n",
        "\n",
        "model.compile(loss='binary_crossentropy',\n",
        "              optimizer=optimizers.RMSprop(lr=1e-4),\n",
        "              metrics=['acc'])"
      ],
      "execution_count": 13,
      "outputs": []
    },
    {
      "cell_type": "code",
      "metadata": {
        "id": "QSeLpvY0rH7F",
        "colab": {
          "base_uri": "https://localhost:8080/"
        },
        "outputId": "992b2cbf-9bc0-4298-fe11-0c6ccd9b9fb6"
      },
      "source": [
        "\n",
        "train_datagen = ImageDataGenerator(rescale=1./255,\n",
        "                                   rotation_range=40,\n",
        "                                   width_shift_range=0.2,\n",
        "                                   height_shift_range=0.2,\n",
        "                                   shear_range=0.2,\n",
        "                                   zoom_range=0.2,\n",
        "                                   horizontal_flip=True,)\n",
        "\n",
        "test_datagen = ImageDataGenerator(rescale=1./255)\n",
        "\n",
        "train_generator = train_datagen.flow_from_directory(train_dir,\n",
        "                                                    target_size=(150, 150),\n",
        "                                                    batch_size=20,\n",
        "                                                    class_mode='binary')\n",
        "\n",
        "validation_generator = test_datagen.flow_from_directory(validation_dir,\n",
        "                                                        target_size=(150, 150),\n",
        "                                                        batch_size=20,\n",
        "                                                        class_mode='binary')\n",
        "\n",
        "history = model.fit_generator(train_generator,\n",
        "                              steps_per_epoch=100,\n",
        "                              epochs=20,\n",
        "                              validation_data=validation_generator,\n",
        "                              validation_steps=50)"
      ],
      "execution_count": 14,
      "outputs": [
        {
          "output_type": "stream",
          "text": [
            "Found 2000 images belonging to 2 classes.\n",
            "Found 1000 images belonging to 2 classes.\n"
          ],
          "name": "stdout"
        },
        {
          "output_type": "stream",
          "text": [
            "/usr/local/lib/python3.7/dist-packages/tensorflow/python/keras/engine/training.py:1844: UserWarning: `Model.fit_generator` is deprecated and will be removed in a future version. Please use `Model.fit`, which supports generators.\n",
            "  warnings.warn('`Model.fit_generator` is deprecated and '\n"
          ],
          "name": "stderr"
        },
        {
          "output_type": "stream",
          "text": [
            "Epoch 1/20\n",
            "100/100 [==============================] - 19s 183ms/step - loss: 0.6957 - acc: 0.4967 - val_loss: 0.6988 - val_acc: 0.5000\n",
            "Epoch 2/20\n",
            "100/100 [==============================] - 18s 179ms/step - loss: 0.6933 - acc: 0.5027 - val_loss: 0.6866 - val_acc: 0.5010\n",
            "Epoch 3/20\n",
            "100/100 [==============================] - 18s 180ms/step - loss: 0.6786 - acc: 0.5642 - val_loss: 0.6547 - val_acc: 0.6120\n",
            "Epoch 4/20\n",
            "100/100 [==============================] - 18s 180ms/step - loss: 0.6729 - acc: 0.5632 - val_loss: 0.6626 - val_acc: 0.5810\n",
            "Epoch 5/20\n",
            "100/100 [==============================] - 18s 179ms/step - loss: 0.6580 - acc: 0.5883 - val_loss: 0.7018 - val_acc: 0.5610\n",
            "Epoch 6/20\n",
            "100/100 [==============================] - 18s 176ms/step - loss: 0.6570 - acc: 0.5998 - val_loss: 0.6907 - val_acc: 0.5510\n",
            "Epoch 7/20\n",
            "100/100 [==============================] - 18s 178ms/step - loss: 0.6495 - acc: 0.6111 - val_loss: 0.6098 - val_acc: 0.6620\n",
            "Epoch 8/20\n",
            "100/100 [==============================] - 18s 179ms/step - loss: 0.6268 - acc: 0.6448 - val_loss: 0.6141 - val_acc: 0.6580\n",
            "Epoch 9/20\n",
            "100/100 [==============================] - 18s 179ms/step - loss: 0.6192 - acc: 0.6531 - val_loss: 0.6275 - val_acc: 0.6230\n",
            "Epoch 10/20\n",
            "100/100 [==============================] - 18s 177ms/step - loss: 0.6260 - acc: 0.6590 - val_loss: 0.5869 - val_acc: 0.6740\n",
            "Epoch 11/20\n",
            "100/100 [==============================] - 18s 179ms/step - loss: 0.6003 - acc: 0.6846 - val_loss: 0.5848 - val_acc: 0.6770\n",
            "Epoch 12/20\n",
            "100/100 [==============================] - 18s 181ms/step - loss: 0.6027 - acc: 0.6766 - val_loss: 0.6041 - val_acc: 0.6890\n",
            "Epoch 13/20\n",
            "100/100 [==============================] - 18s 178ms/step - loss: 0.5982 - acc: 0.6726 - val_loss: 0.5949 - val_acc: 0.6830\n",
            "Epoch 14/20\n",
            "100/100 [==============================] - 18s 180ms/step - loss: 0.5823 - acc: 0.7016 - val_loss: 0.5583 - val_acc: 0.7090\n",
            "Epoch 15/20\n",
            "100/100 [==============================] - 18s 179ms/step - loss: 0.5846 - acc: 0.6745 - val_loss: 0.5419 - val_acc: 0.7260\n",
            "Epoch 16/20\n",
            "100/100 [==============================] - 18s 178ms/step - loss: 0.5819 - acc: 0.6880 - val_loss: 0.5461 - val_acc: 0.7210\n",
            "Epoch 17/20\n",
            "100/100 [==============================] - 18s 177ms/step - loss: 0.5770 - acc: 0.6953 - val_loss: 0.5334 - val_acc: 0.7290\n",
            "Epoch 18/20\n",
            "100/100 [==============================] - 18s 177ms/step - loss: 0.5511 - acc: 0.7171 - val_loss: 0.5729 - val_acc: 0.7160\n",
            "Epoch 19/20\n",
            "100/100 [==============================] - 18s 176ms/step - loss: 0.5565 - acc: 0.7175 - val_loss: 0.5433 - val_acc: 0.7250\n",
            "Epoch 20/20\n",
            "100/100 [==============================] - 18s 180ms/step - loss: 0.5739 - acc: 0.6913 - val_loss: 0.5361 - val_acc: 0.7370\n"
          ],
          "name": "stdout"
        }
      ]
    },
    {
      "cell_type": "markdown",
      "metadata": {
        "id": "BRdU5yrkUF_b"
      },
      "source": [
        "# Task 2:\n",
        "\n",
        "We have used Dropout to enhance the performance of the CNN model. Can you please use whatever you like to further enhance the performance from `val_acc: 0.7506`? "
      ]
    }
  ]
}