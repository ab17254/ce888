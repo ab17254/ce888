{
  "nbformat": 4,
  "nbformat_minor": 0,
  "metadata": {
    "colab": {
      "name": "Exercise2_DogvsCat_CNN.ipynb",
      "provenance": [],
      "include_colab_link": true
    },
    "kernelspec": {
      "name": "python3",
      "display_name": "Python 3"
    },
    "accelerator": "GPU"
  },
  "cells": [
    {
      "cell_type": "markdown",
      "metadata": {
        "id": "view-in-github",
        "colab_type": "text"
      },
      "source": [
        "<a href=\"https://colab.research.google.com/github/ab17254/ce888/blob/main/Lab7/Exercise2_DogvsCat_CNN.ipynb\" target=\"_parent\"><img src=\"https://colab.research.google.com/assets/colab-badge.svg\" alt=\"Open In Colab\"/></a>"
      ]
    },
    {
      "cell_type": "markdown",
      "metadata": {
        "id": "qTh9DiKVslsJ"
      },
      "source": [
        "## Dogs vs. Cats \n",
        "\n",
        "In this competition, you'll write an algorithm to classify whether images contain either a dog or a cat.  This is easy for humans, dogs, and cats. Your computer will find it a bit more difficult.\n",
        "\n",
        "![alt text](https://miro.medium.com/max/3000/1*bhFifratH9DjKqMBTeQG5A.gif)\n",
        "\n",
        "Ref: https://medium.com/@thegrigorian/rolling-in-the-deep-cnn-c8d3f7108c8c"
      ]
    },
    {
      "cell_type": "markdown",
      "metadata": {
        "id": "RSBI-_mSSY1g"
      },
      "source": [
        "Get your API Key from Kaggle using following steps:\n",
        "1. Login to [Kaggle](https://www.kaggle.com/) or Register if you don't have account\n",
        "2. Open Dataset (https://www.kaggle.com/c/dogs-vs-cats/rules) and accept terms and condition. \n",
        "3. On the top right corner click on your Icon and go to accounts and press a button \"Create New API Token\". It will download a JSON file containing your username and key. \n",
        "4. Now, paste both below. \n"
      ]
    },
    {
      "cell_type": "code",
      "metadata": {
        "id": "YmXSOc0tZIGA",
        "colab": {
          "base_uri": "https://localhost:8080/"
        },
        "outputId": "36d4ae6c-1033-49e5-f33a-1a05ab83d96e"
      },
      "source": [
        "import os\n",
        "os.environ['KAGGLE_USERNAME'] = \"albrace\" # username from the json file\n",
        "os.environ['KAGGLE_KEY'] = \"f9e1240f435d88603209646d4bc571a6\" # key from the json file\n",
        "!kaggle competitions download -c dogs-vs-cats # api copied from kaggle (https://www.kaggle.com/c/dogs-vs-cats/data)"
      ],
      "execution_count": 1,
      "outputs": [
        {
          "output_type": "stream",
          "text": [
            "Warning: Looks like you're using an outdated API Version, please consider updating (server 1.5.12 / client 1.5.4)\n",
            "Downloading train.zip to /content\n",
            " 96% 522M/543M [00:04<00:00, 117MB/s]\n",
            "100% 543M/543M [00:04<00:00, 119MB/s]\n",
            "Downloading sampleSubmission.csv to /content\n",
            "  0% 0.00/86.8k [00:00<?, ?B/s]\n",
            "100% 86.8k/86.8k [00:00<00:00, 78.3MB/s]\n",
            "Downloading test1.zip to /content\n",
            " 98% 267M/271M [00:04<00:00, 75.8MB/s]\n",
            "100% 271M/271M [00:04<00:00, 61.6MB/s]\n"
          ],
          "name": "stdout"
        }
      ]
    },
    {
      "cell_type": "code",
      "metadata": {
        "id": "PiwIL8d1n7eS",
        "colab": {
          "base_uri": "https://localhost:8080/"
        },
        "outputId": "512320b2-fa4f-4218-8044-928428beecc2"
      },
      "source": [
        "# Unzip training data\n",
        "from zipfile import ZipFile\n",
        "file_name = \"/content/train.zip\"\n",
        "with ZipFile(file_name, 'r') as zip:\n",
        "  zip.extractall()\n",
        "  print('done')"
      ],
      "execution_count": 2,
      "outputs": [
        {
          "output_type": "stream",
          "text": [
            "done\n"
          ],
          "name": "stdout"
        }
      ]
    },
    {
      "cell_type": "code",
      "metadata": {
        "id": "sa2Bj5i7pPKV",
        "colab": {
          "base_uri": "https://localhost:8080/"
        },
        "outputId": "a9ae61df-6123-4449-998d-57716480f9ab"
      },
      "source": [
        "# Get all the paths\n",
        "data_dir_list = os.listdir('/content/train')\n",
        "#print(data_dir_list)\n",
        "path, dirs, files = next(os.walk(\"/content/train\"))\n",
        "file_count = len(files)\n",
        "print(file_count)"
      ],
      "execution_count": 3,
      "outputs": [
        {
          "output_type": "stream",
          "text": [
            "25000\n"
          ],
          "name": "stdout"
        }
      ]
    },
    {
      "cell_type": "code",
      "metadata": {
        "id": "0ERlHkfHqpK8"
      },
      "source": [
        "# Make new base directory\n",
        "original_dataset_dir = '/content/train'\n",
        "base_dir = '/content/cats_and_dogs_small'\n",
        "os.mkdir(base_dir)"
      ],
      "execution_count": 4,
      "outputs": []
    },
    {
      "cell_type": "code",
      "metadata": {
        "id": "AANB1UJ6rQhM"
      },
      "source": [
        "train_dir = os.path.join(base_dir, 'train')\n",
        "os.mkdir(train_dir)\n",
        "\n",
        "validation_dir = os.path.join(base_dir, 'validation')\n",
        "os.mkdir(validation_dir)\n",
        "\n",
        "test_dir = os.path.join(base_dir, 'test')\n",
        "os.mkdir(test_dir)\n",
        "\n",
        "train_cats_dir = os.path.join(train_dir, 'cats')\n",
        "os.mkdir(train_cats_dir)\n",
        "\n",
        "train_dogs_dir = os.path.join(train_dir, 'dogs')\n",
        "os.mkdir(train_dogs_dir)\n",
        "\n",
        "validation_cats_dir = os.path.join(validation_dir, 'cats')\n",
        "os.mkdir(validation_cats_dir)\n",
        "\n",
        "validation_dogs_dir = os.path.join(validation_dir, 'dogs')\n",
        "os.mkdir(validation_dogs_dir)\n",
        "\n",
        "test_cats_dir = os.path.join(test_dir, 'cats')\n",
        "os.mkdir(test_cats_dir)\n",
        "\n",
        "test_dogs_dir = os.path.join(test_dir, 'dogs')\n",
        "os.mkdir(test_dogs_dir)"
      ],
      "execution_count": 5,
      "outputs": []
    },
    {
      "cell_type": "code",
      "metadata": {
        "id": "ULRgL9s9rV8T"
      },
      "source": [
        "import shutil\n",
        "fnames = ['cat.{}.jpg'.format(i) for i in range(1000)]\n",
        "for fname in fnames:\n",
        "    src = os.path.join(original_dataset_dir, fname)\n",
        "    dst = os.path.join(train_cats_dir, fname)\n",
        "    #print(src,dst)\n",
        "    shutil.copyfile(src, dst)\n",
        "    \n",
        "fnames = ['cat.{}.jpg'.format(i) for i in range(1000, 1500)]\n",
        "for fname in fnames:\n",
        "    src = os.path.join(original_dataset_dir, fname)\n",
        "    dst = os.path.join(validation_cats_dir, fname)\n",
        "    shutil.copyfile(src, dst)\n",
        "\n",
        "fnames = ['cat.{}.jpg'.format(i) for i in range(1500, 2000)]\n",
        "for fname in fnames:\n",
        "    src = os.path.join(original_dataset_dir, fname)\n",
        "    dst = os.path.join(test_cats_dir, fname)\n",
        "    shutil.copyfile(src, dst)\n",
        "    \n",
        "fnames = ['dog.{}.jpg'.format(i) for i in range(1000)]\n",
        "for fname in fnames:\n",
        "    src = os.path.join(original_dataset_dir, fname)\n",
        "    dst = os.path.join(train_dogs_dir, fname)\n",
        "    shutil.copyfile(src, dst)\n",
        "\n",
        "fnames = ['dog.{}.jpg'.format(i) for i in range(1000, 1500)]\n",
        "for fname in fnames:\n",
        "    src = os.path.join(original_dataset_dir, fname)\n",
        "    dst = os.path.join(validation_dogs_dir, fname)\n",
        "    shutil.copyfile(src, dst)\n",
        "\n",
        "fnames = ['dog.{}.jpg'.format(i) for i in range(1500, 2000)]\n",
        "for fname in fnames:\n",
        "    src = os.path.join(original_dataset_dir, fname)\n",
        "    dst = os.path.join(test_dogs_dir, fname)\n",
        "    shutil.copyfile(src, dst)"
      ],
      "execution_count": 6,
      "outputs": []
    },
    {
      "cell_type": "code",
      "metadata": {
        "id": "ul3XAbIyr7vC",
        "colab": {
          "base_uri": "https://localhost:8080/"
        },
        "outputId": "d3eac092-070c-42d2-9c25-448583a10d37"
      },
      "source": [
        "print('total training cat images:', len(os.listdir(train_cats_dir)))\n",
        "print('total training dog images:', len(os.listdir(train_dogs_dir)))\n",
        "print('total validation cat images:', len(os.listdir(validation_cats_dir)))\n",
        "\n",
        "print('total validation dog images:', len(os.listdir(validation_dogs_dir)))\n",
        "print('total test cat images:', len(os.listdir(test_cats_dir)))\n",
        "print('total test dog images:', len(os.listdir(test_dogs_dir)))"
      ],
      "execution_count": 7,
      "outputs": [
        {
          "output_type": "stream",
          "text": [
            "total training cat images: 1000\n",
            "total training dog images: 1000\n",
            "total validation cat images: 500\n",
            "total validation dog images: 500\n",
            "total test cat images: 500\n",
            "total test dog images: 500\n"
          ],
          "name": "stdout"
        }
      ]
    },
    {
      "cell_type": "code",
      "metadata": {
        "id": "o9yTA21_r-ma",
        "colab": {
          "base_uri": "https://localhost:8080/"
        },
        "outputId": "b76b54a8-80bf-46c7-e4c8-c40a59b9df16"
      },
      "source": [
        "from keras import layers\n",
        "from keras import models\n",
        "\n",
        "model = models.Sequential()\n",
        "model.add(layers.Conv2D(32, (3, 3), activation='relu', input_shape=(150, 150, 3)))\n",
        "model.add(layers.MaxPooling2D((2, 2)))\n",
        "model.add(layers.Conv2D(64, (3, 3), activation='relu'))\n",
        "model.add(layers.MaxPooling2D((2, 2)))\n",
        "model.add(layers.Conv2D(128, (3, 3), activation='relu'))\n",
        "model.add(layers.MaxPooling2D((2, 2)))\n",
        "model.add(layers.Conv2D(128, (3, 3), activation='relu'))\n",
        "model.add(layers.MaxPooling2D((2, 2)))\n",
        "model.add(layers.Flatten())\n",
        "model.add(layers.Dense(512, activation='relu'))\n",
        "model.add(layers.Dense(1, activation='sigmoid'))\n",
        "model.summary()"
      ],
      "execution_count": 8,
      "outputs": [
        {
          "output_type": "stream",
          "text": [
            "Model: \"sequential\"\n",
            "_________________________________________________________________\n",
            "Layer (type)                 Output Shape              Param #   \n",
            "=================================================================\n",
            "conv2d (Conv2D)              (None, 148, 148, 32)      896       \n",
            "_________________________________________________________________\n",
            "max_pooling2d (MaxPooling2D) (None, 74, 74, 32)        0         \n",
            "_________________________________________________________________\n",
            "conv2d_1 (Conv2D)            (None, 72, 72, 64)        18496     \n",
            "_________________________________________________________________\n",
            "max_pooling2d_1 (MaxPooling2 (None, 36, 36, 64)        0         \n",
            "_________________________________________________________________\n",
            "conv2d_2 (Conv2D)            (None, 34, 34, 128)       73856     \n",
            "_________________________________________________________________\n",
            "max_pooling2d_2 (MaxPooling2 (None, 17, 17, 128)       0         \n",
            "_________________________________________________________________\n",
            "conv2d_3 (Conv2D)            (None, 15, 15, 128)       147584    \n",
            "_________________________________________________________________\n",
            "max_pooling2d_3 (MaxPooling2 (None, 7, 7, 128)         0         \n",
            "_________________________________________________________________\n",
            "flatten (Flatten)            (None, 6272)              0         \n",
            "_________________________________________________________________\n",
            "dense (Dense)                (None, 512)               3211776   \n",
            "_________________________________________________________________\n",
            "dense_1 (Dense)              (None, 1)                 513       \n",
            "=================================================================\n",
            "Total params: 3,453,121\n",
            "Trainable params: 3,453,121\n",
            "Non-trainable params: 0\n",
            "_________________________________________________________________\n"
          ],
          "name": "stdout"
        }
      ]
    },
    {
      "cell_type": "code",
      "metadata": {
        "id": "2mG8wekxsBVS"
      },
      "source": [
        "from keras import optimizers\n",
        "model.compile(loss='binary_crossentropy', \n",
        "              optimizer=optimizers.RMSprop(lr=1e-4),\n",
        "              metrics=['acc'])"
      ],
      "execution_count": 9,
      "outputs": []
    },
    {
      "cell_type": "markdown",
      "metadata": {
        "id": "7zS4Klm8qWp6"
      },
      "source": [
        "## Using ImageDataGenerator to read images from directories\n",
        "As you know by now, data should be formatted into appropriately preprocessed floatingpoint tensors before being fed into the network. Currently, the data sits on a drive as JPEG files, so the steps for getting it into the network are roughly as follows:\n",
        "\n",
        "* Read the picture files.\n",
        "* Decode the JPEG content to RGB grids of pixels.\n",
        "* Convert these into floating-point tensors.\n",
        "* Rescale the pixel values (between 0 and 255) to the [0, 1] interval (as you know, neural networks prefer to deal with small input values).\n",
        "\n",
        "It may seem a bit daunting, but fortunately Keras has utilities to take care of these steps automatically. Keras has a module with image-processing helper tools, located at keras.preprocessing.image. In particular, it contains the class ImageDataGenerator,which lets you quickly set up Python generators that can automatically turn image files on disk into batches of preprocessed tensors."
      ]
    },
    {
      "cell_type": "code",
      "metadata": {
        "id": "XJ7XU7t9sEh6",
        "colab": {
          "base_uri": "https://localhost:8080/"
        },
        "outputId": "e3bcfe24-4e85-481c-d83f-91cc1e957a3f"
      },
      "source": [
        "from keras.preprocessing.image import ImageDataGenerator\n",
        "\n",
        "train_datagen = ImageDataGenerator(rescale=1./255)\n",
        "test_datagen = ImageDataGenerator(rescale=1./255)\n",
        "\n",
        "train_generator = train_datagen.flow_from_directory(train_dir,\n",
        "                                                    target_size=(150, 150), \n",
        "                                                    batch_size=20,\n",
        "                                                    class_mode='binary')\n",
        "\n",
        "validation_generator = test_datagen.flow_from_directory(validation_dir,\n",
        "                                                        target_size=(150, 150),\n",
        "                                                        batch_size=20,\n",
        "                                                        class_mode='binary')"
      ],
      "execution_count": 10,
      "outputs": [
        {
          "output_type": "stream",
          "text": [
            "Found 2000 images belonging to 2 classes.\n",
            "Found 1000 images belonging to 2 classes.\n"
          ],
          "name": "stdout"
        }
      ]
    },
    {
      "cell_type": "markdown",
      "metadata": {
        "id": "SEgLywySqm4u"
      },
      "source": [
        "Let’s fit the model to the data using the generator. You do so using the fit_generator method, the equivalent of fit for data generators like this one. It expects as its first argument a Python generator that will yield batches of inputs and targets indefinitely,like this one does. Because the data is being generated endlessly, the Keras model needs to know how many samples to draw from the generator before declaring anepoch over. This is the role of the `steps_per_epoch` argument: after having drawn `steps_per_epoch` batches from the generator—that is, after having run for `steps_per_epoch` gradient descent steps—the fitting process will go to the next epoch. In this case, batches are 20 samples, so it will take 100 batches until you see your target of 2,000 samples.\n",
        "\n",
        "When using fit_generator, you can pass a validation_data argument, much as with the fit method. It’s important to note that this argument is allowed to be a data generator, but it could also be a tuple of Numpy arrays. If you pass a generator as validation_data, then this generator is expected to yield batches of validation data endlessly; thus you should also specify the validation_steps argument, which tells the process how many batches to draw from the validation generator for evaluation."
      ]
    },
    {
      "cell_type": "code",
      "metadata": {
        "id": "yMyfPphJsJG6",
        "colab": {
          "base_uri": "https://localhost:8080/"
        },
        "outputId": "3fbdc165-dedd-49c5-c5f3-95eb6b821ebe"
      },
      "source": [
        "history = model.fit_generator(train_generator,\n",
        "                              steps_per_epoch=100,\n",
        "                              epochs=30,\n",
        "                              validation_data=validation_generator,\n",
        "                              validation_steps=10)"
      ],
      "execution_count": 11,
      "outputs": [
        {
          "output_type": "stream",
          "text": [
            "/usr/local/lib/python3.7/dist-packages/tensorflow/python/keras/engine/training.py:1844: UserWarning: `Model.fit_generator` is deprecated and will be removed in a future version. Please use `Model.fit`, which supports generators.\n",
            "  warnings.warn('`Model.fit_generator` is deprecated and '\n"
          ],
          "name": "stderr"
        },
        {
          "output_type": "stream",
          "text": [
            "Epoch 1/30\n",
            "100/100 [==============================] - 40s 68ms/step - loss: 0.6995 - acc: 0.5129 - val_loss: 0.6757 - val_acc: 0.5800\n",
            "Epoch 2/30\n",
            "100/100 [==============================] - 6s 65ms/step - loss: 0.6613 - acc: 0.6128 - val_loss: 0.6504 - val_acc: 0.6100\n",
            "Epoch 3/30\n",
            "100/100 [==============================] - 7s 65ms/step - loss: 0.6210 - acc: 0.6589 - val_loss: 0.6241 - val_acc: 0.6450\n",
            "Epoch 4/30\n",
            "100/100 [==============================] - 7s 66ms/step - loss: 0.5933 - acc: 0.6722 - val_loss: 0.6495 - val_acc: 0.6500\n",
            "Epoch 5/30\n",
            "100/100 [==============================] - 7s 65ms/step - loss: 0.5355 - acc: 0.7388 - val_loss: 0.5912 - val_acc: 0.7100\n",
            "Epoch 6/30\n",
            "100/100 [==============================] - 7s 65ms/step - loss: 0.5012 - acc: 0.7599 - val_loss: 0.5280 - val_acc: 0.7200\n",
            "Epoch 7/30\n",
            "100/100 [==============================] - 6s 65ms/step - loss: 0.4712 - acc: 0.7759 - val_loss: 0.5331 - val_acc: 0.7500\n",
            "Epoch 8/30\n",
            "100/100 [==============================] - 7s 66ms/step - loss: 0.4330 - acc: 0.7965 - val_loss: 0.5561 - val_acc: 0.7100\n",
            "Epoch 9/30\n",
            "100/100 [==============================] - 7s 66ms/step - loss: 0.3988 - acc: 0.8254 - val_loss: 0.5428 - val_acc: 0.7250\n",
            "Epoch 10/30\n",
            "100/100 [==============================] - 7s 66ms/step - loss: 0.3718 - acc: 0.8372 - val_loss: 0.6046 - val_acc: 0.6900\n",
            "Epoch 11/30\n",
            "100/100 [==============================] - 7s 65ms/step - loss: 0.3288 - acc: 0.8616 - val_loss: 0.6234 - val_acc: 0.6750\n",
            "Epoch 12/30\n",
            "100/100 [==============================] - 7s 65ms/step - loss: 0.3429 - acc: 0.8361 - val_loss: 0.6305 - val_acc: 0.7250\n",
            "Epoch 13/30\n",
            "100/100 [==============================] - 7s 66ms/step - loss: 0.2988 - acc: 0.8710 - val_loss: 0.5340 - val_acc: 0.7200\n",
            "Epoch 14/30\n",
            "100/100 [==============================] - 7s 66ms/step - loss: 0.2800 - acc: 0.8866 - val_loss: 0.5146 - val_acc: 0.7550\n",
            "Epoch 15/30\n",
            "100/100 [==============================] - 6s 65ms/step - loss: 0.2679 - acc: 0.8779 - val_loss: 0.5750 - val_acc: 0.7450\n",
            "Epoch 16/30\n",
            "100/100 [==============================] - 7s 65ms/step - loss: 0.2365 - acc: 0.9106 - val_loss: 0.7340 - val_acc: 0.7000\n",
            "Epoch 17/30\n",
            "100/100 [==============================] - 7s 66ms/step - loss: 0.2307 - acc: 0.9130 - val_loss: 0.6955 - val_acc: 0.7200\n",
            "Epoch 18/30\n",
            "100/100 [==============================] - 7s 66ms/step - loss: 0.1786 - acc: 0.9323 - val_loss: 0.6659 - val_acc: 0.7050\n",
            "Epoch 19/30\n",
            "100/100 [==============================] - 7s 65ms/step - loss: 0.1703 - acc: 0.9417 - val_loss: 0.6499 - val_acc: 0.7400\n",
            "Epoch 20/30\n",
            "100/100 [==============================] - 7s 66ms/step - loss: 0.1513 - acc: 0.9547 - val_loss: 0.6545 - val_acc: 0.7250\n",
            "Epoch 21/30\n",
            "100/100 [==============================] - 6s 65ms/step - loss: 0.1316 - acc: 0.9607 - val_loss: 0.7527 - val_acc: 0.7050\n",
            "Epoch 22/30\n",
            "100/100 [==============================] - 7s 65ms/step - loss: 0.1244 - acc: 0.9567 - val_loss: 0.8199 - val_acc: 0.7300\n",
            "Epoch 23/30\n",
            "100/100 [==============================] - 7s 66ms/step - loss: 0.1018 - acc: 0.9664 - val_loss: 0.9022 - val_acc: 0.7450\n",
            "Epoch 24/30\n",
            "100/100 [==============================] - 7s 66ms/step - loss: 0.0755 - acc: 0.9807 - val_loss: 0.8900 - val_acc: 0.7400\n",
            "Epoch 25/30\n",
            "100/100 [==============================] - 7s 65ms/step - loss: 0.0604 - acc: 0.9857 - val_loss: 0.9461 - val_acc: 0.7500\n",
            "Epoch 26/30\n",
            "100/100 [==============================] - 7s 65ms/step - loss: 0.0694 - acc: 0.9808 - val_loss: 0.8647 - val_acc: 0.7100\n",
            "Epoch 27/30\n",
            "100/100 [==============================] - 7s 66ms/step - loss: 0.0607 - acc: 0.9779 - val_loss: 1.3263 - val_acc: 0.6600\n",
            "Epoch 28/30\n",
            "100/100 [==============================] - 6s 64ms/step - loss: 0.0527 - acc: 0.9850 - val_loss: 0.8865 - val_acc: 0.7250\n",
            "Epoch 29/30\n",
            "100/100 [==============================] - 7s 66ms/step - loss: 0.0372 - acc: 0.9943 - val_loss: 1.2493 - val_acc: 0.7350\n",
            "Epoch 30/30\n",
            "100/100 [==============================] - 7s 67ms/step - loss: 0.0300 - acc: 0.9933 - val_loss: 1.0089 - val_acc: 0.7350\n"
          ],
          "name": "stdout"
        }
      ]
    },
    {
      "cell_type": "code",
      "metadata": {
        "id": "MZaZ2HWZsNUi",
        "colab": {
          "base_uri": "https://localhost:8080/",
          "height": 545
        },
        "outputId": "0c521b9b-8c87-4c1f-d1c1-bee6041724cc"
      },
      "source": [
        "model.save('cats_and_dogs_small_1.h5')\n",
        "\n",
        "import matplotlib.pyplot as plt\n",
        "\n",
        "acc = history.history['acc']\n",
        "val_acc = history.history['val_acc']\n",
        "loss = history.history['loss']\n",
        "val_loss = history.history['val_loss']\n",
        "\n",
        "epochs = range(1, len(acc) + 1)\n",
        "\n",
        "plt.plot(epochs, acc, 'bo', label='Training acc')\n",
        "plt.plot(epochs, val_acc, 'b', label='Validation acc')\n",
        "plt.title('Training and validation accuracy')\n",
        "plt.legend()\n",
        "\n",
        "plt.figure()\n",
        "\n",
        "plt.plot(epochs, loss, 'bo', label='Training loss')\n",
        "plt.plot(epochs, val_loss, 'b', label='Validation loss')\n",
        "plt.title('Training and validation loss')\n",
        "plt.legend()\n",
        "\n",
        "plt.show()"
      ],
      "execution_count": 12,
      "outputs": [
        {
          "output_type": "display_data",
          "data": {
            "image/png": "[encoded data removed]",
            "text/plain": [
              "<Figure size 432x288 with 1 Axes>"
            ]
          },
          "metadata": {
            "tags": [],
            "needs_background": "light"
          }
        },
        {
          "output_type": "display_data",
          "data": {
            "image/png": "[encoded data removed]",
            "text/plain": [
              "<Figure size 432x288 with 1 Axes>"
            ]
          },
          "metadata": {
            "tags": [],
            "needs_background": "light"
          }
        }
      ]
    },
    {
      "cell_type": "markdown",
      "metadata": {
        "id": "XKZmXmBcq_8-"
      },
      "source": [
        "## Convolutional Networks with Dropout\n",
        "\n",
        "![alt text](https://camo.githubusercontent.com/ee6fa1073247cd2c3d241300caf110d7a7541bc5/68747470733a2f2f63646e2d696d616765732d312e6d656469756d2e636f6d2f6d61782f3830302f312a4972644a355067684439596f4f7956415137334d4a772e676966)\n",
        "\n",
        "Ref: https://github.com/mneha4/Training-Neural-Nets---Guidelines"
      ]
    },
    {
      "cell_type": "code",
      "metadata": {
        "id": "wu3cqeYQrDeN"
      },
      "source": [
        "model = models.Sequential()\n",
        "model.add(layers.Conv2D(32, (3, 3), activation='relu',\n",
        "input_shape=(150, 150, 3)))\n",
        "model.add(layers.MaxPooling2D((2, 2)))\n",
        "model.add(layers.Conv2D(64, (3, 3), activation='relu'))\n",
        "model.add(layers.MaxPooling2D((2, 2)))\n",
        "model.add(layers.Conv2D(128, (3, 3), activation='relu'))\n",
        "model.add(layers.MaxPooling2D((2, 2)))\n",
        "model.add(layers.Conv2D(128, (3, 3), activation='relu'))\n",
        "model.add(layers.MaxPooling2D((2, 2)))\n",
        "model.add(layers.Flatten())\n",
        "model.add(layers.Dropout(0.75))\n",
        "model.add(layers.Dense(512, activation='relu'))\n",
        "model.add(layers.Dense(1, activation='sigmoid'))\n",
        "\n",
        "model.compile(loss='binary_crossentropy',\n",
        "              optimizer=optimizers.RMSprop(lr=1e-4),\n",
        "              metrics=['acc'])"
      ],
      "execution_count": 13,
      "outputs": []
    },
    {
      "cell_type": "code",
      "metadata": {
        "id": "QSeLpvY0rH7F",
        "colab": {
          "base_uri": "https://localhost:8080/"
        },
        "outputId": "666ed9ce-e917-46dd-e3f2-c2b8a47cb009"
      },
      "source": [
        "\n",
        "train_datagen = ImageDataGenerator(rescale=1./255,\n",
        "                                   rotation_range=40,\n",
        "                                   width_shift_range=0.2,\n",
        "                                   height_shift_range=0.2,\n",
        "                                   shear_range=0.2,\n",
        "                                   zoom_range=0.2,\n",
        "                                   horizontal_flip=True,)\n",
        "\n",
        "test_datagen = ImageDataGenerator(rescale=1./255)\n",
        "\n",
        "train_generator = train_datagen.flow_from_directory(train_dir,\n",
        "                                                    target_size=(150, 150),\n",
        "                                                    batch_size=20,\n",
        "                                                    class_mode='binary')\n",
        "\n",
        "validation_generator = test_datagen.flow_from_directory(validation_dir,\n",
        "                                                        target_size=(150, 150),\n",
        "                                                        batch_size=20,\n",
        "                                                        class_mode='binary')\n",
        "\n",
        "history = model.fit_generator(train_generator,\n",
        "                              steps_per_epoch=100,\n",
        "                              epochs=20,\n",
        "                              validation_data=validation_generator,\n",
        "                              validation_steps=50)"
      ],
      "execution_count": 14,
      "outputs": [
        {
          "output_type": "stream",
          "text": [
            "Found 2000 images belonging to 2 classes.\n",
            "Found 1000 images belonging to 2 classes.\n"
          ],
          "name": "stdout"
        },
        {
          "output_type": "stream",
          "text": [
            "/usr/local/lib/python3.7/dist-packages/tensorflow/python/keras/engine/training.py:1844: UserWarning: `Model.fit_generator` is deprecated and will be removed in a future version. Please use `Model.fit`, which supports generators.\n",
            "  warnings.warn('`Model.fit_generator` is deprecated and '\n"
          ],
          "name": "stderr"
        },
        {
          "output_type": "stream",
          "text": [
            "Epoch 1/20\n",
            "100/100 [==============================] - 18s 170ms/step - loss: 0.6928 - acc: 0.5167 - val_loss: 0.6910 - val_acc: 0.5010\n",
            "Epoch 2/20\n",
            "100/100 [==============================] - 17s 170ms/step - loss: 0.6916 - acc: 0.5198 - val_loss: 0.6794 - val_acc: 0.5950\n",
            "Epoch 3/20\n",
            "100/100 [==============================] - 17s 170ms/step - loss: 0.6847 - acc: 0.5739 - val_loss: 0.6682 - val_acc: 0.5920\n",
            "Epoch 4/20\n",
            "100/100 [==============================] - 17s 171ms/step - loss: 0.6815 - acc: 0.5601 - val_loss: 0.6608 - val_acc: 0.5940\n",
            "Epoch 5/20\n",
            "100/100 [==============================] - 17s 171ms/step - loss: 0.6787 - acc: 0.5766 - val_loss: 0.6808 - val_acc: 0.5640\n",
            "Epoch 6/20\n",
            "100/100 [==============================] - 17s 170ms/step - loss: 0.6741 - acc: 0.5693 - val_loss: 0.6405 - val_acc: 0.6170\n",
            "Epoch 7/20\n",
            "100/100 [==============================] - 17s 171ms/step - loss: 0.6612 - acc: 0.5955 - val_loss: 0.7092 - val_acc: 0.5680\n",
            "Epoch 8/20\n",
            "100/100 [==============================] - 17s 170ms/step - loss: 0.6429 - acc: 0.6388 - val_loss: 0.6197 - val_acc: 0.6530\n",
            "Epoch 9/20\n",
            "100/100 [==============================] - 17s 172ms/step - loss: 0.6363 - acc: 0.6516 - val_loss: 0.6866 - val_acc: 0.5770\n",
            "Epoch 10/20\n",
            "100/100 [==============================] - 17s 171ms/step - loss: 0.6174 - acc: 0.6500 - val_loss: 0.5947 - val_acc: 0.6650\n",
            "Epoch 11/20\n",
            "100/100 [==============================] - 17s 172ms/step - loss: 0.6156 - acc: 0.6610 - val_loss: 0.6397 - val_acc: 0.6260\n",
            "Epoch 12/20\n",
            "100/100 [==============================] - 17s 172ms/step - loss: 0.6217 - acc: 0.6657 - val_loss: 0.5703 - val_acc: 0.6870\n",
            "Epoch 13/20\n",
            "100/100 [==============================] - 17s 172ms/step - loss: 0.5976 - acc: 0.6835 - val_loss: 0.5887 - val_acc: 0.6670\n",
            "Epoch 14/20\n",
            "100/100 [==============================] - 17s 172ms/step - loss: 0.6111 - acc: 0.6671 - val_loss: 0.5730 - val_acc: 0.7000\n",
            "Epoch 15/20\n",
            "100/100 [==============================] - 17s 171ms/step - loss: 0.5763 - acc: 0.6907 - val_loss: 0.5731 - val_acc: 0.6900\n",
            "Epoch 16/20\n",
            "100/100 [==============================] - 17s 171ms/step - loss: 0.5902 - acc: 0.6853 - val_loss: 0.5666 - val_acc: 0.6930\n",
            "Epoch 17/20\n",
            "100/100 [==============================] - 17s 173ms/step - loss: 0.5936 - acc: 0.6783 - val_loss: 0.5380 - val_acc: 0.7120\n",
            "Epoch 18/20\n",
            "100/100 [==============================] - 17s 172ms/step - loss: 0.5793 - acc: 0.7006 - val_loss: 0.5447 - val_acc: 0.7160\n",
            "Epoch 19/20\n",
            "100/100 [==============================] - 17s 173ms/step - loss: 0.5600 - acc: 0.7100 - val_loss: 0.5418 - val_acc: 0.7060\n",
            "Epoch 20/20\n",
            "100/100 [==============================] - 17s 173ms/step - loss: 0.5543 - acc: 0.7135 - val_loss: 0.6264 - val_acc: 0.6700\n"
          ],
          "name": "stdout"
        }
      ]
    },
    {
      "cell_type": "markdown",
      "metadata": {
        "id": "BRdU5yrkUF_b"
      },
      "source": [
        "# Task 2:\n",
        "\n",
        "We have used Dropout to enhance the performance of the CNN model. Can you please use whatever you like to further enhance the performance from `val_acc: 0.7506`? "
      ]
    },
    {
      "cell_type": "code",
      "metadata": {
        "id": "E0yXTuNOje_j"
      },
      "source": [
        "model = models.Sequential()\n",
        "model.add(layers.Conv2D(32, (3, 3), activation='relu',\n",
        "input_shape=(150, 150, 3)))\n",
        "model.add(layers.MaxPooling2D((2, 2)))\n",
        "model.add(layers.Conv2D(64, (3, 3), activation='relu'))\n",
        "model.add(layers.MaxPooling2D((2, 2)))\n",
        "model.add(layers.Conv2D(128, (3, 3), activation='relu'))\n",
        "model.add(layers.MaxPooling2D((2, 2)))\n",
        "model.add(layers.Conv2D(128, (3, 3), activation='relu'))\n",
        "model.add(layers.MaxPooling2D((2, 2)))\n",
        "model.add(layers.Flatten())\n",
        "model.add(layers.Dropout(0.75))\n",
        "model.add(layers.Dense(512, activation='relu'))\n",
        "model.add(layers.Dense(1, activation='sigmoid'))\n",
        "\n",
        "model.compile(loss='binary_crossentropy',\n",
        "              optimizer=optimizers.RMSprop(lr=1e-4),\n",
        "              metrics=['acc'])"
      ],
      "execution_count": 58,
      "outputs": []
    },
    {
      "cell_type": "code",
      "metadata": {
        "id": "OKoG12THgS5h",
        "outputId": "f8109e3e-8802-4a6a-f1ee-5432ea1ed0bd",
        "colab": {
          "base_uri": "https://localhost:8080/"
        }
      },
      "source": [
        "history = model.fit_generator(train_generator,\n",
        "                              steps_per_epoch=100,\n",
        "                              epochs=50,\n",
        "                              validation_data=validation_generator,\n",
        "                              validation_steps=50)"
      ],
      "execution_count": 61,
      "outputs": [
        {
          "output_type": "stream",
          "text": [
            "/usr/local/lib/python3.7/dist-packages/tensorflow/python/keras/engine/training.py:1844: UserWarning: `Model.fit_generator` is deprecated and will be removed in a future version. Please use `Model.fit`, which supports generators.\n",
            "  warnings.warn('`Model.fit_generator` is deprecated and '\n"
          ],
          "name": "stderr"
        },
        {
          "output_type": "stream",
          "text": [
            "Epoch 1/50\n",
            "100/100 [==============================] - 17s 171ms/step - loss: 0.5416 - acc: 0.7275 - val_loss: 0.5137 - val_acc: 0.7390\n",
            "Epoch 2/50\n",
            "100/100 [==============================] - 17s 172ms/step - loss: 0.5346 - acc: 0.7315 - val_loss: 0.5693 - val_acc: 0.7100\n",
            "Epoch 3/50\n",
            "100/100 [==============================] - 17s 170ms/step - loss: 0.5598 - acc: 0.7090 - val_loss: 0.5205 - val_acc: 0.7350\n",
            "Epoch 4/50\n",
            "100/100 [==============================] - 17s 172ms/step - loss: 0.5416 - acc: 0.7200 - val_loss: 0.4959 - val_acc: 0.7530\n",
            "Epoch 5/50\n",
            "100/100 [==============================] - 17s 170ms/step - loss: 0.5296 - acc: 0.7460 - val_loss: 0.5931 - val_acc: 0.6920\n",
            "Epoch 6/50\n",
            "100/100 [==============================] - 18s 176ms/step - loss: 0.5428 - acc: 0.7240 - val_loss: 0.4989 - val_acc: 0.7470\n",
            "Epoch 7/50\n",
            "100/100 [==============================] - 17s 175ms/step - loss: 0.5274 - acc: 0.7425 - val_loss: 0.5081 - val_acc: 0.7490\n",
            "Epoch 8/50\n",
            "100/100 [==============================] - 17s 171ms/step - loss: 0.5303 - acc: 0.7315 - val_loss: 0.5094 - val_acc: 0.7450\n",
            "Epoch 9/50\n",
            "100/100 [==============================] - 17s 169ms/step - loss: 0.5159 - acc: 0.7395 - val_loss: 0.5043 - val_acc: 0.7430\n",
            "Epoch 10/50\n",
            "100/100 [==============================] - 17s 169ms/step - loss: 0.5348 - acc: 0.7350 - val_loss: 0.4876 - val_acc: 0.7670\n",
            "Epoch 11/50\n",
            "100/100 [==============================] - 17s 169ms/step - loss: 0.5157 - acc: 0.7450 - val_loss: 0.4995 - val_acc: 0.7460\n",
            "Epoch 12/50\n",
            "100/100 [==============================] - 17s 170ms/step - loss: 0.5150 - acc: 0.7460 - val_loss: 0.5196 - val_acc: 0.7360\n",
            "Epoch 13/50\n",
            "100/100 [==============================] - 17s 171ms/step - loss: 0.5172 - acc: 0.7540 - val_loss: 0.5568 - val_acc: 0.7180\n",
            "Epoch 14/50\n",
            "100/100 [==============================] - 17s 171ms/step - loss: 0.5121 - acc: 0.7395 - val_loss: 0.4877 - val_acc: 0.7640\n",
            "Epoch 15/50\n",
            "100/100 [==============================] - 17s 169ms/step - loss: 0.5044 - acc: 0.7535 - val_loss: 0.4926 - val_acc: 0.7510\n",
            "Epoch 16/50\n",
            "100/100 [==============================] - 17s 170ms/step - loss: 0.4954 - acc: 0.7620 - val_loss: 0.4743 - val_acc: 0.7850\n",
            "Epoch 17/50\n",
            "100/100 [==============================] - 17s 169ms/step - loss: 0.5060 - acc: 0.7480 - val_loss: 0.5005 - val_acc: 0.7590\n",
            "Epoch 18/50\n",
            "100/100 [==============================] - 17s 171ms/step - loss: 0.5048 - acc: 0.7630 - val_loss: 0.4870 - val_acc: 0.7680\n",
            "Epoch 19/50\n",
            "100/100 [==============================] - 17s 172ms/step - loss: 0.4929 - acc: 0.7790 - val_loss: 0.5424 - val_acc: 0.7360\n",
            "Epoch 20/50\n",
            "100/100 [==============================] - 17s 174ms/step - loss: 0.4973 - acc: 0.7675 - val_loss: 0.4757 - val_acc: 0.7730\n",
            "Epoch 21/50\n",
            "100/100 [==============================] - 17s 173ms/step - loss: 0.4962 - acc: 0.7565 - val_loss: 0.5024 - val_acc: 0.7580\n",
            "Epoch 22/50\n",
            "100/100 [==============================] - 17s 174ms/step - loss: 0.4783 - acc: 0.7685 - val_loss: 0.4815 - val_acc: 0.7800\n",
            "Epoch 23/50\n",
            "100/100 [==============================] - 17s 172ms/step - loss: 0.4919 - acc: 0.7595 - val_loss: 0.5365 - val_acc: 0.7310\n",
            "Epoch 24/50\n",
            "100/100 [==============================] - 17s 171ms/step - loss: 0.4935 - acc: 0.7675 - val_loss: 0.4721 - val_acc: 0.7830\n",
            "Epoch 25/50\n",
            "100/100 [==============================] - 17s 172ms/step - loss: 0.4923 - acc: 0.7660 - val_loss: 0.4935 - val_acc: 0.7560\n",
            "Epoch 26/50\n",
            "100/100 [==============================] - 17s 172ms/step - loss: 0.4937 - acc: 0.7635 - val_loss: 0.5146 - val_acc: 0.7360\n",
            "Epoch 27/50\n",
            "100/100 [==============================] - 17s 171ms/step - loss: 0.4940 - acc: 0.7535 - val_loss: 0.4634 - val_acc: 0.7830\n",
            "Epoch 28/50\n",
            "100/100 [==============================] - 17s 173ms/step - loss: 0.4880 - acc: 0.7640 - val_loss: 0.4817 - val_acc: 0.7810\n",
            "Epoch 29/50\n",
            "100/100 [==============================] - 17s 172ms/step - loss: 0.4734 - acc: 0.7665 - val_loss: 0.4744 - val_acc: 0.7710\n",
            "Epoch 30/50\n",
            "100/100 [==============================] - 17s 172ms/step - loss: 0.4836 - acc: 0.7665 - val_loss: 0.4666 - val_acc: 0.7740\n",
            "Epoch 31/50\n",
            "100/100 [==============================] - 17s 172ms/step - loss: 0.4660 - acc: 0.7745 - val_loss: 0.4889 - val_acc: 0.7760\n",
            "Epoch 32/50\n",
            "100/100 [==============================] - 17s 172ms/step - loss: 0.4745 - acc: 0.7835 - val_loss: 0.5362 - val_acc: 0.7240\n",
            "Epoch 33/50\n",
            "100/100 [==============================] - 17s 172ms/step - loss: 0.4741 - acc: 0.7785 - val_loss: 0.4787 - val_acc: 0.7710\n",
            "Epoch 34/50\n",
            "100/100 [==============================] - 17s 171ms/step - loss: 0.4682 - acc: 0.7755 - val_loss: 0.4654 - val_acc: 0.7760\n",
            "Epoch 35/50\n",
            "100/100 [==============================] - 17s 172ms/step - loss: 0.4638 - acc: 0.7875 - val_loss: 0.4823 - val_acc: 0.7540\n",
            "Epoch 36/50\n",
            "100/100 [==============================] - 17s 172ms/step - loss: 0.4561 - acc: 0.7875 - val_loss: 0.4766 - val_acc: 0.7680\n",
            "Epoch 37/50\n",
            "100/100 [==============================] - 17s 172ms/step - loss: 0.4769 - acc: 0.7780 - val_loss: 0.4879 - val_acc: 0.7730\n",
            "Epoch 38/50\n",
            "100/100 [==============================] - 17s 171ms/step - loss: 0.4559 - acc: 0.7860 - val_loss: 0.5229 - val_acc: 0.7430\n",
            "Epoch 39/50\n",
            "100/100 [==============================] - 17s 172ms/step - loss: 0.4497 - acc: 0.7895 - val_loss: 0.4986 - val_acc: 0.7530\n",
            "Epoch 40/50\n",
            "100/100 [==============================] - 17s 172ms/step - loss: 0.4655 - acc: 0.7860 - val_loss: 0.4327 - val_acc: 0.8040\n",
            "Epoch 41/50\n",
            "100/100 [==============================] - 17s 173ms/step - loss: 0.4413 - acc: 0.7950 - val_loss: 0.4876 - val_acc: 0.7670\n",
            "Epoch 42/50\n",
            "100/100 [==============================] - 17s 172ms/step - loss: 0.4598 - acc: 0.7850 - val_loss: 0.5258 - val_acc: 0.7410\n",
            "Epoch 43/50\n",
            "100/100 [==============================] - 17s 171ms/step - loss: 0.4539 - acc: 0.7855 - val_loss: 0.5454 - val_acc: 0.7410\n",
            "Epoch 44/50\n",
            "100/100 [==============================] - 17s 170ms/step - loss: 0.4450 - acc: 0.7900 - val_loss: 0.4604 - val_acc: 0.7850\n",
            "Epoch 45/50\n",
            "100/100 [==============================] - 17s 171ms/step - loss: 0.4524 - acc: 0.7835 - val_loss: 0.4901 - val_acc: 0.7710\n",
            "Epoch 46/50\n",
            "100/100 [==============================] - 17s 171ms/step - loss: 0.4527 - acc: 0.7810 - val_loss: 0.4432 - val_acc: 0.7830\n",
            "Epoch 47/50\n",
            "100/100 [==============================] - 17s 173ms/step - loss: 0.4403 - acc: 0.7990 - val_loss: 0.4854 - val_acc: 0.7710\n",
            "Epoch 48/50\n",
            "100/100 [==============================] - 17s 172ms/step - loss: 0.4247 - acc: 0.8050 - val_loss: 0.4998 - val_acc: 0.7670\n",
            "Epoch 49/50\n",
            "100/100 [==============================] - 17s 172ms/step - loss: 0.4675 - acc: 0.7860 - val_loss: 0.4380 - val_acc: 0.7960\n",
            "Epoch 50/50\n",
            "100/100 [==============================] - 17s 171ms/step - loss: 0.4580 - acc: 0.7810 - val_loss: 0.5040 - val_acc: 0.7550\n"
          ],
          "name": "stdout"
        }
      ]
    },
    {
      "cell_type": "code",
      "metadata": {
        "id": "1l7yrBGzlOlg",
        "outputId": "c2425016-cde7-49ab-ec53-b1c10d3ebdce",
        "colab": {
          "base_uri": "https://localhost:8080/",
          "height": 545
        }
      },
      "source": [
        "acc = history.history['acc']\n",
        "val_acc = history.history['val_acc']\n",
        "loss = history.history['loss']\n",
        "val_loss = history.history['val_loss']\n",
        "\n",
        "epochs = range(1, len(acc) + 1)\n",
        "\n",
        "plt.plot(epochs, acc, 'bo', label='Training acc')\n",
        "plt.plot(epochs, val_acc, 'b', label='Validation acc')\n",
        "plt.title('Training and validation accuracy')\n",
        "plt.legend()\n",
        "\n",
        "plt.figure()\n",
        "\n",
        "plt.plot(epochs, loss, 'bo', label='Training loss')\n",
        "plt.plot(epochs, val_loss, 'b', label='Validation loss')\n",
        "plt.title('Training and validation loss')\n",
        "plt.legend()\n",
        "\n",
        "plt.show()"
      ],
      "execution_count": 62,
      "outputs": [
        {
          "output_type": "display_data",
          "data": {
            "image/png": "[encoded data removed]",
            "text/plain": [
              "<Figure size 432x288 with 1 Axes>"
            ]
          },
          "metadata": {
            "tags": [],
            "needs_background": "light"
          }
        },
        {
          "output_type": "display_data",
          "data": {
            "image/png": "[encoded data removed]",
            "text/plain": [
              "<Figure size 432x288 with 1 Axes>"
            ]
          },
          "metadata": {
            "tags": [],
            "needs_background": "light"
          }
        }
      ]
    }
  ]
}