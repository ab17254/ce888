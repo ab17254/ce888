{
  "nbformat": 4,
  "nbformat_minor": 0,
  "metadata": {
    "kernelspec": {
      "display_name": "Python 3",
      "language": "python",
      "name": "python3"
    },
    "language_info": {
      "codemirror_mode": {
        "name": "ipython",
        "version": 3
      },
      "file_extension": ".py",
      "mimetype": "text/x-python",
      "name": "python",
      "nbconvert_exporter": "python",
      "pygments_lexer": "ipython3",
      "version": "3.6.5"
    },
    "colab": {
      "name": "CNN.ipynb",
      "provenance": [],
      "include_colab_link": true
    },
    "accelerator": "GPU"
  },
  "cells": [
    {
      "cell_type": "markdown",
      "metadata": {
        "id": "view-in-github",
        "colab_type": "text"
      },
      "source": [
        "<a href=\"https://colab.research.google.com/github/ab17254/ce888/blob/main/Lab7/Exercise_1_CNN.ipynb\" target=\"_parent\"><img src=\"https://colab.research.google.com/assets/colab-badge.svg\" alt=\"Open In Colab\"/></a>"
      ]
    },
    {
      "cell_type": "markdown",
      "metadata": {
        "id": "vwRGEQbzGpYQ"
      },
      "source": [
        "# First CNN model for MNIST Dataset\n",
        "\n",
        "* MNIST Dataset is ''Hello World'' of Image Recognition\n",
        "\n",
        "* [Dataset HomePage](http://yann.lecun.com/exdb/mnist/)\n",
        "\n",
        "* History of MNIST Dataset [Watch here](https://www.youtube.com/watch?v=oKzNUGz21JM)\n",
        "\n",
        "\n",
        "---\n",
        "The MNIST database of handwritten digits, available from this page, has a training set of 60,000 examples, and a \n",
        "test set of 10,000 examples. It is a subset of a larger set available from NIST. The digits have been size-normalized and centered in a fixed-size image.\n",
        "\n",
        "![Kitten](https://camo.githubusercontent.com/01c057a753e92a9bc70b8c45d62b295431851c09cffadf53106fc0aea7e2843f/687474703a2f2f692e7974696d672e636f6d2f76692f3051493378675875422d512f687164656661756c742e6a7067)\n"
      ]
    },
    {
      "cell_type": "markdown",
      "metadata": {
        "id": "PhmJOHCpJD_w"
      },
      "source": [
        "# Let's start building our first CNN Model"
      ]
    },
    {
      "cell_type": "code",
      "metadata": {
        "id": "lSyHCSV7jymI"
      },
      "source": [
        "from keras import layers\n",
        "from keras import models"
      ],
      "execution_count": 1,
      "outputs": []
    },
    {
      "cell_type": "markdown",
      "metadata": {
        "id": "oWNzCYUUjymN"
      },
      "source": [
        "Importantly, a convnet takes as input tensors of shape (image_height, image_width,\n",
        "image_channels) (not including the batch dimension). In this case, we’ll configure\n",
        "the convnet to process inputs of size (28, 28, 1), which is the format of MNIST\n",
        "images. We’ll do this by passing the argument input_shape=(28, 28, 1) to the first\n",
        "layer."
      ]
    },
    {
      "cell_type": "markdown",
      "metadata": {
        "id": "dM4JLEpwjymN"
      },
      "source": [
        "#### Instantiating a small convnet"
      ]
    },
    {
      "cell_type": "code",
      "metadata": {
        "id": "p-OnpExGjymO",
        "outputId": "4cffaafc-139b-4105-9a24-a270e3f25c9f",
        "colab": {
          "base_uri": "https://localhost:8080/"
        }
      },
      "source": [
        "model = models.Sequential()\n",
        "model.add(layers.Conv2D(32, (3, 3), activation='relu', input_shape=(28, 28, 1)))\n",
        "model.add(layers.MaxPooling2D((2, 2)))\n",
        "model.add(layers.Conv2D(64, (3, 3), activation='relu'))\n",
        "model.add(layers.MaxPooling2D((2, 2)))\n",
        "model.add(layers.Conv2D(64, (3, 3), activation='relu'))\n",
        "model.summary()"
      ],
      "execution_count": 2,
      "outputs": [
        {
          "output_type": "stream",
          "text": [
            "Model: \"sequential\"\n",
            "_________________________________________________________________\n",
            "Layer (type)                 Output Shape              Param #   \n",
            "=================================================================\n",
            "conv2d (Conv2D)              (None, 26, 26, 32)        320       \n",
            "_________________________________________________________________\n",
            "max_pooling2d (MaxPooling2D) (None, 13, 13, 32)        0         \n",
            "_________________________________________________________________\n",
            "conv2d_1 (Conv2D)            (None, 11, 11, 64)        18496     \n",
            "_________________________________________________________________\n",
            "max_pooling2d_1 (MaxPooling2 (None, 5, 5, 64)          0         \n",
            "_________________________________________________________________\n",
            "conv2d_2 (Conv2D)            (None, 3, 3, 64)          36928     \n",
            "=================================================================\n",
            "Total params: 55,744\n",
            "Trainable params: 55,744\n",
            "Non-trainable params: 0\n",
            "_________________________________________________________________\n"
          ],
          "name": "stdout"
        }
      ]
    },
    {
      "cell_type": "markdown",
      "metadata": {
        "id": "7gcVG3xkjymR"
      },
      "source": [
        "#### Adding a classifier on top of the convnet"
      ]
    },
    {
      "cell_type": "code",
      "metadata": {
        "id": "C2DfhDJYjymR",
        "outputId": "1589e65a-a848-493d-a99a-bf86450df6b0",
        "colab": {
          "base_uri": "https://localhost:8080/"
        }
      },
      "source": [
        "model.add(layers.Flatten())\n",
        "model.add(layers.Dense(64, activation='relu'))\n",
        "model.add(layers.Dense(10, activation='softmax'))\n",
        "model.summary()"
      ],
      "execution_count": 3,
      "outputs": [
        {
          "output_type": "stream",
          "text": [
            "Model: \"sequential\"\n",
            "_________________________________________________________________\n",
            "Layer (type)                 Output Shape              Param #   \n",
            "=================================================================\n",
            "conv2d (Conv2D)              (None, 26, 26, 32)        320       \n",
            "_________________________________________________________________\n",
            "max_pooling2d (MaxPooling2D) (None, 13, 13, 32)        0         \n",
            "_________________________________________________________________\n",
            "conv2d_1 (Conv2D)            (None, 11, 11, 64)        18496     \n",
            "_________________________________________________________________\n",
            "max_pooling2d_1 (MaxPooling2 (None, 5, 5, 64)          0         \n",
            "_________________________________________________________________\n",
            "conv2d_2 (Conv2D)            (None, 3, 3, 64)          36928     \n",
            "_________________________________________________________________\n",
            "flatten (Flatten)            (None, 576)               0         \n",
            "_________________________________________________________________\n",
            "dense (Dense)                (None, 64)                36928     \n",
            "_________________________________________________________________\n",
            "dense_1 (Dense)              (None, 10)                650       \n",
            "=================================================================\n",
            "Total params: 93,322\n",
            "Trainable params: 93,322\n",
            "Non-trainable params: 0\n",
            "_________________________________________________________________\n"
          ],
          "name": "stdout"
        }
      ]
    },
    {
      "cell_type": "markdown",
      "metadata": {
        "id": "NOKVF4nKjymU"
      },
      "source": [
        "### Training the convnet on MNIST images"
      ]
    },
    {
      "cell_type": "code",
      "metadata": {
        "id": "oIcgUbbUjymV"
      },
      "source": [
        "from keras.datasets import mnist\n",
        "from keras.utils import to_categorical"
      ],
      "execution_count": 4,
      "outputs": []
    },
    {
      "cell_type": "markdown",
      "metadata": {
        "id": "ZnJ2Pfs_jymX"
      },
      "source": [
        "#### Load Data"
      ]
    },
    {
      "cell_type": "code",
      "metadata": {
        "id": "JpHGHE9MjymY",
        "outputId": "f0c1ea93-ba65-4bce-b64e-877e79b7a313",
        "colab": {
          "base_uri": "https://localhost:8080/"
        }
      },
      "source": [
        "(train_images, train_labels), (test_images, test_labels) = mnist.load_data()\n",
        "train_images = train_images.reshape((60000, 28, 28, 1))\n",
        "train_images = train_images.astype('float32') / 255\n",
        "test_images = test_images.reshape((10000, 28, 28, 1))\n",
        "test_images = test_images.astype('float32') / 255\n",
        "train_labels = to_categorical(train_labels)\n",
        "test_labels = to_categorical(test_labels)"
      ],
      "execution_count": 5,
      "outputs": [
        {
          "output_type": "stream",
          "text": [
            "Downloading data from https://storage.googleapis.com/tensorflow/tf-keras-datasets/mnist.npz\n",
            "11493376/11490434 [==============================] - 0s 0us/step\n"
          ],
          "name": "stdout"
        }
      ]
    },
    {
      "cell_type": "markdown",
      "metadata": {
        "id": "4HoTLrfSjymd"
      },
      "source": [
        "#### compile and fit model "
      ]
    },
    {
      "cell_type": "code",
      "metadata": {
        "id": "i23FDtC9jyme",
        "outputId": "704f0750-24ec-4323-cafc-f340f579c025",
        "colab": {
          "base_uri": "https://localhost:8080/"
        }
      },
      "source": [
        "model.compile(optimizer='rmsprop', \n",
        "              loss='categorical_crossentropy',\n",
        "              metrics=['accuracy'])\n",
        "history = model.fit(train_images, train_labels, epochs=5, batch_size=64, validation_split=0.2)"
      ],
      "execution_count": 6,
      "outputs": [
        {
          "output_type": "stream",
          "text": [
            "Epoch 1/5\n",
            "750/750 [==============================] - 35s 5ms/step - loss: 0.4533 - accuracy: 0.8544 - val_loss: 0.0907 - val_accuracy: 0.9715\n",
            "Epoch 2/5\n",
            "750/750 [==============================] - 3s 5ms/step - loss: 0.0587 - accuracy: 0.9816 - val_loss: 0.0521 - val_accuracy: 0.9839\n",
            "Epoch 3/5\n",
            "750/750 [==============================] - 3s 5ms/step - loss: 0.0355 - accuracy: 0.9891 - val_loss: 0.0478 - val_accuracy: 0.9852\n",
            "Epoch 4/5\n",
            "750/750 [==============================] - 4s 5ms/step - loss: 0.0258 - accuracy: 0.9919 - val_loss: 0.0423 - val_accuracy: 0.9872\n",
            "Epoch 5/5\n",
            "750/750 [==============================] - 3s 5ms/step - loss: 0.0202 - accuracy: 0.9938 - val_loss: 0.0446 - val_accuracy: 0.9880\n"
          ],
          "name": "stdout"
        }
      ]
    },
    {
      "cell_type": "markdown",
      "metadata": {
        "id": "9zU8iI5ojymg"
      },
      "source": [
        "#### evaluate model"
      ]
    },
    {
      "cell_type": "code",
      "metadata": {
        "id": "Z3VeaL1Njymh",
        "outputId": "9df87f1a-cc9c-421a-c951-693a0dd57fc3",
        "colab": {
          "base_uri": "https://localhost:8080/"
        }
      },
      "source": [
        "test_loss, test_acc = model.evaluate(test_images, test_labels)\n",
        "test_acc"
      ],
      "execution_count": 7,
      "outputs": [
        {
          "output_type": "stream",
          "text": [
            "313/313 [==============================] - 1s 3ms/step - loss: 0.0342 - accuracy: 0.9894\n"
          ],
          "name": "stdout"
        },
        {
          "output_type": "execute_result",
          "data": {
            "text/plain": [
              "0.9894000291824341"
            ]
          },
          "metadata": {
            "tags": []
          },
          "execution_count": 7
        }
      ]
    },
    {
      "cell_type": "code",
      "metadata": {
        "id": "wXNZOY7Sjymj",
        "outputId": "be51717e-733c-4cbe-8059-20e8ceabee2c",
        "colab": {
          "base_uri": "https://localhost:8080/",
          "height": 545
        }
      },
      "source": [
        "import matplotlib.pyplot as plt\n",
        "\n",
        "acc = history.history['accuracy']\n",
        "val_acc = history.history['val_accuracy']\n",
        "loss = history.history['loss']\n",
        "val_loss = history.history['val_loss']\n",
        "\n",
        "epochs = range(1, len(acc) + 1)\n",
        "\n",
        "plt.plot(epochs, acc, 'bo', label='Training acc')\n",
        "plt.plot(epochs, val_acc, 'b', label='Validation acc')\n",
        "plt.title('Training and validation accuracy')\n",
        "plt.legend()\n",
        "\n",
        "plt.figure()\n",
        "\n",
        "plt.plot(epochs, loss, 'bo', label='Training loss')\n",
        "plt.plot(epochs, val_loss, 'b', label='Validation loss')\n",
        "plt.title('Training and validation loss')\n",
        "plt.legend()\n",
        "\n",
        "plt.show()"
      ],
      "execution_count": 10,
      "outputs": [
        {
          "output_type": "display_data",
          "data": {
            "image/png": "[encoded data removed]",
            "text/plain": [
              "<Figure size 432x288 with 1 Axes>"
            ]
          },
          "metadata": {
            "tags": [],
            "needs_background": "light"
          }
        },
        {
          "output_type": "display_data",
          "data": {
            "image/png": "[encoded data removed]",
            "text/plain": [
              "<Figure size 432x288 with 1 Axes>"
            ]
          },
          "metadata": {
            "tags": [],
            "needs_background": "light"
          }
        }
      ]
    },
    {
      "cell_type": "markdown",
      "metadata": {
        "id": "dsQMc0Iojyml"
      },
      "source": [
        "## Task 1\n",
        "\n",
        "Change the activation function and other parameters such as optimizer to see the effect on the network and it's performance. If possible create a grid search. "
      ]
    },
    {
      "cell_type": "code",
      "metadata": {
        "id": "G_kDLDrBQUEG"
      },
      "source": [
        "from keras.wrappers.scikit_learn import KerasClassifier\n",
        "from sklearn.model_selection import GridSearchCV\n",
        "from keras.models import Sequential\n",
        "from keras.layers import Dense, Dropout\n",
        "from keras.optimizers import SGD\n"
      ],
      "execution_count": 55,
      "outputs": []
    },
    {
      "cell_type": "code",
      "metadata": {
        "id": "owJ-29BrJXNa"
      },
      "source": [
        "def create_model(activation, optimizer, init_mode):\n",
        "\n",
        "  model=Sequential()\n",
        "  model.add(layers.Flatten())\n",
        "  model.add(Dense(8, kernel_initializer=init_mode, activation=activation))\n",
        "  model.add(layers.Flatten())\n",
        "  model.add(Dense(1, kernel_initializer=init_mode, activation=activation))\n",
        "  model.add(layers.Flatten())\n",
        "\n",
        "  model.compile(loss='binary_crossentropy', optimizer=optimizer, metrics=['accuracy'])\n",
        "  return model"
      ],
      "execution_count": 121,
      "outputs": []
    },
    {
      "cell_type": "code",
      "metadata": {
        "id": "tJ2Y5vaeTATc"
      },
      "source": [
        "model = KerasClassifier(build_fn=create_model, batch_size=1000, epochs=10)"
      ],
      "execution_count": 122,
      "outputs": []
    },
    {
      "cell_type": "code",
      "metadata": {
        "id": "7KwQ2mBCUAke"
      },
      "source": [
        "activation =  ['relu', 'sigmoid', 'linear']\n",
        "init = ['uniform', 'normal', 'zero']\n",
        "optimizer = [ 'SGD', 'RMSprop', 'Adam']\n",
        "epochs = [1,10,50]\n",
        "batch_size = [500,1000,5000]"
      ],
      "execution_count": 123,
      "outputs": []
    },
    {
      "cell_type": "code",
      "metadata": {
        "id": "PRlLVtRvT690"
      },
      "source": [
        "param_grid = dict(epochs=epochs, batch_size = batch_size, optimizer=optimizer, activation=activation, init_mode=init)"
      ],
      "execution_count": 124,
      "outputs": []
    },
    {
      "cell_type": "code",
      "metadata": {
        "id": "J2BbmzrSTTJW",
        "outputId": "29d92dbc-8bbc-49a8-ddb8-051af75d96ac",
        "colab": {
          "base_uri": "https://localhost:8080/"
        }
      },
      "source": [
        "grid_search = GridSearchCV(estimator=model, param_grid=param_grid, n_jobs=-1)\n",
        "grid_search_result = grid_search.fit(train_images, train_labels)"
      ],
      "execution_count": 125,
      "outputs": [
        {
          "output_type": "stream",
          "text": [
            "/usr/local/lib/python3.7/dist-packages/joblib/externals/loky/process_executor.py:691: UserWarning: A worker stopped while some jobs were given to the executor. This can be caused by a too short worker timeout or by a memory leak.\n",
            "  \"timeout or by a memory leak.\", UserWarning\n"
          ],
          "name": "stderr"
        },
        {
          "output_type": "stream",
          "text": [
            "120/120 [==============================] - 1s 3ms/step - loss: 0.3764 - accuracy: 0.9000\n"
          ],
          "name": "stdout"
        }
      ]
    },
    {
      "cell_type": "code",
      "metadata": {
        "id": "LCmo9kxDWeN7",
        "outputId": "1d281529-4858-4bb9-84f4-134083d24097",
        "colab": {
          "base_uri": "https://localhost:8080/"
        }
      },
      "source": [
        "print(\"Best: %f using %s\" % (grid_search_result.best_score_, grid_search_result.best_params_))\n",
        "means = grid_search_result.cv_results_['mean_test_score']\n",
        "stds = grid_search_result.cv_results_['std_test_score']\n",
        "params = grid_search_result.cv_results_['params']\n",
        "for mean, stdev, param in zip(means, stds, params):\n",
        "    print(\"%f (%f) with: %r\" % (mean, stdev, param))"
      ],
      "execution_count": 126,
      "outputs": [
        {
          "output_type": "stream",
          "text": [
            "Best: 0.900000 using {'activation': 'relu', 'batch_size': 500, 'epochs': 1, 'init_mode': 'uniform', 'optimizer': 'SGD'}\n",
            "0.900000 (0.000000) with: {'activation': 'relu', 'batch_size': 500, 'epochs': 1, 'init_mode': 'uniform', 'optimizer': 'SGD'}\n",
            "0.900000 (0.000000) with: {'activation': 'relu', 'batch_size': 500, 'epochs': 1, 'init_mode': 'uniform', 'optimizer': 'RMSprop'}\n",
            "0.900000 (0.000000) with: {'activation': 'relu', 'batch_size': 500, 'epochs': 1, 'init_mode': 'uniform', 'optimizer': 'Adam'}\n",
            "0.900000 (0.000000) with: {'activation': 'relu', 'batch_size': 500, 'epochs': 1, 'init_mode': 'normal', 'optimizer': 'SGD'}\n",
            "0.900000 (0.000000) with: {'activation': 'relu', 'batch_size': 500, 'epochs': 1, 'init_mode': 'normal', 'optimizer': 'RMSprop'}\n",
            "0.900000 (0.000000) with: {'activation': 'relu', 'batch_size': 500, 'epochs': 1, 'init_mode': 'normal', 'optimizer': 'Adam'}\n",
            "0.900000 (0.000000) with: {'activation': 'relu', 'batch_size': 500, 'epochs': 1, 'init_mode': 'zero', 'optimizer': 'SGD'}\n",
            "0.900000 (0.000000) with: {'activation': 'relu', 'batch_size': 500, 'epochs': 1, 'init_mode': 'zero', 'optimizer': 'RMSprop'}\n",
            "0.900000 (0.000000) with: {'activation': 'relu', 'batch_size': 500, 'epochs': 1, 'init_mode': 'zero', 'optimizer': 'Adam'}\n",
            "0.900000 (0.000000) with: {'activation': 'relu', 'batch_size': 500, 'epochs': 10, 'init_mode': 'uniform', 'optimizer': 'SGD'}\n",
            "0.900000 (0.000000) with: {'activation': 'relu', 'batch_size': 500, 'epochs': 10, 'init_mode': 'uniform', 'optimizer': 'RMSprop'}\n",
            "0.900000 (0.000000) with: {'activation': 'relu', 'batch_size': 500, 'epochs': 10, 'init_mode': 'uniform', 'optimizer': 'Adam'}\n",
            "0.900000 (0.000000) with: {'activation': 'relu', 'batch_size': 500, 'epochs': 10, 'init_mode': 'normal', 'optimizer': 'SGD'}\n",
            "0.900000 (0.000000) with: {'activation': 'relu', 'batch_size': 500, 'epochs': 10, 'init_mode': 'normal', 'optimizer': 'RMSprop'}\n",
            "0.900000 (0.000000) with: {'activation': 'relu', 'batch_size': 500, 'epochs': 10, 'init_mode': 'normal', 'optimizer': 'Adam'}\n",
            "0.900000 (0.000000) with: {'activation': 'relu', 'batch_size': 500, 'epochs': 10, 'init_mode': 'zero', 'optimizer': 'SGD'}\n",
            "0.900000 (0.000000) with: {'activation': 'relu', 'batch_size': 500, 'epochs': 10, 'init_mode': 'zero', 'optimizer': 'RMSprop'}\n",
            "0.900000 (0.000000) with: {'activation': 'relu', 'batch_size': 500, 'epochs': 10, 'init_mode': 'zero', 'optimizer': 'Adam'}\n",
            "0.740000 (0.320000) with: {'activation': 'relu', 'batch_size': 500, 'epochs': 50, 'init_mode': 'uniform', 'optimizer': 'SGD'}\n",
            "0.900000 (0.000000) with: {'activation': 'relu', 'batch_size': 500, 'epochs': 50, 'init_mode': 'uniform', 'optimizer': 'RMSprop'}\n",
            "0.900000 (0.000000) with: {'activation': 'relu', 'batch_size': 500, 'epochs': 50, 'init_mode': 'uniform', 'optimizer': 'Adam'}\n",
            "0.900000 (0.000000) with: {'activation': 'relu', 'batch_size': 500, 'epochs': 50, 'init_mode': 'normal', 'optimizer': 'SGD'}\n",
            "0.900000 (0.000000) with: {'activation': 'relu', 'batch_size': 500, 'epochs': 50, 'init_mode': 'normal', 'optimizer': 'RMSprop'}\n",
            "0.900000 (0.000000) with: {'activation': 'relu', 'batch_size': 500, 'epochs': 50, 'init_mode': 'normal', 'optimizer': 'Adam'}\n",
            "0.900000 (0.000000) with: {'activation': 'relu', 'batch_size': 500, 'epochs': 50, 'init_mode': 'zero', 'optimizer': 'SGD'}\n",
            "0.900000 (0.000000) with: {'activation': 'relu', 'batch_size': 500, 'epochs': 50, 'init_mode': 'zero', 'optimizer': 'RMSprop'}\n",
            "0.900000 (0.000000) with: {'activation': 'relu', 'batch_size': 500, 'epochs': 50, 'init_mode': 'zero', 'optimizer': 'Adam'}\n",
            "0.740000 (0.320000) with: {'activation': 'relu', 'batch_size': 1000, 'epochs': 1, 'init_mode': 'uniform', 'optimizer': 'SGD'}\n",
            "0.900000 (0.000000) with: {'activation': 'relu', 'batch_size': 1000, 'epochs': 1, 'init_mode': 'uniform', 'optimizer': 'RMSprop'}\n",
            "0.900000 (0.000000) with: {'activation': 'relu', 'batch_size': 1000, 'epochs': 1, 'init_mode': 'uniform', 'optimizer': 'Adam'}\n",
            "0.900000 (0.000000) with: {'activation': 'relu', 'batch_size': 1000, 'epochs': 1, 'init_mode': 'normal', 'optimizer': 'SGD'}\n",
            "0.900000 (0.000000) with: {'activation': 'relu', 'batch_size': 1000, 'epochs': 1, 'init_mode': 'normal', 'optimizer': 'RMSprop'}\n",
            "0.900000 (0.000000) with: {'activation': 'relu', 'batch_size': 1000, 'epochs': 1, 'init_mode': 'normal', 'optimizer': 'Adam'}\n",
            "0.900000 (0.000000) with: {'activation': 'relu', 'batch_size': 1000, 'epochs': 1, 'init_mode': 'zero', 'optimizer': 'SGD'}\n",
            "0.900000 (0.000000) with: {'activation': 'relu', 'batch_size': 1000, 'epochs': 1, 'init_mode': 'zero', 'optimizer': 'RMSprop'}\n",
            "0.900000 (0.000000) with: {'activation': 'relu', 'batch_size': 1000, 'epochs': 1, 'init_mode': 'zero', 'optimizer': 'Adam'}\n",
            "0.740000 (0.320000) with: {'activation': 'relu', 'batch_size': 1000, 'epochs': 10, 'init_mode': 'uniform', 'optimizer': 'SGD'}\n",
            "0.900000 (0.000000) with: {'activation': 'relu', 'batch_size': 1000, 'epochs': 10, 'init_mode': 'uniform', 'optimizer': 'RMSprop'}\n",
            "0.900000 (0.000000) with: {'activation': 'relu', 'batch_size': 1000, 'epochs': 10, 'init_mode': 'uniform', 'optimizer': 'Adam'}\n",
            "0.900000 (0.000000) with: {'activation': 'relu', 'batch_size': 1000, 'epochs': 10, 'init_mode': 'normal', 'optimizer': 'SGD'}\n",
            "0.900000 (0.000000) with: {'activation': 'relu', 'batch_size': 1000, 'epochs': 10, 'init_mode': 'normal', 'optimizer': 'RMSprop'}\n",
            "0.900000 (0.000000) with: {'activation': 'relu', 'batch_size': 1000, 'epochs': 10, 'init_mode': 'normal', 'optimizer': 'Adam'}\n",
            "0.900000 (0.000000) with: {'activation': 'relu', 'batch_size': 1000, 'epochs': 10, 'init_mode': 'zero', 'optimizer': 'SGD'}\n",
            "0.900000 (0.000000) with: {'activation': 'relu', 'batch_size': 1000, 'epochs': 10, 'init_mode': 'zero', 'optimizer': 'RMSprop'}\n",
            "0.900000 (0.000000) with: {'activation': 'relu', 'batch_size': 1000, 'epochs': 10, 'init_mode': 'zero', 'optimizer': 'Adam'}\n",
            "0.900000 (0.000000) with: {'activation': 'relu', 'batch_size': 1000, 'epochs': 50, 'init_mode': 'uniform', 'optimizer': 'SGD'}\n",
            "0.900000 (0.000000) with: {'activation': 'relu', 'batch_size': 1000, 'epochs': 50, 'init_mode': 'uniform', 'optimizer': 'RMSprop'}\n",
            "0.900000 (0.000000) with: {'activation': 'relu', 'batch_size': 1000, 'epochs': 50, 'init_mode': 'uniform', 'optimizer': 'Adam'}\n",
            "0.900000 (0.000000) with: {'activation': 'relu', 'batch_size': 1000, 'epochs': 50, 'init_mode': 'normal', 'optimizer': 'SGD'}\n",
            "0.900000 (0.000000) with: {'activation': 'relu', 'batch_size': 1000, 'epochs': 50, 'init_mode': 'normal', 'optimizer': 'RMSprop'}\n",
            "0.900000 (0.000000) with: {'activation': 'relu', 'batch_size': 1000, 'epochs': 50, 'init_mode': 'normal', 'optimizer': 'Adam'}\n",
            "0.900000 (0.000000) with: {'activation': 'relu', 'batch_size': 1000, 'epochs': 50, 'init_mode': 'zero', 'optimizer': 'SGD'}\n",
            "0.900000 (0.000000) with: {'activation': 'relu', 'batch_size': 1000, 'epochs': 50, 'init_mode': 'zero', 'optimizer': 'RMSprop'}\n",
            "0.900000 (0.000000) with: {'activation': 'relu', 'batch_size': 1000, 'epochs': 50, 'init_mode': 'zero', 'optimizer': 'Adam'}\n",
            "0.740000 (0.320000) with: {'activation': 'relu', 'batch_size': 5000, 'epochs': 1, 'init_mode': 'uniform', 'optimizer': 'SGD'}\n",
            "0.900000 (0.000000) with: {'activation': 'relu', 'batch_size': 5000, 'epochs': 1, 'init_mode': 'uniform', 'optimizer': 'RMSprop'}\n",
            "0.900000 (0.000000) with: {'activation': 'relu', 'batch_size': 5000, 'epochs': 1, 'init_mode': 'uniform', 'optimizer': 'Adam'}\n",
            "0.900000 (0.000000) with: {'activation': 'relu', 'batch_size': 5000, 'epochs': 1, 'init_mode': 'normal', 'optimizer': 'SGD'}\n",
            "0.900000 (0.000000) with: {'activation': 'relu', 'batch_size': 5000, 'epochs': 1, 'init_mode': 'normal', 'optimizer': 'RMSprop'}\n",
            "0.900000 (0.000000) with: {'activation': 'relu', 'batch_size': 5000, 'epochs': 1, 'init_mode': 'normal', 'optimizer': 'Adam'}\n",
            "0.900000 (0.000000) with: {'activation': 'relu', 'batch_size': 5000, 'epochs': 1, 'init_mode': 'zero', 'optimizer': 'SGD'}\n",
            "0.900000 (0.000000) with: {'activation': 'relu', 'batch_size': 5000, 'epochs': 1, 'init_mode': 'zero', 'optimizer': 'RMSprop'}\n",
            "0.900000 (0.000000) with: {'activation': 'relu', 'batch_size': 5000, 'epochs': 1, 'init_mode': 'zero', 'optimizer': 'Adam'}\n",
            "0.900000 (0.000000) with: {'activation': 'relu', 'batch_size': 5000, 'epochs': 10, 'init_mode': 'uniform', 'optimizer': 'SGD'}\n",
            "0.900000 (0.000000) with: {'activation': 'relu', 'batch_size': 5000, 'epochs': 10, 'init_mode': 'uniform', 'optimizer': 'RMSprop'}\n",
            "0.900000 (0.000000) with: {'activation': 'relu', 'batch_size': 5000, 'epochs': 10, 'init_mode': 'uniform', 'optimizer': 'Adam'}\n",
            "0.900000 (0.000000) with: {'activation': 'relu', 'batch_size': 5000, 'epochs': 10, 'init_mode': 'normal', 'optimizer': 'SGD'}\n",
            "0.900000 (0.000000) with: {'activation': 'relu', 'batch_size': 5000, 'epochs': 10, 'init_mode': 'normal', 'optimizer': 'RMSprop'}\n",
            "0.900000 (0.000000) with: {'activation': 'relu', 'batch_size': 5000, 'epochs': 10, 'init_mode': 'normal', 'optimizer': 'Adam'}\n",
            "0.900000 (0.000000) with: {'activation': 'relu', 'batch_size': 5000, 'epochs': 10, 'init_mode': 'zero', 'optimizer': 'SGD'}\n",
            "0.900000 (0.000000) with: {'activation': 'relu', 'batch_size': 5000, 'epochs': 10, 'init_mode': 'zero', 'optimizer': 'RMSprop'}\n",
            "0.900000 (0.000000) with: {'activation': 'relu', 'batch_size': 5000, 'epochs': 10, 'init_mode': 'zero', 'optimizer': 'Adam'}\n",
            "0.740000 (0.320000) with: {'activation': 'relu', 'batch_size': 5000, 'epochs': 50, 'init_mode': 'uniform', 'optimizer': 'SGD'}\n",
            "0.900000 (0.000000) with: {'activation': 'relu', 'batch_size': 5000, 'epochs': 50, 'init_mode': 'uniform', 'optimizer': 'RMSprop'}\n",
            "0.900000 (0.000000) with: {'activation': 'relu', 'batch_size': 5000, 'epochs': 50, 'init_mode': 'uniform', 'optimizer': 'Adam'}\n",
            "0.900000 (0.000000) with: {'activation': 'relu', 'batch_size': 5000, 'epochs': 50, 'init_mode': 'normal', 'optimizer': 'SGD'}\n",
            "0.900000 (0.000000) with: {'activation': 'relu', 'batch_size': 5000, 'epochs': 50, 'init_mode': 'normal', 'optimizer': 'RMSprop'}\n",
            "0.900000 (0.000000) with: {'activation': 'relu', 'batch_size': 5000, 'epochs': 50, 'init_mode': 'normal', 'optimizer': 'Adam'}\n",
            "0.900000 (0.000000) with: {'activation': 'relu', 'batch_size': 5000, 'epochs': 50, 'init_mode': 'zero', 'optimizer': 'SGD'}\n",
            "0.900000 (0.000000) with: {'activation': 'relu', 'batch_size': 5000, 'epochs': 50, 'init_mode': 'zero', 'optimizer': 'RMSprop'}\n",
            "0.900000 (0.000000) with: {'activation': 'relu', 'batch_size': 5000, 'epochs': 50, 'init_mode': 'zero', 'optimizer': 'Adam'}\n",
            "0.900000 (0.000000) with: {'activation': 'sigmoid', 'batch_size': 500, 'epochs': 1, 'init_mode': 'uniform', 'optimizer': 'SGD'}\n",
            "0.900000 (0.000000) with: {'activation': 'sigmoid', 'batch_size': 500, 'epochs': 1, 'init_mode': 'uniform', 'optimizer': 'RMSprop'}\n",
            "0.900000 (0.000000) with: {'activation': 'sigmoid', 'batch_size': 500, 'epochs': 1, 'init_mode': 'uniform', 'optimizer': 'Adam'}\n",
            "0.900000 (0.000000) with: {'activation': 'sigmoid', 'batch_size': 500, 'epochs': 1, 'init_mode': 'normal', 'optimizer': 'SGD'}\n",
            "0.900000 (0.000000) with: {'activation': 'sigmoid', 'batch_size': 500, 'epochs': 1, 'init_mode': 'normal', 'optimizer': 'RMSprop'}\n",
            "0.900000 (0.000000) with: {'activation': 'sigmoid', 'batch_size': 500, 'epochs': 1, 'init_mode': 'normal', 'optimizer': 'Adam'}\n",
            "0.900000 (0.000000) with: {'activation': 'sigmoid', 'batch_size': 500, 'epochs': 1, 'init_mode': 'zero', 'optimizer': 'SGD'}\n",
            "0.900000 (0.000000) with: {'activation': 'sigmoid', 'batch_size': 500, 'epochs': 1, 'init_mode': 'zero', 'optimizer': 'RMSprop'}\n",
            "0.900000 (0.000000) with: {'activation': 'sigmoid', 'batch_size': 500, 'epochs': 1, 'init_mode': 'zero', 'optimizer': 'Adam'}\n",
            "0.900000 (0.000000) with: {'activation': 'sigmoid', 'batch_size': 500, 'epochs': 10, 'init_mode': 'uniform', 'optimizer': 'SGD'}\n",
            "0.900000 (0.000000) with: {'activation': 'sigmoid', 'batch_size': 500, 'epochs': 10, 'init_mode': 'uniform', 'optimizer': 'RMSprop'}\n",
            "0.900000 (0.000000) with: {'activation': 'sigmoid', 'batch_size': 500, 'epochs': 10, 'init_mode': 'uniform', 'optimizer': 'Adam'}\n",
            "0.900000 (0.000000) with: {'activation': 'sigmoid', 'batch_size': 500, 'epochs': 10, 'init_mode': 'normal', 'optimizer': 'SGD'}\n",
            "0.900000 (0.000000) with: {'activation': 'sigmoid', 'batch_size': 500, 'epochs': 10, 'init_mode': 'normal', 'optimizer': 'RMSprop'}\n",
            "0.900000 (0.000000) with: {'activation': 'sigmoid', 'batch_size': 500, 'epochs': 10, 'init_mode': 'normal', 'optimizer': 'Adam'}\n",
            "0.900000 (0.000000) with: {'activation': 'sigmoid', 'batch_size': 500, 'epochs': 10, 'init_mode': 'zero', 'optimizer': 'SGD'}\n",
            "0.900000 (0.000000) with: {'activation': 'sigmoid', 'batch_size': 500, 'epochs': 10, 'init_mode': 'zero', 'optimizer': 'RMSprop'}\n",
            "0.900000 (0.000000) with: {'activation': 'sigmoid', 'batch_size': 500, 'epochs': 10, 'init_mode': 'zero', 'optimizer': 'Adam'}\n",
            "0.900000 (0.000000) with: {'activation': 'sigmoid', 'batch_size': 500, 'epochs': 50, 'init_mode': 'uniform', 'optimizer': 'SGD'}\n",
            "0.900000 (0.000000) with: {'activation': 'sigmoid', 'batch_size': 500, 'epochs': 50, 'init_mode': 'uniform', 'optimizer': 'RMSprop'}\n",
            "0.900000 (0.000000) with: {'activation': 'sigmoid', 'batch_size': 500, 'epochs': 50, 'init_mode': 'uniform', 'optimizer': 'Adam'}\n",
            "0.900000 (0.000000) with: {'activation': 'sigmoid', 'batch_size': 500, 'epochs': 50, 'init_mode': 'normal', 'optimizer': 'SGD'}\n",
            "0.900000 (0.000000) with: {'activation': 'sigmoid', 'batch_size': 500, 'epochs': 50, 'init_mode': 'normal', 'optimizer': 'RMSprop'}\n",
            "0.900000 (0.000000) with: {'activation': 'sigmoid', 'batch_size': 500, 'epochs': 50, 'init_mode': 'normal', 'optimizer': 'Adam'}\n",
            "0.900000 (0.000000) with: {'activation': 'sigmoid', 'batch_size': 500, 'epochs': 50, 'init_mode': 'zero', 'optimizer': 'SGD'}\n",
            "0.900000 (0.000000) with: {'activation': 'sigmoid', 'batch_size': 500, 'epochs': 50, 'init_mode': 'zero', 'optimizer': 'RMSprop'}\n",
            "0.900000 (0.000000) with: {'activation': 'sigmoid', 'batch_size': 500, 'epochs': 50, 'init_mode': 'zero', 'optimizer': 'Adam'}\n",
            "0.900000 (0.000000) with: {'activation': 'sigmoid', 'batch_size': 1000, 'epochs': 1, 'init_mode': 'uniform', 'optimizer': 'SGD'}\n",
            "0.900000 (0.000000) with: {'activation': 'sigmoid', 'batch_size': 1000, 'epochs': 1, 'init_mode': 'uniform', 'optimizer': 'RMSprop'}\n",
            "0.900000 (0.000000) with: {'activation': 'sigmoid', 'batch_size': 1000, 'epochs': 1, 'init_mode': 'uniform', 'optimizer': 'Adam'}\n",
            "0.900000 (0.000000) with: {'activation': 'sigmoid', 'batch_size': 1000, 'epochs': 1, 'init_mode': 'normal', 'optimizer': 'SGD'}\n",
            "0.900000 (0.000000) with: {'activation': 'sigmoid', 'batch_size': 1000, 'epochs': 1, 'init_mode': 'normal', 'optimizer': 'RMSprop'}\n",
            "0.900000 (0.000000) with: {'activation': 'sigmoid', 'batch_size': 1000, 'epochs': 1, 'init_mode': 'normal', 'optimizer': 'Adam'}\n",
            "0.900000 (0.000000) with: {'activation': 'sigmoid', 'batch_size': 1000, 'epochs': 1, 'init_mode': 'zero', 'optimizer': 'SGD'}\n",
            "0.900000 (0.000000) with: {'activation': 'sigmoid', 'batch_size': 1000, 'epochs': 1, 'init_mode': 'zero', 'optimizer': 'RMSprop'}\n",
            "0.900000 (0.000000) with: {'activation': 'sigmoid', 'batch_size': 1000, 'epochs': 1, 'init_mode': 'zero', 'optimizer': 'Adam'}\n",
            "0.900000 (0.000000) with: {'activation': 'sigmoid', 'batch_size': 1000, 'epochs': 10, 'init_mode': 'uniform', 'optimizer': 'SGD'}\n",
            "0.900000 (0.000000) with: {'activation': 'sigmoid', 'batch_size': 1000, 'epochs': 10, 'init_mode': 'uniform', 'optimizer': 'RMSprop'}\n",
            "0.900000 (0.000000) with: {'activation': 'sigmoid', 'batch_size': 1000, 'epochs': 10, 'init_mode': 'uniform', 'optimizer': 'Adam'}\n",
            "0.900000 (0.000000) with: {'activation': 'sigmoid', 'batch_size': 1000, 'epochs': 10, 'init_mode': 'normal', 'optimizer': 'SGD'}\n",
            "0.900000 (0.000000) with: {'activation': 'sigmoid', 'batch_size': 1000, 'epochs': 10, 'init_mode': 'normal', 'optimizer': 'RMSprop'}\n",
            "0.900000 (0.000000) with: {'activation': 'sigmoid', 'batch_size': 1000, 'epochs': 10, 'init_mode': 'normal', 'optimizer': 'Adam'}\n",
            "0.900000 (0.000000) with: {'activation': 'sigmoid', 'batch_size': 1000, 'epochs': 10, 'init_mode': 'zero', 'optimizer': 'SGD'}\n",
            "0.900000 (0.000000) with: {'activation': 'sigmoid', 'batch_size': 1000, 'epochs': 10, 'init_mode': 'zero', 'optimizer': 'RMSprop'}\n",
            "0.900000 (0.000000) with: {'activation': 'sigmoid', 'batch_size': 1000, 'epochs': 10, 'init_mode': 'zero', 'optimizer': 'Adam'}\n",
            "0.900000 (0.000000) with: {'activation': 'sigmoid', 'batch_size': 1000, 'epochs': 50, 'init_mode': 'uniform', 'optimizer': 'SGD'}\n",
            "0.900000 (0.000000) with: {'activation': 'sigmoid', 'batch_size': 1000, 'epochs': 50, 'init_mode': 'uniform', 'optimizer': 'RMSprop'}\n",
            "0.900000 (0.000000) with: {'activation': 'sigmoid', 'batch_size': 1000, 'epochs': 50, 'init_mode': 'uniform', 'optimizer': 'Adam'}\n",
            "0.900000 (0.000000) with: {'activation': 'sigmoid', 'batch_size': 1000, 'epochs': 50, 'init_mode': 'normal', 'optimizer': 'SGD'}\n",
            "0.900000 (0.000000) with: {'activation': 'sigmoid', 'batch_size': 1000, 'epochs': 50, 'init_mode': 'normal', 'optimizer': 'RMSprop'}\n",
            "0.900000 (0.000000) with: {'activation': 'sigmoid', 'batch_size': 1000, 'epochs': 50, 'init_mode': 'normal', 'optimizer': 'Adam'}\n",
            "0.900000 (0.000000) with: {'activation': 'sigmoid', 'batch_size': 1000, 'epochs': 50, 'init_mode': 'zero', 'optimizer': 'SGD'}\n",
            "0.900000 (0.000000) with: {'activation': 'sigmoid', 'batch_size': 1000, 'epochs': 50, 'init_mode': 'zero', 'optimizer': 'RMSprop'}\n",
            "0.900000 (0.000000) with: {'activation': 'sigmoid', 'batch_size': 1000, 'epochs': 50, 'init_mode': 'zero', 'optimizer': 'Adam'}\n",
            "0.900000 (0.000000) with: {'activation': 'sigmoid', 'batch_size': 5000, 'epochs': 1, 'init_mode': 'uniform', 'optimizer': 'SGD'}\n",
            "0.900000 (0.000000) with: {'activation': 'sigmoid', 'batch_size': 5000, 'epochs': 1, 'init_mode': 'uniform', 'optimizer': 'RMSprop'}\n",
            "0.898133 (0.003733) with: {'activation': 'sigmoid', 'batch_size': 5000, 'epochs': 1, 'init_mode': 'uniform', 'optimizer': 'Adam'}\n",
            "0.900000 (0.000000) with: {'activation': 'sigmoid', 'batch_size': 5000, 'epochs': 1, 'init_mode': 'normal', 'optimizer': 'SGD'}\n",
            "0.896213 (0.007573) with: {'activation': 'sigmoid', 'batch_size': 5000, 'epochs': 1, 'init_mode': 'normal', 'optimizer': 'RMSprop'}\n",
            "0.900000 (0.000000) with: {'activation': 'sigmoid', 'batch_size': 5000, 'epochs': 1, 'init_mode': 'normal', 'optimizer': 'Adam'}\n",
            "0.900000 (0.000000) with: {'activation': 'sigmoid', 'batch_size': 5000, 'epochs': 1, 'init_mode': 'zero', 'optimizer': 'SGD'}\n",
            "0.900000 (0.000000) with: {'activation': 'sigmoid', 'batch_size': 5000, 'epochs': 1, 'init_mode': 'zero', 'optimizer': 'RMSprop'}\n",
            "0.900000 (0.000000) with: {'activation': 'sigmoid', 'batch_size': 5000, 'epochs': 1, 'init_mode': 'zero', 'optimizer': 'Adam'}\n",
            "0.900000 (0.000000) with: {'activation': 'sigmoid', 'batch_size': 5000, 'epochs': 10, 'init_mode': 'uniform', 'optimizer': 'SGD'}\n",
            "0.900000 (0.000000) with: {'activation': 'sigmoid', 'batch_size': 5000, 'epochs': 10, 'init_mode': 'uniform', 'optimizer': 'RMSprop'}\n",
            "0.900000 (0.000000) with: {'activation': 'sigmoid', 'batch_size': 5000, 'epochs': 10, 'init_mode': 'uniform', 'optimizer': 'Adam'}\n",
            "0.900000 (0.000000) with: {'activation': 'sigmoid', 'batch_size': 5000, 'epochs': 10, 'init_mode': 'normal', 'optimizer': 'SGD'}\n",
            "0.900000 (0.000000) with: {'activation': 'sigmoid', 'batch_size': 5000, 'epochs': 10, 'init_mode': 'normal', 'optimizer': 'RMSprop'}\n",
            "0.900000 (0.000000) with: {'activation': 'sigmoid', 'batch_size': 5000, 'epochs': 10, 'init_mode': 'normal', 'optimizer': 'Adam'}\n",
            "0.900000 (0.000000) with: {'activation': 'sigmoid', 'batch_size': 5000, 'epochs': 10, 'init_mode': 'zero', 'optimizer': 'SGD'}\n",
            "0.900000 (0.000000) with: {'activation': 'sigmoid', 'batch_size': 5000, 'epochs': 10, 'init_mode': 'zero', 'optimizer': 'RMSprop'}\n",
            "0.900000 (0.000000) with: {'activation': 'sigmoid', 'batch_size': 5000, 'epochs': 10, 'init_mode': 'zero', 'optimizer': 'Adam'}\n",
            "0.900000 (0.000000) with: {'activation': 'sigmoid', 'batch_size': 5000, 'epochs': 50, 'init_mode': 'uniform', 'optimizer': 'SGD'}\n",
            "0.900000 (0.000000) with: {'activation': 'sigmoid', 'batch_size': 5000, 'epochs': 50, 'init_mode': 'uniform', 'optimizer': 'RMSprop'}\n",
            "0.900000 (0.000000) with: {'activation': 'sigmoid', 'batch_size': 5000, 'epochs': 50, 'init_mode': 'uniform', 'optimizer': 'Adam'}\n",
            "0.900000 (0.000000) with: {'activation': 'sigmoid', 'batch_size': 5000, 'epochs': 50, 'init_mode': 'normal', 'optimizer': 'SGD'}\n",
            "0.900000 (0.000000) with: {'activation': 'sigmoid', 'batch_size': 5000, 'epochs': 50, 'init_mode': 'normal', 'optimizer': 'RMSprop'}\n",
            "0.900000 (0.000000) with: {'activation': 'sigmoid', 'batch_size': 5000, 'epochs': 50, 'init_mode': 'normal', 'optimizer': 'Adam'}\n",
            "0.900000 (0.000000) with: {'activation': 'sigmoid', 'batch_size': 5000, 'epochs': 50, 'init_mode': 'zero', 'optimizer': 'SGD'}\n",
            "0.900000 (0.000000) with: {'activation': 'sigmoid', 'batch_size': 5000, 'epochs': 50, 'init_mode': 'zero', 'optimizer': 'RMSprop'}\n",
            "0.900000 (0.000000) with: {'activation': 'sigmoid', 'batch_size': 5000, 'epochs': 50, 'init_mode': 'zero', 'optimizer': 'Adam'}\n",
            "0.900000 (0.000000) with: {'activation': 'linear', 'batch_size': 500, 'epochs': 1, 'init_mode': 'uniform', 'optimizer': 'SGD'}\n",
            "0.900000 (0.000000) with: {'activation': 'linear', 'batch_size': 500, 'epochs': 1, 'init_mode': 'uniform', 'optimizer': 'RMSprop'}\n",
            "0.900000 (0.000000) with: {'activation': 'linear', 'batch_size': 500, 'epochs': 1, 'init_mode': 'uniform', 'optimizer': 'Adam'}\n",
            "0.900000 (0.000000) with: {'activation': 'linear', 'batch_size': 500, 'epochs': 1, 'init_mode': 'normal', 'optimizer': 'SGD'}\n",
            "0.900000 (0.000000) with: {'activation': 'linear', 'batch_size': 500, 'epochs': 1, 'init_mode': 'normal', 'optimizer': 'RMSprop'}\n",
            "0.900000 (0.000000) with: {'activation': 'linear', 'batch_size': 500, 'epochs': 1, 'init_mode': 'normal', 'optimizer': 'Adam'}\n",
            "0.900000 (0.000000) with: {'activation': 'linear', 'batch_size': 500, 'epochs': 1, 'init_mode': 'zero', 'optimizer': 'SGD'}\n",
            "0.900000 (0.000000) with: {'activation': 'linear', 'batch_size': 500, 'epochs': 1, 'init_mode': 'zero', 'optimizer': 'RMSprop'}\n",
            "0.900000 (0.000000) with: {'activation': 'linear', 'batch_size': 500, 'epochs': 1, 'init_mode': 'zero', 'optimizer': 'Adam'}\n",
            "0.900000 (0.000000) with: {'activation': 'linear', 'batch_size': 500, 'epochs': 10, 'init_mode': 'uniform', 'optimizer': 'SGD'}\n",
            "0.900000 (0.000000) with: {'activation': 'linear', 'batch_size': 500, 'epochs': 10, 'init_mode': 'uniform', 'optimizer': 'RMSprop'}\n",
            "0.900000 (0.000000) with: {'activation': 'linear', 'batch_size': 500, 'epochs': 10, 'init_mode': 'uniform', 'optimizer': 'Adam'}\n",
            "0.900000 (0.000000) with: {'activation': 'linear', 'batch_size': 500, 'epochs': 10, 'init_mode': 'normal', 'optimizer': 'SGD'}\n",
            "0.900000 (0.000000) with: {'activation': 'linear', 'batch_size': 500, 'epochs': 10, 'init_mode': 'normal', 'optimizer': 'RMSprop'}\n",
            "0.900000 (0.000000) with: {'activation': 'linear', 'batch_size': 500, 'epochs': 10, 'init_mode': 'normal', 'optimizer': 'Adam'}\n",
            "0.900000 (0.000000) with: {'activation': 'linear', 'batch_size': 500, 'epochs': 10, 'init_mode': 'zero', 'optimizer': 'SGD'}\n",
            "0.900000 (0.000000) with: {'activation': 'linear', 'batch_size': 500, 'epochs': 10, 'init_mode': 'zero', 'optimizer': 'RMSprop'}\n",
            "0.900000 (0.000000) with: {'activation': 'linear', 'batch_size': 500, 'epochs': 10, 'init_mode': 'zero', 'optimizer': 'Adam'}\n",
            "0.900000 (0.000000) with: {'activation': 'linear', 'batch_size': 500, 'epochs': 50, 'init_mode': 'uniform', 'optimizer': 'SGD'}\n",
            "0.900000 (0.000000) with: {'activation': 'linear', 'batch_size': 500, 'epochs': 50, 'init_mode': 'uniform', 'optimizer': 'RMSprop'}\n",
            "0.900000 (0.000000) with: {'activation': 'linear', 'batch_size': 500, 'epochs': 50, 'init_mode': 'uniform', 'optimizer': 'Adam'}\n",
            "0.900000 (0.000000) with: {'activation': 'linear', 'batch_size': 500, 'epochs': 50, 'init_mode': 'normal', 'optimizer': 'SGD'}\n",
            "0.900000 (0.000000) with: {'activation': 'linear', 'batch_size': 500, 'epochs': 50, 'init_mode': 'normal', 'optimizer': 'RMSprop'}\n",
            "0.900000 (0.000000) with: {'activation': 'linear', 'batch_size': 500, 'epochs': 50, 'init_mode': 'normal', 'optimizer': 'Adam'}\n",
            "0.900000 (0.000000) with: {'activation': 'linear', 'batch_size': 500, 'epochs': 50, 'init_mode': 'zero', 'optimizer': 'SGD'}\n",
            "0.900000 (0.000000) with: {'activation': 'linear', 'batch_size': 500, 'epochs': 50, 'init_mode': 'zero', 'optimizer': 'RMSprop'}\n",
            "0.900000 (0.000000) with: {'activation': 'linear', 'batch_size': 500, 'epochs': 50, 'init_mode': 'zero', 'optimizer': 'Adam'}\n",
            "0.740000 (0.320000) with: {'activation': 'linear', 'batch_size': 1000, 'epochs': 1, 'init_mode': 'uniform', 'optimizer': 'SGD'}\n",
            "0.900000 (0.000000) with: {'activation': 'linear', 'batch_size': 1000, 'epochs': 1, 'init_mode': 'uniform', 'optimizer': 'RMSprop'}\n",
            "0.900000 (0.000000) with: {'activation': 'linear', 'batch_size': 1000, 'epochs': 1, 'init_mode': 'uniform', 'optimizer': 'Adam'}\n",
            "0.900000 (0.000000) with: {'activation': 'linear', 'batch_size': 1000, 'epochs': 1, 'init_mode': 'normal', 'optimizer': 'SGD'}\n",
            "0.900000 (0.000000) with: {'activation': 'linear', 'batch_size': 1000, 'epochs': 1, 'init_mode': 'normal', 'optimizer': 'RMSprop'}\n",
            "0.900000 (0.000000) with: {'activation': 'linear', 'batch_size': 1000, 'epochs': 1, 'init_mode': 'normal', 'optimizer': 'Adam'}\n",
            "0.900000 (0.000000) with: {'activation': 'linear', 'batch_size': 1000, 'epochs': 1, 'init_mode': 'zero', 'optimizer': 'SGD'}\n",
            "0.900000 (0.000000) with: {'activation': 'linear', 'batch_size': 1000, 'epochs': 1, 'init_mode': 'zero', 'optimizer': 'RMSprop'}\n",
            "0.900000 (0.000000) with: {'activation': 'linear', 'batch_size': 1000, 'epochs': 1, 'init_mode': 'zero', 'optimizer': 'Adam'}\n",
            "0.900000 (0.000000) with: {'activation': 'linear', 'batch_size': 1000, 'epochs': 10, 'init_mode': 'uniform', 'optimizer': 'SGD'}\n",
            "0.900000 (0.000000) with: {'activation': 'linear', 'batch_size': 1000, 'epochs': 10, 'init_mode': 'uniform', 'optimizer': 'RMSprop'}\n",
            "0.900000 (0.000000) with: {'activation': 'linear', 'batch_size': 1000, 'epochs': 10, 'init_mode': 'uniform', 'optimizer': 'Adam'}\n",
            "0.900000 (0.000000) with: {'activation': 'linear', 'batch_size': 1000, 'epochs': 10, 'init_mode': 'normal', 'optimizer': 'SGD'}\n",
            "0.900000 (0.000000) with: {'activation': 'linear', 'batch_size': 1000, 'epochs': 10, 'init_mode': 'normal', 'optimizer': 'RMSprop'}\n",
            "0.900000 (0.000000) with: {'activation': 'linear', 'batch_size': 1000, 'epochs': 10, 'init_mode': 'normal', 'optimizer': 'Adam'}\n",
            "0.900000 (0.000000) with: {'activation': 'linear', 'batch_size': 1000, 'epochs': 10, 'init_mode': 'zero', 'optimizer': 'SGD'}\n",
            "0.900000 (0.000000) with: {'activation': 'linear', 'batch_size': 1000, 'epochs': 10, 'init_mode': 'zero', 'optimizer': 'RMSprop'}\n",
            "0.900000 (0.000000) with: {'activation': 'linear', 'batch_size': 1000, 'epochs': 10, 'init_mode': 'zero', 'optimizer': 'Adam'}\n",
            "0.900000 (0.000000) with: {'activation': 'linear', 'batch_size': 1000, 'epochs': 50, 'init_mode': 'uniform', 'optimizer': 'SGD'}\n",
            "0.900000 (0.000000) with: {'activation': 'linear', 'batch_size': 1000, 'epochs': 50, 'init_mode': 'uniform', 'optimizer': 'RMSprop'}\n",
            "0.900000 (0.000000) with: {'activation': 'linear', 'batch_size': 1000, 'epochs': 50, 'init_mode': 'uniform', 'optimizer': 'Adam'}\n",
            "0.900000 (0.000000) with: {'activation': 'linear', 'batch_size': 1000, 'epochs': 50, 'init_mode': 'normal', 'optimizer': 'SGD'}\n",
            "0.900000 (0.000000) with: {'activation': 'linear', 'batch_size': 1000, 'epochs': 50, 'init_mode': 'normal', 'optimizer': 'RMSprop'}\n",
            "0.900000 (0.000000) with: {'activation': 'linear', 'batch_size': 1000, 'epochs': 50, 'init_mode': 'normal', 'optimizer': 'Adam'}\n",
            "0.900000 (0.000000) with: {'activation': 'linear', 'batch_size': 1000, 'epochs': 50, 'init_mode': 'zero', 'optimizer': 'SGD'}\n",
            "0.900000 (0.000000) with: {'activation': 'linear', 'batch_size': 1000, 'epochs': 50, 'init_mode': 'zero', 'optimizer': 'RMSprop'}\n",
            "0.900000 (0.000000) with: {'activation': 'linear', 'batch_size': 1000, 'epochs': 50, 'init_mode': 'zero', 'optimizer': 'Adam'}\n",
            "0.900000 (0.000000) with: {'activation': 'linear', 'batch_size': 5000, 'epochs': 1, 'init_mode': 'uniform', 'optimizer': 'SGD'}\n",
            "0.900000 (0.000000) with: {'activation': 'linear', 'batch_size': 5000, 'epochs': 1, 'init_mode': 'uniform', 'optimizer': 'RMSprop'}\n",
            "0.900000 (0.000000) with: {'activation': 'linear', 'batch_size': 5000, 'epochs': 1, 'init_mode': 'uniform', 'optimizer': 'Adam'}\n",
            "0.900000 (0.000000) with: {'activation': 'linear', 'batch_size': 5000, 'epochs': 1, 'init_mode': 'normal', 'optimizer': 'SGD'}\n",
            "0.900000 (0.000000) with: {'activation': 'linear', 'batch_size': 5000, 'epochs': 1, 'init_mode': 'normal', 'optimizer': 'RMSprop'}\n",
            "0.898853 (0.002195) with: {'activation': 'linear', 'batch_size': 5000, 'epochs': 1, 'init_mode': 'normal', 'optimizer': 'Adam'}\n",
            "0.900000 (0.000000) with: {'activation': 'linear', 'batch_size': 5000, 'epochs': 1, 'init_mode': 'zero', 'optimizer': 'SGD'}\n",
            "0.900000 (0.000000) with: {'activation': 'linear', 'batch_size': 5000, 'epochs': 1, 'init_mode': 'zero', 'optimizer': 'RMSprop'}\n",
            "0.900000 (0.000000) with: {'activation': 'linear', 'batch_size': 5000, 'epochs': 1, 'init_mode': 'zero', 'optimizer': 'Adam'}\n",
            "0.900000 (0.000000) with: {'activation': 'linear', 'batch_size': 5000, 'epochs': 10, 'init_mode': 'uniform', 'optimizer': 'SGD'}\n",
            "0.900000 (0.000000) with: {'activation': 'linear', 'batch_size': 5000, 'epochs': 10, 'init_mode': 'uniform', 'optimizer': 'RMSprop'}\n",
            "0.900000 (0.000000) with: {'activation': 'linear', 'batch_size': 5000, 'epochs': 10, 'init_mode': 'uniform', 'optimizer': 'Adam'}\n",
            "0.900000 (0.000000) with: {'activation': 'linear', 'batch_size': 5000, 'epochs': 10, 'init_mode': 'normal', 'optimizer': 'SGD'}\n",
            "0.900000 (0.000000) with: {'activation': 'linear', 'batch_size': 5000, 'epochs': 10, 'init_mode': 'normal', 'optimizer': 'RMSprop'}\n",
            "0.900000 (0.000000) with: {'activation': 'linear', 'batch_size': 5000, 'epochs': 10, 'init_mode': 'normal', 'optimizer': 'Adam'}\n",
            "0.900000 (0.000000) with: {'activation': 'linear', 'batch_size': 5000, 'epochs': 10, 'init_mode': 'zero', 'optimizer': 'SGD'}\n",
            "0.900000 (0.000000) with: {'activation': 'linear', 'batch_size': 5000, 'epochs': 10, 'init_mode': 'zero', 'optimizer': 'RMSprop'}\n",
            "0.900000 (0.000000) with: {'activation': 'linear', 'batch_size': 5000, 'epochs': 10, 'init_mode': 'zero', 'optimizer': 'Adam'}\n",
            "0.900000 (0.000000) with: {'activation': 'linear', 'batch_size': 5000, 'epochs': 50, 'init_mode': 'uniform', 'optimizer': 'SGD'}\n",
            "0.900000 (0.000000) with: {'activation': 'linear', 'batch_size': 5000, 'epochs': 50, 'init_mode': 'uniform', 'optimizer': 'RMSprop'}\n",
            "0.900000 (0.000000) with: {'activation': 'linear', 'batch_size': 5000, 'epochs': 50, 'init_mode': 'uniform', 'optimizer': 'Adam'}\n",
            "0.900000 (0.000000) with: {'activation': 'linear', 'batch_size': 5000, 'epochs': 50, 'init_mode': 'normal', 'optimizer': 'SGD'}\n",
            "0.900000 (0.000000) with: {'activation': 'linear', 'batch_size': 5000, 'epochs': 50, 'init_mode': 'normal', 'optimizer': 'RMSprop'}\n",
            "0.900000 (0.000000) with: {'activation': 'linear', 'batch_size': 5000, 'epochs': 50, 'init_mode': 'normal', 'optimizer': 'Adam'}\n",
            "0.900000 (0.000000) with: {'activation': 'linear', 'batch_size': 5000, 'epochs': 50, 'init_mode': 'zero', 'optimizer': 'SGD'}\n",
            "0.900000 (0.000000) with: {'activation': 'linear', 'batch_size': 5000, 'epochs': 50, 'init_mode': 'zero', 'optimizer': 'RMSprop'}\n",
            "0.900000 (0.000000) with: {'activation': 'linear', 'batch_size': 5000, 'epochs': 50, 'init_mode': 'zero', 'optimizer': 'Adam'}\n"
          ],
          "name": "stdout"
        }
      ]
    }
  ]
}