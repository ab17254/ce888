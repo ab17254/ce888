{
  "nbformat": 4,
  "nbformat_minor": 0,
  "metadata": {
    "colab": {
      "name": "Task_7.ipynb",
      "provenance": []
    },
    "kernelspec": {
      "name": "python3",
      "display_name": "Python 3"
    }
  },
  "cells": [
    {
      "cell_type": "code",
      "metadata": {
        "id": "lBfCEhuXcB6d"
      },
      "source": [
        "import numpy as np\n",
        "import pandas as pd\n",
        "import matplotlib.pyplot as plt \n",
        "from sklearn import cluster, datasets, metrics\n",
        "import seaborn as sns"
      ],
      "execution_count": 1,
      "outputs": []
    },
    {
      "cell_type": "code",
      "metadata": {
        "id": "w3bIhhBNeAG6",
        "colab": {
          "base_uri": "https://localhost:8080/",
          "height": 204
        },
        "outputId": "8237c052-8209-4d2e-c12a-4aaf88d85efe"
      },
      "source": [
        "df = pd.read_csv(\"https://raw.githubusercontent.com/sagihaider/CE888_2021/main/Lab_6/Data/Country-data.csv\")\n",
        "data = df.iloc[:, 1:]\n",
        "df.head()"
      ],
      "execution_count": 11,
      "outputs": [
        {
          "output_type": "execute_result",
          "data": {
            "text/html": [
              "<div>\n",
              "<style scoped>\n",
              "    .dataframe tbody tr th:only-of-type {\n",
              "        vertical-align: middle;\n",
              "    }\n",
              "\n",
              "    .dataframe tbody tr th {\n",
              "        vertical-align: top;\n",
              "    }\n",
              "\n",
              "    .dataframe thead th {\n",
              "        text-align: right;\n",
              "    }\n",
              "</style>\n",
              "<table border=\"1\" class=\"dataframe\">\n",
              "  <thead>\n",
              "    <tr style=\"text-align: right;\">\n",
              "      <th></th>\n",
              "      <th>country</th>\n",
              "      <th>child_mort</th>\n",
              "      <th>exports</th>\n",
              "      <th>health</th>\n",
              "      <th>imports</th>\n",
              "      <th>income</th>\n",
              "      <th>inflation</th>\n",
              "      <th>life_expec</th>\n",
              "      <th>total_fer</th>\n",
              "      <th>gdpp</th>\n",
              "    </tr>\n",
              "  </thead>\n",
              "  <tbody>\n",
              "    <tr>\n",
              "      <th>0</th>\n",
              "      <td>Afghanistan</td>\n",
              "      <td>90.2</td>\n",
              "      <td>10.0</td>\n",
              "      <td>7.58</td>\n",
              "      <td>44.9</td>\n",
              "      <td>1610</td>\n",
              "      <td>9.44</td>\n",
              "      <td>56.2</td>\n",
              "      <td>5.82</td>\n",
              "      <td>553</td>\n",
              "    </tr>\n",
              "    <tr>\n",
              "      <th>1</th>\n",
              "      <td>Albania</td>\n",
              "      <td>16.6</td>\n",
              "      <td>28.0</td>\n",
              "      <td>6.55</td>\n",
              "      <td>48.6</td>\n",
              "      <td>9930</td>\n",
              "      <td>4.49</td>\n",
              "      <td>76.3</td>\n",
              "      <td>1.65</td>\n",
              "      <td>4090</td>\n",
              "    </tr>\n",
              "    <tr>\n",
              "      <th>2</th>\n",
              "      <td>Algeria</td>\n",
              "      <td>27.3</td>\n",
              "      <td>38.4</td>\n",
              "      <td>4.17</td>\n",
              "      <td>31.4</td>\n",
              "      <td>12900</td>\n",
              "      <td>16.10</td>\n",
              "      <td>76.5</td>\n",
              "      <td>2.89</td>\n",
              "      <td>4460</td>\n",
              "    </tr>\n",
              "    <tr>\n",
              "      <th>3</th>\n",
              "      <td>Angola</td>\n",
              "      <td>119.0</td>\n",
              "      <td>62.3</td>\n",
              "      <td>2.85</td>\n",
              "      <td>42.9</td>\n",
              "      <td>5900</td>\n",
              "      <td>22.40</td>\n",
              "      <td>60.1</td>\n",
              "      <td>6.16</td>\n",
              "      <td>3530</td>\n",
              "    </tr>\n",
              "    <tr>\n",
              "      <th>4</th>\n",
              "      <td>Antigua and Barbuda</td>\n",
              "      <td>10.3</td>\n",
              "      <td>45.5</td>\n",
              "      <td>6.03</td>\n",
              "      <td>58.9</td>\n",
              "      <td>19100</td>\n",
              "      <td>1.44</td>\n",
              "      <td>76.8</td>\n",
              "      <td>2.13</td>\n",
              "      <td>12200</td>\n",
              "    </tr>\n",
              "  </tbody>\n",
              "</table>\n",
              "</div>"
            ],
            "text/plain": [
              "               country  child_mort  exports  ...  life_expec  total_fer   gdpp\n",
              "0          Afghanistan        90.2     10.0  ...        56.2       5.82    553\n",
              "1              Albania        16.6     28.0  ...        76.3       1.65   4090\n",
              "2              Algeria        27.3     38.4  ...        76.5       2.89   4460\n",
              "3               Angola       119.0     62.3  ...        60.1       6.16   3530\n",
              "4  Antigua and Barbuda        10.3     45.5  ...        76.8       2.13  12200\n",
              "\n",
              "[5 rows x 10 columns]"
            ]
          },
          "metadata": {
            "tags": []
          },
          "execution_count": 11
        }
      ]
    },
    {
      "cell_type": "code",
      "metadata": {
        "id": "htqus1n2eX_6",
        "colab": {
          "base_uri": "https://localhost:8080/"
        },
        "outputId": "0b22d12e-9a23-440a-c2e9-9b7c2033bd2e"
      },
      "source": [
        "data = np.array(df)\n",
        "data"
      ],
      "execution_count": 3,
      "outputs": [
        {
          "output_type": "execute_result",
          "data": {
            "text/plain": [
              "array([['Afghanistan', 90.2, 10.0, ..., 56.2, 5.82, 553],\n",
              "       ['Albania', 16.6, 28.0, ..., 76.3, 1.65, 4090],\n",
              "       ['Algeria', 27.3, 38.4, ..., 76.5, 2.89, 4460],\n",
              "       ...,\n",
              "       ['Vietnam', 23.3, 72.0, ..., 73.1, 1.95, 1310],\n",
              "       ['Yemen', 56.3, 30.0, ..., 67.5, 4.67, 1310],\n",
              "       ['Zambia', 83.1, 37.0, ..., 52.0, 5.4, 1460]], dtype=object)"
            ]
          },
          "metadata": {
            "tags": []
          },
          "execution_count": 3
        }
      ]
    },
    {
      "cell_type": "code",
      "metadata": {
        "id": "2CwigHmUgref"
      },
      "source": [
        "x = df.iloc[:, 1:10]\n",
        "y = df.iloc[:, :1]"
      ],
      "execution_count": 12,
      "outputs": []
    },
    {
      "cell_type": "code",
      "metadata": {
        "id": "LJ0JJyspmTqs",
        "colab": {
          "base_uri": "https://localhost:8080/"
        },
        "outputId": "3c8b3f85-dee2-4653-d178-c4446ccdaf2c"
      },
      "source": [
        "km = cluster.KMeans(n_clusters=3)\n",
        "km.fit(x)\n",
        "km.labels_"
      ],
      "execution_count": 21,
      "outputs": [
        {
          "output_type": "execute_result",
          "data": {
            "text/plain": [
              "array([1, 1, 1, 1, 1, 1, 1, 0, 0, 1, 0, 0, 1, 1, 1, 0, 1, 1, 1, 1, 1, 1,\n",
              "       1, 2, 1, 1, 1, 1, 1, 0, 1, 1, 1, 1, 1, 1, 1, 1, 1, 1, 1, 1, 0, 0,\n",
              "       0, 1, 1, 1, 1, 0, 1, 1, 1, 0, 0, 1, 1, 1, 0, 1, 0, 1, 1, 1, 1, 1,\n",
              "       1, 1, 0, 1, 1, 1, 1, 0, 0, 0, 1, 0, 1, 1, 1, 1, 2, 1, 1, 1, 1, 1,\n",
              "       1, 1, 1, 2, 1, 1, 1, 1, 1, 1, 0, 1, 1, 1, 1, 1, 1, 1, 1, 1, 1, 1,\n",
              "       0, 0, 1, 1, 2, 0, 1, 1, 1, 1, 1, 1, 0, 2, 1, 1, 1, 1, 0, 1, 1, 1,\n",
              "       1, 2, 1, 0, 1, 1, 0, 0, 1, 1, 1, 1, 0, 2, 1, 1, 1, 1, 1, 1, 1, 1,\n",
              "       1, 1, 1, 0, 0, 0, 1, 1, 1, 1, 1, 1, 1], dtype=int32)"
            ]
          },
          "metadata": {
            "tags": []
          },
          "execution_count": 21
        }
      ]
    },
    {
      "cell_type": "code",
      "metadata": {
        "id": "OK0avTrvqi6Y",
        "outputId": "475e5040-248e-4061-f657-7ae3771130c9",
        "colab": {
          "base_uri": "https://localhost:8080/"
        }
      },
      "source": [
        "x.values[:,1]"
      ],
      "execution_count": 23,
      "outputs": [
        {
          "output_type": "execute_result",
          "data": {
            "text/plain": [
              "array([1.00e+01, 2.80e+01, 3.84e+01, 6.23e+01, 4.55e+01, 1.89e+01,\n",
              "       2.08e+01, 1.98e+01, 5.13e+01, 5.43e+01, 3.50e+01, 6.95e+01,\n",
              "       1.60e+01, 3.95e+01, 5.14e+01, 7.64e+01, 5.82e+01, 2.38e+01,\n",
              "       4.25e+01, 4.12e+01, 2.97e+01, 4.36e+01, 1.07e+01, 6.74e+01,\n",
              "       5.02e+01, 1.92e+01, 8.92e+00, 5.41e+01, 2.22e+01, 2.91e+01,\n",
              "       3.27e+01, 1.18e+01, 3.68e+01, 3.77e+01, 2.63e+01, 1.59e+01,\n",
              "       1.65e+01, 4.11e+01, 8.51e+01, 3.32e+01, 5.06e+01, 3.76e+01,\n",
              "       5.02e+01, 6.60e+01, 5.05e+01, 2.27e+01, 2.79e+01, 2.13e+01,\n",
              "       2.69e+01, 8.58e+01, 4.79e+00, 7.51e+01, 5.78e+01, 3.87e+01,\n",
              "       2.68e+01, 5.77e+01, 2.38e+01, 3.50e+01, 4.23e+01, 2.95e+01,\n",
              "       2.21e+01, 2.38e+01, 2.58e+01, 3.03e+01, 1.49e+01, 5.14e+01,\n",
              "       1.53e+01, 8.18e+01, 5.34e+01, 2.26e+01, 2.43e+01, 2.44e+01,\n",
              "       3.94e+01, 1.03e+02, 3.50e+01, 2.52e+01, 3.13e+01, 1.50e+01,\n",
              "       4.83e+01, 4.42e+01, 2.07e+01, 1.33e+01, 6.67e+01, 5.16e+01,\n",
              "       3.54e+01, 5.37e+01, 3.58e+01, 3.94e+01, 1.91e+01, 6.56e+01,\n",
              "       6.53e+01, 1.75e+02, 3.98e+01, 2.50e+01, 2.28e+01, 8.69e+01,\n",
              "       7.76e+01, 2.28e+01, 1.53e+02, 5.07e+01, 5.12e+01, 2.35e+01,\n",
              "       3.92e+01, 4.67e+01, 3.70e+01, 3.22e+01, 3.15e+01, 1.09e-01,\n",
              "       4.78e+01, 9.58e+00, 7.20e+01, 3.03e+01, 2.22e+01, 2.53e+01,\n",
              "       3.97e+01, 6.57e+01, 1.35e+01, 7.00e+01, 5.51e+01, 2.78e+01,\n",
              "       3.48e+01, 4.01e+01, 2.99e+01, 6.23e+01, 3.26e+01, 2.92e+01,\n",
              "       1.20e+01, 2.92e+01, 4.96e+01, 2.49e+01, 3.29e+01, 9.38e+01,\n",
              "       1.68e+01, 2.00e+02, 7.63e+01, 6.43e+01, 4.93e+01, 2.86e+01,\n",
              "       4.94e+01, 2.55e+01, 1.96e+01, 2.69e+01, 1.97e+01, 5.25e+01,\n",
              "       4.62e+01, 6.40e+01, 1.49e+01, 1.87e+01, 6.65e+01, 2.20e+00,\n",
              "       4.02e+01, 1.24e+01, 5.05e+01, 2.04e+01, 7.63e+01, 1.71e+01,\n",
              "       4.71e+01, 7.77e+01, 2.82e+01, 1.24e+01, 2.63e+01, 3.17e+01,\n",
              "       4.66e+01, 2.85e+01, 7.20e+01, 3.00e+01, 3.70e+01])"
            ]
          },
          "metadata": {
            "tags": []
          },
          "execution_count": 23
        }
      ]
    },
    {
      "cell_type": "code",
      "metadata": {
        "id": "dSKiGYrVkVSW",
        "colab": {
          "base_uri": "https://localhost:8080/",
          "height": 320
        },
        "outputId": "df59a9f6-2057-47b0-fab9-43f2dbb5aa78"
      },
      "source": [
        "import matplotlib.patches as mpatches\n",
        "\n",
        "plt.figure(figsize=(8,5))\n",
        "\n",
        "classes = ['under-developing country', 'developing country', 'developed country']\n",
        "colours = ['c','y','m']\n",
        "leg = []\n",
        "for i in range(0,len(colours)):\n",
        "    leg.append(mpatches.Rectangle((0,0),1,1,fc=colours[i]))\n",
        "plt.legend(leg,classes,loc=4)\n",
        "plt.scatter(x.values[:,0],x.values[:,1], c=km.labels_)\n",
        "plt.show()"
      ],
      "execution_count": 22,
      "outputs": [
        {
          "output_type": "display_data",
          "data": {
            "image/png": "[encoded data removed]",
            "text/plain": [
              "<Figure size 576x360 with 1 Axes>"
            ]
          },
          "metadata": {
            "tags": [],
            "needs_background": "light"
          }
        }
      ]
    }
  ]
}