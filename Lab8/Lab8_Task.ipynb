{
  "nbformat": 4,
  "nbformat_minor": 0,
  "metadata": {
    "colab": {
      "name": "Lab8_Task",
      "provenance": []
    },
    "kernelspec": {
      "name": "python3",
      "display_name": "Python 3"
    },
    "accelerator": "GPU"
  },
  "cells": [
    {
      "cell_type": "code",
      "metadata": {
        "id": "jfqjjI24mYsg",
        "colab": {
          "base_uri": "https://localhost:8080/"
        },
        "outputId": "47c292db-e61e-4a25-bdcc-3e8cce40d1ec"
      },
      "source": [
        "!git clone https://github.com/sagihaider/CE888_2021.git"
      ],
      "execution_count": 1,
      "outputs": [
        {
          "output_type": "stream",
          "text": [
            "Cloning into 'CE888_2021'...\n",
            "remote: Enumerating objects: 381, done.\u001b[K\n",
            "remote: Counting objects: 100% (191/191), done.\u001b[K\n",
            "remote: Compressing objects: 100% (172/172), done.\u001b[K\n",
            "remote: Total 381 (delta 120), reused 30 (delta 17), pack-reused 190\u001b[K\n",
            "Receiving objects: 100% (381/381), 20.57 MiB | 19.72 MiB/s, done.\n",
            "Resolving deltas: 100% (190/190), done.\n"
          ],
          "name": "stdout"
        }
      ]
    },
    {
      "cell_type": "code",
      "metadata": {
        "id": "vEPj6yo1oh5d"
      },
      "source": [
        "from zipfile import ZipFile\n",
        "import os\n",
        "import shutil\n",
        "import numpy as np\n",
        "import matplotlib.pyplot as plt\n",
        "import time\n",
        "import cv2\n",
        "from random import shuffle\n",
        "\n",
        "from keras.applications.nasnet import NASNetLarge\n",
        "from keras.applications.vgg19 import VGG19\n",
        "\n",
        "\n",
        "from keras.preprocessing import image\n",
        "from keras.applications.imagenet_utils import preprocess_input, decode_predictions\n",
        "\n",
        "from keras.layers import Dense, Activation, Flatten\n",
        "from keras.layers import merge, Input\n",
        "from keras.models import Model\n",
        "from keras.utils import np_utils\n",
        "from sklearn.utils import shuffle\n",
        "from sklearn.model_selection import train_test_split\n",
        "from sklearn.metrics import precision_recall_fscore_support, roc_auc_score, accuracy_score\n"
      ],
      "execution_count": 2,
      "outputs": []
    },
    {
      "cell_type": "code",
      "metadata": {
        "id": "cNNOp5Vjomo1",
        "colab": {
          "base_uri": "https://localhost:8080/"
        },
        "outputId": "817d3aa7-3f4e-4e79-f177-f481a97bfeb6"
      },
      "source": [
        "file_name = '/content/CE888_2021/Lab_8/data.zip'\n",
        "with ZipFile(file_name, 'r') as zip:\n",
        "  zip.extractall()\n",
        "  print('extracted')"
      ],
      "execution_count": 3,
      "outputs": [
        {
          "output_type": "stream",
          "text": [
            "extracted\n"
          ],
          "name": "stdout"
        }
      ]
    },
    {
      "cell_type": "code",
      "metadata": {
        "id": "rbQoIdofqmb7"
      },
      "source": [
        "# Make new base directory\n",
        "cat_data_dir = '/content/data/cats'\n",
        "dog_data_dir = '/content/data/dogs'\n",
        "horse_data_dir = '/content/data/horses'\n",
        "human_data_dir = '/content/data/Humans'\n",
        "base_dir = '/content/train_test'\n",
        "os.mkdir(base_dir)"
      ],
      "execution_count": 4,
      "outputs": []
    },
    {
      "cell_type": "code",
      "metadata": {
        "id": "SFHARs3_qwsj"
      },
      "source": [
        "train_dir = os.path.join(base_dir, 'train')\n",
        "validation_dir = os.path.join(base_dir, 'validation')\n",
        "test_dir = os.path.join(base_dir, 'test')\n",
        "train_cats_dir = os.path.join(train_dir, 'cats')\n",
        "train_dogs_dir = os.path.join(train_dir, 'dogs')\n",
        "train_horses_dir = os.path.join(train_dir, 'horses')\n",
        "train_humans_dir = os.path.join(train_dir, 'humans')\n",
        "validation_cats_dir = os.path.join(validation_dir, 'cats')\n",
        "validation_dogs_dir = os.path.join(validation_dir, 'dogs')\n",
        "validation_horses_dir = os.path.join(validation_dir, 'horses')\n",
        "validation_humans_dir = os.path.join(validation_dir, 'humans')\n",
        "test_cats_dir = os.path.join(test_dir, 'cats')\n",
        "test_dogs_dir = os.path.join(test_dir, 'dogs')\n",
        "test_horses_dir = os.path.join(test_dir, 'horses')\n",
        "test_humans_dir = os.path.join(test_dir, 'humans')"
      ],
      "execution_count": 5,
      "outputs": []
    },
    {
      "cell_type": "code",
      "metadata": {
        "id": "b_7xqOhbsCc2"
      },
      "source": [
        "os.mkdir(train_dir)\n",
        "os.mkdir(validation_dir)\n",
        "os.mkdir(test_dir)\n",
        "os.mkdir(train_cats_dir)\n",
        "os.mkdir(train_dogs_dir)\n",
        "os.mkdir(train_horses_dir)\n",
        "os.mkdir(train_humans_dir)\n",
        "os.mkdir(validation_cats_dir)\n",
        "os.mkdir(validation_dogs_dir)\n",
        "os.mkdir(validation_horses_dir)\n",
        "os.mkdir(validation_humans_dir)\n",
        "os.mkdir(test_cats_dir)\n",
        "os.mkdir(test_dogs_dir)\n",
        "os.mkdir(test_horses_dir)\n",
        "os.mkdir(test_humans_dir)"
      ],
      "execution_count": 6,
      "outputs": []
    },
    {
      "cell_type": "code",
      "metadata": {
        "id": "d2YhGr0Auu-X"
      },
      "source": [
        "fnames = ['cat.{}.jpg'.format(i) for i in range(1,100)]\n",
        "for fname in fnames:\n",
        "    src = os.path.join(cat_data_dir, fname)\n",
        "    dst = os.path.join(train_cats_dir, fname)\n",
        "    #print(src,dst)\n",
        "    shutil.copyfile(src, dst)\n",
        "\n",
        "fnames = ['cat.{}.jpg'.format(i) for i in range(100, 150)]\n",
        "for fname in fnames:\n",
        "    src = os.path.join(cat_data_dir, fname)\n",
        "    dst = os.path.join(validation_cats_dir, fname)\n",
        "    shutil.copyfile(src, dst)\n",
        "\n",
        "fnames = ['cat.{}.jpg'.format(i) for i in range(150, 200)]\n",
        "for fname in fnames:\n",
        "    src = os.path.join(cat_data_dir, fname)\n",
        "    dst = os.path.join(test_cats_dir, fname)\n",
        "    shutil.copyfile(src, dst)\n",
        "    \n",
        "fnames = ['dog.{}.jpg'.format(i) for i in range(1,100)]\n",
        "for fname in fnames:\n",
        "    src = os.path.join(dog_data_dir, fname)\n",
        "    dst = os.path.join(train_dogs_dir, fname)\n",
        "    shutil.copyfile(src, dst)\n",
        "\n",
        "fnames = ['dog.{}.jpg'.format(i) for i in range(100, 150)]\n",
        "for fname in fnames:\n",
        "    src = os.path.join(dog_data_dir, fname)\n",
        "    dst = os.path.join(validation_dogs_dir, fname)\n",
        "    shutil.copyfile(src, dst)\n",
        "\n",
        "fnames = ['dog.{}.jpg'.format(i) for i in range(150, 200)]\n",
        "for fname in fnames:\n",
        "    src = os.path.join(dog_data_dir, fname)\n",
        "    dst = os.path.join(test_dogs_dir, fname)\n",
        "    shutil.copyfile(src, dst)\n",
        "\n",
        "fnames = ['horse-{}.jpg'.format(i) for i in range(1,100)]\n",
        "for fname in fnames:\n",
        "    src = os.path.join(horse_data_dir, fname)\n",
        "    fname = fname.replace('-', '.')\n",
        "    dst = os.path.join(train_horses_dir, fname)\n",
        "    shutil.copyfile(src, dst)\n",
        "\n",
        "fnames = ['horse-{}.jpg'.format(i) for i in range(100, 150)]\n",
        "for fname in fnames:\n",
        "    src = os.path.join(horse_data_dir, fname)\n",
        "    fname = fname.replace('-', '.')\n",
        "    dst = os.path.join(validation_horses_dir, fname)\n",
        "    shutil.copyfile(src, dst)\n",
        "\n",
        "fnames = ['horse-{}.jpg'.format(i) for i in range(150, 200)]\n",
        "for fname in fnames:\n",
        "    src = os.path.join(horse_data_dir, fname)\n",
        "    fname = fname.replace('-', '.')\n",
        "    dst = os.path.join(test_horses_dir, fname)\n",
        "    shutil.copyfile(src, dst)\n",
        "\n",
        "fnames = ['rider-{}.jpg'.format(i) for i in range(1,100)]\n",
        "for fname in fnames:\n",
        "    src = os.path.join(human_data_dir, fname)\n",
        "    fname = fname.replace('-', '.')\n",
        "    dst = os.path.join(train_humans_dir, fname)\n",
        "    shutil.copyfile(src, dst)\n",
        "\n",
        "fnames = ['rider-{}.jpg'.format(i) for i in range(100, 150)]\n",
        "for fname in fnames:\n",
        "    src = os.path.join(human_data_dir, fname)\n",
        "    fname = fname.replace('-', '.')\n",
        "    dst = os.path.join(validation_humans_dir, fname)\n",
        "    shutil.copyfile(src, dst)\n",
        "\n",
        "fnames = ['rider-{}.jpg'.format(i) for i in range(150, 200)]\n",
        "for fname in fnames:\n",
        "    src = os.path.join(human_data_dir, fname)\n",
        "    fname = fname.replace('-', '.')\n",
        "    dst = os.path.join(test_humans_dir, fname)\n",
        "    shutil.copyfile(src, dst)"
      ],
      "execution_count": 7,
      "outputs": []
    },
    {
      "cell_type": "code",
      "metadata": {
        "id": "uAvvJoAivE95",
        "colab": {
          "base_uri": "https://localhost:8080/"
        },
        "outputId": "2f6f160a-fc58-445d-d177-1725dc96cf86"
      },
      "source": [
        "print('total training cat images:', len(os.listdir(train_cats_dir)))\n",
        "print('total training dog images:', len(os.listdir(train_dogs_dir)))\n",
        "print('total training horse images:', len(os.listdir(train_horses_dir)))\n",
        "print('total training human images:', len(os.listdir(train_humans_dir)))\n",
        "\n",
        "print('\\ntotal validation cat images:', len(os.listdir(validation_cats_dir)))\n",
        "print('total validation dog images:', len(os.listdir(validation_dogs_dir)))\n",
        "print('total validation horse images:', len(os.listdir(validation_horses_dir)))\n",
        "print('total validation human images:', len(os.listdir(validation_humans_dir)))\n",
        "\n",
        "\n",
        "print('\\ntotal test cat images:', len(os.listdir(test_cats_dir)))\n",
        "print('total test dog images:', len(os.listdir(test_dogs_dir)))\n",
        "print('total test horse images:', len(os.listdir(test_horses_dir)))\n",
        "print('total test human images:', len(os.listdir(test_humans_dir)))"
      ],
      "execution_count": 8,
      "outputs": [
        {
          "output_type": "stream",
          "text": [
            "total training cat images: 99\n",
            "total training dog images: 99\n",
            "total training horse images: 99\n",
            "total training human images: 99\n",
            "\n",
            "total validation cat images: 50\n",
            "total validation dog images: 50\n",
            "total validation horse images: 50\n",
            "total validation human images: 50\n",
            "\n",
            "total test cat images: 50\n",
            "total test dog images: 50\n",
            "total test horse images: 50\n",
            "total test human images: 50\n"
          ],
          "name": "stdout"
        }
      ]
    },
    {
      "cell_type": "code",
      "metadata": {
        "id": "wh_O18REfkk1"
      },
      "source": [
        "IMG_SIZE = 224\n",
        "LR = 1e-4"
      ],
      "execution_count": 9,
      "outputs": []
    },
    {
      "cell_type": "code",
      "metadata": {
        "id": "Zlgt4niffkYu"
      },
      "source": [
        "def label_img(img):\n",
        "  word_label = img.split('.')[0]\n",
        "  if word_label == 'dog': return 1\n",
        "  elif word_label == 'cat': return 0\n",
        "  elif word_label == 'horse': return 2\n",
        "  elif word_label == 'rider': return 3"
      ],
      "execution_count": 10,
      "outputs": []
    },
    {
      "cell_type": "code",
      "metadata": {
        "id": "vVAfzmIdw5RG"
      },
      "source": [
        "train_dir_list = os.listdir(train_dir)\n",
        "validation_dir_list = os.listdir(validation_dir)\n",
        "test_dir_list = os.listdir(test_dir)"
      ],
      "execution_count": 11,
      "outputs": []
    },
    {
      "cell_type": "code",
      "metadata": {
        "id": "79LeXyDZpAUa"
      },
      "source": [
        "def create_data_split(data_dir_list, data_dir):\n",
        "  x = []\n",
        "  y = []\n",
        "  for dataset in data_dir_list:\n",
        "    img_list = os.listdir(data_dir + '/' + dataset)\n",
        "    for img in img_list:\n",
        "      img_path = data_dir + '/' + dataset + '/' + img\n",
        "      image = cv2.resize(cv2.imread(img_path), (IMG_SIZE, IMG_SIZE))\n",
        "      image = cv2.normalize(image, None, alpha=0, beta=1, norm_type=cv2.NORM_MINMAX, dtype=cv2.CV_32F)\n",
        "\n",
        "      label = label_img(img)\n",
        "\n",
        "      x.append(np.array(image))\n",
        "      y.append(label)\n",
        "  \n",
        "  return np.array(x), np.array(y)"
      ],
      "execution_count": 12,
      "outputs": []
    },
    {
      "cell_type": "code",
      "metadata": {
        "id": "8puH-ZUGnFgw"
      },
      "source": [
        "train_x, train_y = create_data_split(train_dir_list, train_dir)\n",
        "val_x, val_y = create_data_split(validation_dir_list, validation_dir)\n",
        "test_x, test_y = create_data_split(test_dir_list, test_dir)"
      ],
      "execution_count": 13,
      "outputs": []
    },
    {
      "cell_type": "code",
      "metadata": {
        "id": "XFB2-FkFrqgJ",
        "colab": {
          "base_uri": "https://localhost:8080/"
        },
        "outputId": "db4e8d4c-4596-4cea-ac44-44227c5ece06"
      },
      "source": [
        "print(train_x.shape, train_y.shape)\n",
        "print(val_x.shape, val_y.shape)\n",
        "print(test_x.shape, test_y.shape)"
      ],
      "execution_count": 14,
      "outputs": [
        {
          "output_type": "stream",
          "text": [
            "(396, 224, 224, 3) (396,)\n",
            "(200, 224, 224, 3) (200,)\n",
            "(200, 224, 224, 3) (200,)\n"
          ],
          "name": "stdout"
        }
      ]
    },
    {
      "cell_type": "code",
      "metadata": {
        "id": "KiBPX5z1t53r"
      },
      "source": [
        "img_input = Input(shape=(IMG_SIZE, IMG_SIZE, 3))"
      ],
      "execution_count": 15,
      "outputs": []
    },
    {
      "cell_type": "code",
      "metadata": {
        "id": "2cFaf1z7t5sj",
        "colab": {
          "base_uri": "https://localhost:8080/"
        },
        "outputId": "660ae1b7-3ef0-40be-af36-39d8fd397c8d"
      },
      "source": [
        "from tensorflow.keras.applications import VGG16\n",
        "\n",
        "model = VGG16(\n",
        "    include_top=True,\n",
        "    weights=\"imagenet\",\n",
        "    input_tensor=img_input,\n",
        "    input_shape=None,\n",
        "    pooling=None,\n",
        "    classes=1000,\n",
        "    classifier_activation=\"softmax\")\n",
        "model.summary()"
      ],
      "execution_count": 16,
      "outputs": [
        {
          "output_type": "stream",
          "text": [
            "Downloading data from https://storage.googleapis.com/tensorflow/keras-applications/vgg16/vgg16_weights_tf_dim_ordering_tf_kernels.h5\n",
            "553467904/553467096 [==============================] - 9s 0us/step\n",
            "Model: \"vgg16\"\n",
            "_________________________________________________________________\n",
            "Layer (type)                 Output Shape              Param #   \n",
            "=================================================================\n",
            "input_1 (InputLayer)         [(None, 224, 224, 3)]     0         \n",
            "_________________________________________________________________\n",
            "block1_conv1 (Conv2D)        (None, 224, 224, 64)      1792      \n",
            "_________________________________________________________________\n",
            "block1_conv2 (Conv2D)        (None, 224, 224, 64)      36928     \n",
            "_________________________________________________________________\n",
            "block1_pool (MaxPooling2D)   (None, 112, 112, 64)      0         \n",
            "_________________________________________________________________\n",
            "block2_conv1 (Conv2D)        (None, 112, 112, 128)     73856     \n",
            "_________________________________________________________________\n",
            "block2_conv2 (Conv2D)        (None, 112, 112, 128)     147584    \n",
            "_________________________________________________________________\n",
            "block2_pool (MaxPooling2D)   (None, 56, 56, 128)       0         \n",
            "_________________________________________________________________\n",
            "block3_conv1 (Conv2D)        (None, 56, 56, 256)       295168    \n",
            "_________________________________________________________________\n",
            "block3_conv2 (Conv2D)        (None, 56, 56, 256)       590080    \n",
            "_________________________________________________________________\n",
            "block3_conv3 (Conv2D)        (None, 56, 56, 256)       590080    \n",
            "_________________________________________________________________\n",
            "block3_pool (MaxPooling2D)   (None, 28, 28, 256)       0         \n",
            "_________________________________________________________________\n",
            "block4_conv1 (Conv2D)        (None, 28, 28, 512)       1180160   \n",
            "_________________________________________________________________\n",
            "block4_conv2 (Conv2D)        (None, 28, 28, 512)       2359808   \n",
            "_________________________________________________________________\n",
            "block4_conv3 (Conv2D)        (None, 28, 28, 512)       2359808   \n",
            "_________________________________________________________________\n",
            "block4_pool (MaxPooling2D)   (None, 14, 14, 512)       0         \n",
            "_________________________________________________________________\n",
            "block5_conv1 (Conv2D)        (None, 14, 14, 512)       2359808   \n",
            "_________________________________________________________________\n",
            "block5_conv2 (Conv2D)        (None, 14, 14, 512)       2359808   \n",
            "_________________________________________________________________\n",
            "block5_conv3 (Conv2D)        (None, 14, 14, 512)       2359808   \n",
            "_________________________________________________________________\n",
            "block5_pool (MaxPooling2D)   (None, 7, 7, 512)         0         \n",
            "_________________________________________________________________\n",
            "flatten (Flatten)            (None, 25088)             0         \n",
            "_________________________________________________________________\n",
            "fc1 (Dense)                  (None, 4096)              102764544 \n",
            "_________________________________________________________________\n",
            "fc2 (Dense)                  (None, 4096)              16781312  \n",
            "_________________________________________________________________\n",
            "predictions (Dense)          (None, 1000)              4097000   \n",
            "=================================================================\n",
            "Total params: 138,357,544\n",
            "Trainable params: 138,357,544\n",
            "Non-trainable params: 0\n",
            "_________________________________________________________________\n"
          ],
          "name": "stdout"
        }
      ]
    },
    {
      "cell_type": "code",
      "metadata": {
        "id": "isHFTHsYuJzi",
        "colab": {
          "base_uri": "https://localhost:8080/"
        },
        "outputId": "a01c8abc-af1d-43b1-c127-81b79668b9ec"
      },
      "source": [
        "last_layer = model.get_layer('fc2').output\n",
        "out = Dense(1, activation='sigmoid', name='output')(last_layer)\n",
        "model = Model(img_input, out)\n",
        "\n",
        "for layer in model.layers[:-1]:\n",
        "  layer.trainable = False\n",
        "\n",
        "model.summary()"
      ],
      "execution_count": 17,
      "outputs": [
        {
          "output_type": "stream",
          "text": [
            "Model: \"model\"\n",
            "_________________________________________________________________\n",
            "Layer (type)                 Output Shape              Param #   \n",
            "=================================================================\n",
            "input_1 (InputLayer)         [(None, 224, 224, 3)]     0         \n",
            "_________________________________________________________________\n",
            "block1_conv1 (Conv2D)        (None, 224, 224, 64)      1792      \n",
            "_________________________________________________________________\n",
            "block1_conv2 (Conv2D)        (None, 224, 224, 64)      36928     \n",
            "_________________________________________________________________\n",
            "block1_pool (MaxPooling2D)   (None, 112, 112, 64)      0         \n",
            "_________________________________________________________________\n",
            "block2_conv1 (Conv2D)        (None, 112, 112, 128)     73856     \n",
            "_________________________________________________________________\n",
            "block2_conv2 (Conv2D)        (None, 112, 112, 128)     147584    \n",
            "_________________________________________________________________\n",
            "block2_pool (MaxPooling2D)   (None, 56, 56, 128)       0         \n",
            "_________________________________________________________________\n",
            "block3_conv1 (Conv2D)        (None, 56, 56, 256)       295168    \n",
            "_________________________________________________________________\n",
            "block3_conv2 (Conv2D)        (None, 56, 56, 256)       590080    \n",
            "_________________________________________________________________\n",
            "block3_conv3 (Conv2D)        (None, 56, 56, 256)       590080    \n",
            "_________________________________________________________________\n",
            "block3_pool (MaxPooling2D)   (None, 28, 28, 256)       0         \n",
            "_________________________________________________________________\n",
            "block4_conv1 (Conv2D)        (None, 28, 28, 512)       1180160   \n",
            "_________________________________________________________________\n",
            "block4_conv2 (Conv2D)        (None, 28, 28, 512)       2359808   \n",
            "_________________________________________________________________\n",
            "block4_conv3 (Conv2D)        (None, 28, 28, 512)       2359808   \n",
            "_________________________________________________________________\n",
            "block4_pool (MaxPooling2D)   (None, 14, 14, 512)       0         \n",
            "_________________________________________________________________\n",
            "block5_conv1 (Conv2D)        (None, 14, 14, 512)       2359808   \n",
            "_________________________________________________________________\n",
            "block5_conv2 (Conv2D)        (None, 14, 14, 512)       2359808   \n",
            "_________________________________________________________________\n",
            "block5_conv3 (Conv2D)        (None, 14, 14, 512)       2359808   \n",
            "_________________________________________________________________\n",
            "block5_pool (MaxPooling2D)   (None, 7, 7, 512)         0         \n",
            "_________________________________________________________________\n",
            "flatten (Flatten)            (None, 25088)             0         \n",
            "_________________________________________________________________\n",
            "fc1 (Dense)                  (None, 4096)              102764544 \n",
            "_________________________________________________________________\n",
            "fc2 (Dense)                  (None, 4096)              16781312  \n",
            "_________________________________________________________________\n",
            "output (Dense)               (None, 1)                 4097      \n",
            "=================================================================\n",
            "Total params: 134,264,641\n",
            "Trainable params: 4,097\n",
            "Non-trainable params: 134,260,544\n",
            "_________________________________________________________________\n"
          ],
          "name": "stdout"
        }
      ]
    },
    {
      "cell_type": "code",
      "metadata": {
        "id": "zioxn4w3urj3"
      },
      "source": [
        "model.compile(loss='binary_crossentropy',\n",
        "              optimizer='adam',\n",
        "              metrics=['accuracy'])"
      ],
      "execution_count": 18,
      "outputs": []
    },
    {
      "cell_type": "code",
      "metadata": {
        "id": "zr8IC4Yau2Cz"
      },
      "source": [
        "from tensorflow.keras.callbacks import EarlyStopping, ModelCheckpoint\n",
        "\n",
        "my_callbacks = [\n",
        "    EarlyStopping(monitor=\"val_loss\", patience=10, restore_best_weights=True),\n",
        "    ModelCheckpoint(filepath='vgg16_model.h5', save_best_only=True),\n",
        "]"
      ],
      "execution_count": 19,
      "outputs": []
    },
    {
      "cell_type": "code",
      "metadata": {
        "id": "VOOCFqdju5wd",
        "colab": {
          "base_uri": "https://localhost:8080/"
        },
        "outputId": "ed384163-4a9d-4dd1-d43d-b7f90a4f3f51"
      },
      "source": [
        "history = model.fit(train_x, train_y, batch_size=10, epochs=10, validation_data=(val_x, val_y), callbacks=my_callbacks)"
      ],
      "execution_count": 20,
      "outputs": [
        {
          "output_type": "stream",
          "text": [
            "Epoch 1/10\n",
            "40/40 [==============================] - 34s 75ms/step - loss: -9.6679 - accuracy: 0.2289 - val_loss: -30.5140 - val_accuracy: 0.2500\n",
            "Epoch 2/10\n",
            "40/40 [==============================] - 2s 47ms/step - loss: -33.5546 - accuracy: 0.2552 - val_loss: -59.1874 - val_accuracy: 0.2500\n",
            "Epoch 3/10\n",
            "40/40 [==============================] - 2s 47ms/step - loss: -62.0954 - accuracy: 0.2260 - val_loss: -90.2107 - val_accuracy: 0.2500\n",
            "Epoch 4/10\n",
            "40/40 [==============================] - 2s 47ms/step - loss: -89.4887 - accuracy: 0.2645 - val_loss: -122.2103 - val_accuracy: 0.2500\n",
            "Epoch 5/10\n",
            "40/40 [==============================] - 2s 47ms/step - loss: -127.8805 - accuracy: 0.2623 - val_loss: -152.5379 - val_accuracy: 0.2500\n",
            "Epoch 6/10\n",
            "40/40 [==============================] - 2s 47ms/step - loss: -149.4105 - accuracy: 0.2953 - val_loss: -184.0893 - val_accuracy: 0.2500\n",
            "Epoch 7/10\n",
            "40/40 [==============================] - 2s 47ms/step - loss: -224.2228 - accuracy: 0.2230 - val_loss: -217.4443 - val_accuracy: 0.2500\n",
            "Epoch 8/10\n",
            "40/40 [==============================] - 2s 47ms/step - loss: -212.5740 - accuracy: 0.2716 - val_loss: -247.7081 - val_accuracy: 0.2500\n",
            "Epoch 9/10\n",
            "40/40 [==============================] - 2s 47ms/step - loss: -303.2911 - accuracy: 0.2443 - val_loss: -279.5610 - val_accuracy: 0.2500\n",
            "Epoch 10/10\n",
            "40/40 [==============================] - 2s 47ms/step - loss: -281.4544 - accuracy: 0.2484 - val_loss: -310.7166 - val_accuracy: 0.2500\n"
          ],
          "name": "stdout"
        }
      ]
    },
    {
      "cell_type": "code",
      "metadata": {
        "id": "tVH3rjgF6-ZW",
        "colab": {
          "base_uri": "https://localhost:8080/",
          "height": 545
        },
        "outputId": "d261c101-89e2-4458-9d7e-adb004baa38e"
      },
      "source": [
        "acc = history.history['accuracy']\n",
        "val_acc = history.history['val_accuracy']\n",
        "loss = history.history['loss']\n",
        "val_loss = history.history['val_loss']\n",
        "\n",
        "epochs = range(1, len(acc) + 1)\n",
        "\n",
        "plt.plot(epochs, acc, 'bo', label='Training acc')\n",
        "plt.plot(epochs, val_acc, 'b', label='Validation acc')\n",
        "plt.title('Training and validation accuracy')\n",
        "plt.legend()\n",
        "\n",
        "plt.figure()\n",
        "\n",
        "plt.plot(epochs, loss, 'bo', label='Training loss')\n",
        "plt.plot(epochs, val_loss, 'b', label='Validation loss')\n",
        "plt.title('Training and validation loss')\n",
        "plt.legend()\n",
        "\n",
        "plt.show()"
      ],
      "execution_count": 23,
      "outputs": [
        {
          "output_type": "display_data",
          "data": {
            "image/png": "[encoded data removed]",
            "text/plain": [
              "<Figure size 432x288 with 1 Axes>"
            ]
          },
          "metadata": {
            "tags": [],
            "needs_background": "light"
          }
        },
        {
          "output_type": "display_data",
          "data": {
            "image/png": "[encoded data removed]",
            "text/plain": [
              "<Figure size 432x288 with 1 Axes>"
            ]
          },
          "metadata": {
            "tags": [],
            "needs_background": "light"
          }
        }
      ]
    },
    {
      "cell_type": "markdown",
      "metadata": {
        "id": "kvMFHsR-xJMB"
      },
      "source": [
        "I think there is an issue with how I process the data however I am unable to work out what. "
      ]
    },
    {
      "cell_type": "code",
      "metadata": {
        "id": "zA0ZIzFx7Fsp",
        "colab": {
          "base_uri": "https://localhost:8080/"
        },
        "outputId": "019f513c-c9e7-4fd3-b62a-f1294995b89f"
      },
      "source": [
        "from sklearn.metrics import accuracy_score\n",
        "\n",
        "## Test Accuracy\n",
        "predictions = model.predict(test_x)\n",
        "ypred = predictions > 0.5\n",
        "test_acc = accuracy_score(test_y, ypred)\n",
        "\n",
        "from sklearn.metrics import precision_recall_fscore_support, roc_auc_score\n",
        "\n",
        "precision, recall, f1score, _ = precision_recall_fscore_support(test_y, ypred, average='weighted')\n",
        "\n",
        "\n",
        "print(\"Train Accuracy:\\t\", acc[-1])\n",
        "print(\"Val Accuracy:\\t\", val_acc[-1])\n",
        "print(\"Test Accuracy:\\t\", test_acc)\n",
        "print(\"Precision:\\t\", precision)\n",
        "print(\"Recall:\\t\\t\", recall)\n",
        "print(\"F1 Score:\\t\", f1score)\n"
      ],
      "execution_count": 22,
      "outputs": [
        {
          "output_type": "stream",
          "text": [
            "Train Accuracy:\t 0.25\n",
            "Val Accuracy:\t 0.25\n",
            "Test Accuracy:\t 0.25\n",
            "Precision:\t 0.0625\n",
            "Recall:\t\t 0.25\n",
            "F1 Score:\t 0.1\n"
          ],
          "name": "stdout"
        },
        {
          "output_type": "stream",
          "text": [
            "/usr/local/lib/python3.7/dist-packages/sklearn/metrics/_classification.py:1272: UndefinedMetricWarning: Precision and F-score are ill-defined and being set to 0.0 in labels with no predicted samples. Use `zero_division` parameter to control this behavior.\n",
            "  _warn_prf(average, modifier, msg_start, len(result))\n"
          ],
          "name": "stderr"
        }
      ]
    }
  ]
}