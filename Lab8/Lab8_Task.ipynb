{
  "nbformat": 4,
  "nbformat_minor": 0,
  "metadata": {
    "colab": {
      "name": "Lab8_Task",
      "provenance": []
    },
    "kernelspec": {
      "name": "python3",
      "display_name": "Python 3"
    },
    "accelerator": "TPU"
  },
  "cells": [
    {
      "cell_type": "code",
      "metadata": {
        "id": "jfqjjI24mYsg",
        "outputId": "ca0158cd-7a90-4936-ea49-142df178a9d3",
        "colab": {
          "base_uri": "https://localhost:8080/"
        }
      },
      "source": [
        "!git clone https://github.com/sagihaider/CE888_2021.git"
      ],
      "execution_count": 1,
      "outputs": [
        {
          "output_type": "stream",
          "text": [
            "Cloning into 'CE888_2021'...\n",
            "remote: Enumerating objects: 136, done.\u001b[K\n",
            "remote: Counting objects: 100% (136/136), done.\u001b[K\n",
            "remote: Compressing objects: 100% (118/118), done.\u001b[K\n",
            "remote: Total 326 (delta 83), reused 30 (delta 17), pack-reused 190\u001b[K\n",
            "Receiving objects: 100% (326/326), 20.33 MiB | 36.58 MiB/s, done.\n",
            "Resolving deltas: 100% (153/153), done.\n"
          ],
          "name": "stdout"
        }
      ]
    },
    {
      "cell_type": "code",
      "metadata": {
        "id": "vEPj6yo1oh5d"
      },
      "source": [
        "from zipfile import ZipFile\r\n",
        "import os\r\n",
        "import shutil\r\n",
        "import numpy as np\r\n",
        "import matplotlib.pyplot as plt\r\n",
        "import time\r\n",
        "import cv2\r\n",
        "from random import shuffle\r\n",
        "\r\n",
        "from keras.applications.nasnet import NASNetLarge\r\n",
        "from keras.applications.vgg19 import VGG19\r\n",
        "\r\n",
        "\r\n",
        "from keras.preprocessing import image\r\n",
        "from keras.applications.imagenet_utils import preprocess_input, decode_predictions\r\n",
        "\r\n",
        "from keras.layers import Dense, Activation, Flatten\r\n",
        "from keras.layers import merge, Input\r\n",
        "from keras.models import Model\r\n",
        "from keras.utils import np_utils\r\n",
        "from sklearn.utils import shuffle\r\n",
        "from sklearn.model_selection import train_test_split\r\n",
        "from sklearn.metrics import precision_recall_fscore_support, roc_auc_score, accuracy_score\r\n"
      ],
      "execution_count": 2,
      "outputs": []
    },
    {
      "cell_type": "code",
      "metadata": {
        "id": "cNNOp5Vjomo1",
        "outputId": "9804f65e-2d2c-4b2d-e70a-4a58aeb70313",
        "colab": {
          "base_uri": "https://localhost:8080/"
        }
      },
      "source": [
        "file_name = '/content/CE888_2021/Lab_8/data.zip'\r\n",
        "with ZipFile(file_name, 'r') as zip:\r\n",
        "  zip.extractall()\r\n",
        "  print('extracted')"
      ],
      "execution_count": 3,
      "outputs": [
        {
          "output_type": "stream",
          "text": [
            "extracted\n"
          ],
          "name": "stdout"
        }
      ]
    },
    {
      "cell_type": "code",
      "metadata": {
        "id": "rbQoIdofqmb7"
      },
      "source": [
        "# Make new base directory\r\n",
        "cat_data_dir = '/content/data/cats'\r\n",
        "dog_data_dir = '/content/data/dogs'\r\n",
        "horse_data_dir = '/content/data/horses'\r\n",
        "human_data_dir = '/content/data/Humans'\r\n",
        "base_dir = '/content/train_test'\r\n",
        "os.mkdir(base_dir)"
      ],
      "execution_count": 4,
      "outputs": []
    },
    {
      "cell_type": "code",
      "metadata": {
        "id": "SFHARs3_qwsj"
      },
      "source": [
        "train_dir = os.path.join(base_dir, 'train')\r\n",
        "validation_dir = os.path.join(base_dir, 'validation')\r\n",
        "test_dir = os.path.join(base_dir, 'test')\r\n",
        "train_cats_dir = os.path.join(train_dir, 'cats')\r\n",
        "train_dogs_dir = os.path.join(train_dir, 'dogs')\r\n",
        "train_horses_dir = os.path.join(train_dir, 'horses')\r\n",
        "train_humans_dir = os.path.join(train_dir, 'humans')\r\n",
        "validation_cats_dir = os.path.join(validation_dir, 'cats')\r\n",
        "validation_dogs_dir = os.path.join(validation_dir, 'dogs')\r\n",
        "validation_horses_dir = os.path.join(validation_dir, 'horses')\r\n",
        "validation_humans_dir = os.path.join(validation_dir, 'humans')\r\n",
        "test_cats_dir = os.path.join(test_dir, 'cats')\r\n",
        "test_dogs_dir = os.path.join(test_dir, 'dogs')\r\n",
        "test_horses_dir = os.path.join(test_dir, 'horses')\r\n",
        "test_humans_dir = os.path.join(test_dir, 'humans')"
      ],
      "execution_count": 5,
      "outputs": []
    },
    {
      "cell_type": "code",
      "metadata": {
        "id": "b_7xqOhbsCc2"
      },
      "source": [
        "os.mkdir(train_dir)\r\n",
        "os.mkdir(validation_dir)\r\n",
        "os.mkdir(test_dir)\r\n",
        "os.mkdir(train_cats_dir)\r\n",
        "os.mkdir(train_dogs_dir)\r\n",
        "os.mkdir(train_horses_dir)\r\n",
        "os.mkdir(train_humans_dir)\r\n",
        "os.mkdir(validation_cats_dir)\r\n",
        "os.mkdir(validation_dogs_dir)\r\n",
        "os.mkdir(validation_horses_dir)\r\n",
        "os.mkdir(validation_humans_dir)\r\n",
        "os.mkdir(test_cats_dir)\r\n",
        "os.mkdir(test_dogs_dir)\r\n",
        "os.mkdir(test_horses_dir)\r\n",
        "os.mkdir(test_humans_dir)"
      ],
      "execution_count": 6,
      "outputs": []
    },
    {
      "cell_type": "code",
      "metadata": {
        "id": "d2YhGr0Auu-X"
      },
      "source": [
        "fnames = ['cat.{}.jpg'.format(i) for i in range(1,100)]\r\n",
        "for fname in fnames:\r\n",
        "    src = os.path.join(cat_data_dir, fname)\r\n",
        "    dst = os.path.join(train_cats_dir, fname)\r\n",
        "    #print(src,dst)\r\n",
        "    shutil.copyfile(src, dst)\r\n",
        "\r\n",
        "fnames = ['cat.{}.jpg'.format(i) for i in range(100, 150)]\r\n",
        "for fname in fnames:\r\n",
        "    src = os.path.join(cat_data_dir, fname)\r\n",
        "    dst = os.path.join(validation_cats_dir, fname)\r\n",
        "    shutil.copyfile(src, dst)\r\n",
        "\r\n",
        "fnames = ['cat.{}.jpg'.format(i) for i in range(150, 200)]\r\n",
        "for fname in fnames:\r\n",
        "    src = os.path.join(cat_data_dir, fname)\r\n",
        "    dst = os.path.join(test_cats_dir, fname)\r\n",
        "    shutil.copyfile(src, dst)\r\n",
        "    \r\n",
        "fnames = ['dog.{}.jpg'.format(i) for i in range(1,100)]\r\n",
        "for fname in fnames:\r\n",
        "    src = os.path.join(dog_data_dir, fname)\r\n",
        "    dst = os.path.join(train_dogs_dir, fname)\r\n",
        "    shutil.copyfile(src, dst)\r\n",
        "\r\n",
        "fnames = ['dog.{}.jpg'.format(i) for i in range(100, 150)]\r\n",
        "for fname in fnames:\r\n",
        "    src = os.path.join(dog_data_dir, fname)\r\n",
        "    dst = os.path.join(validation_dogs_dir, fname)\r\n",
        "    shutil.copyfile(src, dst)\r\n",
        "\r\n",
        "fnames = ['dog.{}.jpg'.format(i) for i in range(150, 200)]\r\n",
        "for fname in fnames:\r\n",
        "    src = os.path.join(dog_data_dir, fname)\r\n",
        "    dst = os.path.join(test_dogs_dir, fname)\r\n",
        "    shutil.copyfile(src, dst)\r\n",
        "\r\n",
        "fnames = ['horse-{}.jpg'.format(i) for i in range(1,100)]\r\n",
        "for fname in fnames:\r\n",
        "    src = os.path.join(horse_data_dir, fname)\r\n",
        "    fname = fname.replace('-', '.')\r\n",
        "    dst = os.path.join(train_horses_dir, fname)\r\n",
        "    shutil.copyfile(src, dst)\r\n",
        "\r\n",
        "fnames = ['horse-{}.jpg'.format(i) for i in range(100, 150)]\r\n",
        "for fname in fnames:\r\n",
        "    src = os.path.join(horse_data_dir, fname)\r\n",
        "    fname = fname.replace('-', '.')\r\n",
        "    dst = os.path.join(validation_horses_dir, fname)\r\n",
        "    shutil.copyfile(src, dst)\r\n",
        "\r\n",
        "fnames = ['horse-{}.jpg'.format(i) for i in range(150, 200)]\r\n",
        "for fname in fnames:\r\n",
        "    src = os.path.join(horse_data_dir, fname)\r\n",
        "    fname = fname.replace('-', '.')\r\n",
        "    dst = os.path.join(test_horses_dir, fname)\r\n",
        "    shutil.copyfile(src, dst)\r\n",
        "\r\n",
        "fnames = ['rider-{}.jpg'.format(i) for i in range(1,100)]\r\n",
        "for fname in fnames:\r\n",
        "    src = os.path.join(human_data_dir, fname)\r\n",
        "    fname = fname.replace('-', '.')\r\n",
        "    dst = os.path.join(train_humans_dir, fname)\r\n",
        "    shutil.copyfile(src, dst)\r\n",
        "\r\n",
        "fnames = ['rider-{}.jpg'.format(i) for i in range(100, 150)]\r\n",
        "for fname in fnames:\r\n",
        "    src = os.path.join(human_data_dir, fname)\r\n",
        "    fname = fname.replace('-', '.')\r\n",
        "    dst = os.path.join(validation_humans_dir, fname)\r\n",
        "    shutil.copyfile(src, dst)\r\n",
        "\r\n",
        "fnames = ['rider-{}.jpg'.format(i) for i in range(150, 200)]\r\n",
        "for fname in fnames:\r\n",
        "    src = os.path.join(human_data_dir, fname)\r\n",
        "    fname = fname.replace('-', '.')\r\n",
        "    dst = os.path.join(test_humans_dir, fname)\r\n",
        "    shutil.copyfile(src, dst)"
      ],
      "execution_count": 7,
      "outputs": []
    },
    {
      "cell_type": "code",
      "metadata": {
        "id": "uAvvJoAivE95",
        "outputId": "1c27ad1f-2c7f-4ac5-e26e-d90434fdc9ed",
        "colab": {
          "base_uri": "https://localhost:8080/"
        }
      },
      "source": [
        "print('total training cat images:', len(os.listdir(train_cats_dir)))\r\n",
        "print('total training dog images:', len(os.listdir(train_dogs_dir)))\r\n",
        "print('total training horse images:', len(os.listdir(train_horses_dir)))\r\n",
        "print('total training human images:', len(os.listdir(train_humans_dir)))\r\n",
        "\r\n",
        "print('\\ntotal validation cat images:', len(os.listdir(validation_cats_dir)))\r\n",
        "print('total validation dog images:', len(os.listdir(validation_dogs_dir)))\r\n",
        "print('total validation horse images:', len(os.listdir(validation_horses_dir)))\r\n",
        "print('total validation human images:', len(os.listdir(validation_humans_dir)))\r\n",
        "\r\n",
        "\r\n",
        "print('\\ntotal test cat images:', len(os.listdir(test_cats_dir)))\r\n",
        "print('total test dog images:', len(os.listdir(test_dogs_dir)))\r\n",
        "print('total test horse images:', len(os.listdir(test_horses_dir)))\r\n",
        "print('total test human images:', len(os.listdir(test_humans_dir)))"
      ],
      "execution_count": 8,
      "outputs": [
        {
          "output_type": "stream",
          "text": [
            "total training cat images: 99\n",
            "total training dog images: 99\n",
            "total training horse images: 99\n",
            "total training human images: 99\n",
            "\n",
            "total validation cat images: 50\n",
            "total validation dog images: 50\n",
            "total validation horse images: 50\n",
            "total validation human images: 50\n",
            "\n",
            "total test cat images: 50\n",
            "total test dog images: 50\n",
            "total test horse images: 50\n",
            "total test human images: 50\n"
          ],
          "name": "stdout"
        }
      ]
    },
    {
      "cell_type": "code",
      "metadata": {
        "id": "wh_O18REfkk1"
      },
      "source": [
        "IMG_SIZE = 224\r\n",
        "LR = 1e-4"
      ],
      "execution_count": 9,
      "outputs": []
    },
    {
      "cell_type": "code",
      "metadata": {
        "id": "Zlgt4niffkYu"
      },
      "source": [
        "def label_img(img):\r\n",
        "  word_label = img.split('.')[0]\r\n",
        "  if word_label == 'dog': return 1\r\n",
        "  elif word_label == 'cat': return 0\r\n",
        "  elif word_label == 'horse': return 2\r\n",
        "  elif word_label == 'rider': return 3"
      ],
      "execution_count": 65,
      "outputs": []
    },
    {
      "cell_type": "code",
      "metadata": {
        "id": "vVAfzmIdw5RG"
      },
      "source": [
        "train_dir_list = os.listdir(train_dir)\r\n",
        "validation_dir_list = os.listdir(validation_dir)\r\n",
        "test_dir_list = os.listdir(test_dir)"
      ],
      "execution_count": 29,
      "outputs": []
    },
    {
      "cell_type": "code",
      "metadata": {
        "id": "79LeXyDZpAUa"
      },
      "source": [
        "def create_data_split(data_dir_list, data_dir):\r\n",
        "  x = []\r\n",
        "  y = []\r\n",
        "  for dataset in data_dir_list:\r\n",
        "    img_list = os.listdir(data_dir + '/' + dataset)\r\n",
        "    for img in img_list:\r\n",
        "      img_path = data_dir + '/' + dataset + '/' + img\r\n",
        "      image = cv2.resize(cv2.imread(img_path), (IMG_SIZE, IMG_SIZE))\r\n",
        "      image = cv2.normalize(image, None, alpha=0, beta=1, norm_type=cv2.NORM_MINMAX, dtype=cv2.CV_32F)\r\n",
        "\r\n",
        "      label = label_img(img)\r\n",
        "\r\n",
        "      x.append(np.array(image))\r\n",
        "      y.append(label)\r\n",
        "  \r\n",
        "  return np.array(x), np.array(y)"
      ],
      "execution_count": 72,
      "outputs": []
    },
    {
      "cell_type": "code",
      "metadata": {
        "id": "8puH-ZUGnFgw"
      },
      "source": [
        "train_x, train_y = create_data_split(train_dir_list, train_dir)\r\n",
        "val_x, val_y = create_data_split(validation_dir_list, validation_dir)\r\n",
        "test_x, test_y = create_data_split(test_dir_list, test_dir)"
      ],
      "execution_count": 73,
      "outputs": []
    },
    {
      "cell_type": "code",
      "metadata": {
        "id": "XFB2-FkFrqgJ",
        "outputId": "eea12065-292c-4d7d-c774-79a69074a925",
        "colab": {
          "base_uri": "https://localhost:8080/"
        }
      },
      "source": [
        "print(train_x.shape, train_y.shape)\r\n",
        "print(val_x.shape, val_y.shape)\r\n",
        "print(test_x.shape, test_y.shape)"
      ],
      "execution_count": 77,
      "outputs": [
        {
          "output_type": "stream",
          "text": [
            "(396, 224, 224, 3) (396,)\n",
            "(200, 224, 224, 3) (200,)\n",
            "(200, 224, 224, 3) (200,)\n"
          ],
          "name": "stdout"
        }
      ]
    },
    {
      "cell_type": "code",
      "metadata": {
        "id": "KiBPX5z1t53r"
      },
      "source": [
        "img_input = Input(shape=(IMG_SIZE, IMG_SIZE, 3))"
      ],
      "execution_count": 78,
      "outputs": []
    },
    {
      "cell_type": "code",
      "metadata": {
        "id": "2cFaf1z7t5sj",
        "outputId": "e2a5099e-b765-42ee-e06d-2c25d701b3da",
        "colab": {
          "base_uri": "https://localhost:8080/"
        }
      },
      "source": [
        "from tensorflow.keras.applications import VGG16\r\n",
        "\r\n",
        "model = VGG16(\r\n",
        "    include_top=True,\r\n",
        "    weights=\"imagenet\",\r\n",
        "    input_tensor=img_input,\r\n",
        "    input_shape=None,\r\n",
        "    pooling=None,\r\n",
        "    classes=1000,\r\n",
        "    classifier_activation=\"softmax\")\r\n",
        "model.summary()"
      ],
      "execution_count": 81,
      "outputs": [
        {
          "output_type": "stream",
          "text": [
            "Downloading data from https://storage.googleapis.com/tensorflow/keras-applications/vgg16/vgg16_weights_tf_dim_ordering_tf_kernels.h5\n",
            "553467904/553467096 [==============================] - 4s 0us/step\n",
            "Model: \"vgg16\"\n",
            "_________________________________________________________________\n",
            "Layer (type)                 Output Shape              Param #   \n",
            "=================================================================\n",
            "input_1 (InputLayer)         [(None, 224, 224, 3)]     0         \n",
            "_________________________________________________________________\n",
            "block1_conv1 (Conv2D)        (None, 224, 224, 64)      1792      \n",
            "_________________________________________________________________\n",
            "block1_conv2 (Conv2D)        (None, 224, 224, 64)      36928     \n",
            "_________________________________________________________________\n",
            "block1_pool (MaxPooling2D)   (None, 112, 112, 64)      0         \n",
            "_________________________________________________________________\n",
            "block2_conv1 (Conv2D)        (None, 112, 112, 128)     73856     \n",
            "_________________________________________________________________\n",
            "block2_conv2 (Conv2D)        (None, 112, 112, 128)     147584    \n",
            "_________________________________________________________________\n",
            "block2_pool (MaxPooling2D)   (None, 56, 56, 128)       0         \n",
            "_________________________________________________________________\n",
            "block3_conv1 (Conv2D)        (None, 56, 56, 256)       295168    \n",
            "_________________________________________________________________\n",
            "block3_conv2 (Conv2D)        (None, 56, 56, 256)       590080    \n",
            "_________________________________________________________________\n",
            "block3_conv3 (Conv2D)        (None, 56, 56, 256)       590080    \n",
            "_________________________________________________________________\n",
            "block3_pool (MaxPooling2D)   (None, 28, 28, 256)       0         \n",
            "_________________________________________________________________\n",
            "block4_conv1 (Conv2D)        (None, 28, 28, 512)       1180160   \n",
            "_________________________________________________________________\n",
            "block4_conv2 (Conv2D)        (None, 28, 28, 512)       2359808   \n",
            "_________________________________________________________________\n",
            "block4_conv3 (Conv2D)        (None, 28, 28, 512)       2359808   \n",
            "_________________________________________________________________\n",
            "block4_pool (MaxPooling2D)   (None, 14, 14, 512)       0         \n",
            "_________________________________________________________________\n",
            "block5_conv1 (Conv2D)        (None, 14, 14, 512)       2359808   \n",
            "_________________________________________________________________\n",
            "block5_conv2 (Conv2D)        (None, 14, 14, 512)       2359808   \n",
            "_________________________________________________________________\n",
            "block5_conv3 (Conv2D)        (None, 14, 14, 512)       2359808   \n",
            "_________________________________________________________________\n",
            "block5_pool (MaxPooling2D)   (None, 7, 7, 512)         0         \n",
            "_________________________________________________________________\n",
            "flatten (Flatten)            (None, 25088)             0         \n",
            "_________________________________________________________________\n",
            "fc1 (Dense)                  (None, 4096)              102764544 \n",
            "_________________________________________________________________\n",
            "fc2 (Dense)                  (None, 4096)              16781312  \n",
            "_________________________________________________________________\n",
            "predictions (Dense)          (None, 1000)              4097000   \n",
            "=================================================================\n",
            "Total params: 138,357,544\n",
            "Trainable params: 138,357,544\n",
            "Non-trainable params: 0\n",
            "_________________________________________________________________\n"
          ],
          "name": "stdout"
        }
      ]
    },
    {
      "cell_type": "code",
      "metadata": {
        "id": "isHFTHsYuJzi",
        "outputId": "a032c341-7602-4877-a884-462cb08ad284",
        "colab": {
          "base_uri": "https://localhost:8080/"
        }
      },
      "source": [
        "last_layer = model.get_layer('fc2').output\r\n",
        "out = Dense(1, activation='sigmoid', name='output')(last_layer)\r\n",
        "model = Model(img_input, out)\r\n",
        "\r\n",
        "for layer in model.layers[:-1]:\r\n",
        "  layer.trainable = False\r\n",
        "\r\n",
        "model.summary()"
      ],
      "execution_count": 84,
      "outputs": [
        {
          "output_type": "stream",
          "text": [
            "Model: \"model_2\"\n",
            "_________________________________________________________________\n",
            "Layer (type)                 Output Shape              Param #   \n",
            "=================================================================\n",
            "input_1 (InputLayer)         [(None, 224, 224, 3)]     0         \n",
            "_________________________________________________________________\n",
            "block1_conv1 (Conv2D)        (None, 224, 224, 64)      1792      \n",
            "_________________________________________________________________\n",
            "block1_conv2 (Conv2D)        (None, 224, 224, 64)      36928     \n",
            "_________________________________________________________________\n",
            "block1_pool (MaxPooling2D)   (None, 112, 112, 64)      0         \n",
            "_________________________________________________________________\n",
            "block2_conv1 (Conv2D)        (None, 112, 112, 128)     73856     \n",
            "_________________________________________________________________\n",
            "block2_conv2 (Conv2D)        (None, 112, 112, 128)     147584    \n",
            "_________________________________________________________________\n",
            "block2_pool (MaxPooling2D)   (None, 56, 56, 128)       0         \n",
            "_________________________________________________________________\n",
            "block3_conv1 (Conv2D)        (None, 56, 56, 256)       295168    \n",
            "_________________________________________________________________\n",
            "block3_conv2 (Conv2D)        (None, 56, 56, 256)       590080    \n",
            "_________________________________________________________________\n",
            "block3_conv3 (Conv2D)        (None, 56, 56, 256)       590080    \n",
            "_________________________________________________________________\n",
            "block3_pool (MaxPooling2D)   (None, 28, 28, 256)       0         \n",
            "_________________________________________________________________\n",
            "block4_conv1 (Conv2D)        (None, 28, 28, 512)       1180160   \n",
            "_________________________________________________________________\n",
            "block4_conv2 (Conv2D)        (None, 28, 28, 512)       2359808   \n",
            "_________________________________________________________________\n",
            "block4_conv3 (Conv2D)        (None, 28, 28, 512)       2359808   \n",
            "_________________________________________________________________\n",
            "block4_pool (MaxPooling2D)   (None, 14, 14, 512)       0         \n",
            "_________________________________________________________________\n",
            "block5_conv1 (Conv2D)        (None, 14, 14, 512)       2359808   \n",
            "_________________________________________________________________\n",
            "block5_conv2 (Conv2D)        (None, 14, 14, 512)       2359808   \n",
            "_________________________________________________________________\n",
            "block5_conv3 (Conv2D)        (None, 14, 14, 512)       2359808   \n",
            "_________________________________________________________________\n",
            "block5_pool (MaxPooling2D)   (None, 7, 7, 512)         0         \n",
            "_________________________________________________________________\n",
            "flatten (Flatten)            (None, 25088)             0         \n",
            "_________________________________________________________________\n",
            "fc1 (Dense)                  (None, 4096)              102764544 \n",
            "_________________________________________________________________\n",
            "fc2 (Dense)                  (None, 4096)              16781312  \n",
            "_________________________________________________________________\n",
            "output (Dense)               (None, 1)                 4097      \n",
            "=================================================================\n",
            "Total params: 134,264,641\n",
            "Trainable params: 4,097\n",
            "Non-trainable params: 134,260,544\n",
            "_________________________________________________________________\n"
          ],
          "name": "stdout"
        }
      ]
    },
    {
      "cell_type": "code",
      "metadata": {
        "id": "zioxn4w3urj3"
      },
      "source": [
        "model.compile(loss='binary_crossentropy',\r\n",
        "              optimizer='adam',\r\n",
        "              metrics=['accuracy'])"
      ],
      "execution_count": 85,
      "outputs": []
    },
    {
      "cell_type": "code",
      "metadata": {
        "id": "zr8IC4Yau2Cz"
      },
      "source": [
        "from tensorflow.keras.callbacks import EarlyStopping, ModelCheckpoint\r\n",
        "\r\n",
        "my_callbacks = [\r\n",
        "    EarlyStopping(monitor=\"val_loss\", patience=10, restore_best_weights=True),\r\n",
        "    ModelCheckpoint(filepath='vgg16_model.h5', save_best_only=True),\r\n",
        "]"
      ],
      "execution_count": 87,
      "outputs": []
    },
    {
      "cell_type": "code",
      "metadata": {
        "id": "VOOCFqdju5wd",
        "outputId": "c9dceb9c-0c32-43d9-b375-366dc5acf22b",
        "colab": {
          "base_uri": "https://localhost:8080/"
        }
      },
      "source": [
        "history = model.fit(train_x, train_y, batch_size=10, epochs=10, validation_data=(val_x, val_y), callbacks=my_callbacks)"
      ],
      "execution_count": 88,
      "outputs": [
        {
          "output_type": "stream",
          "text": [
            "Epoch 1/10\n",
            "40/40 [==============================] - 307s 8s/step - loss: -6.9277 - accuracy: 0.1975 - val_loss: -28.9666 - val_accuracy: 0.2500\n",
            "Epoch 2/10\n",
            "40/40 [==============================] - 309s 8s/step - loss: -33.1832 - accuracy: 0.2395 - val_loss: -57.5747 - val_accuracy: 0.2500\n",
            "Epoch 3/10\n",
            "40/40 [==============================] - 306s 8s/step - loss: -51.2609 - accuracy: 0.2395 - val_loss: -89.1573 - val_accuracy: 0.2500\n",
            "Epoch 4/10\n",
            "40/40 [==============================] - 315s 8s/step - loss: -86.0157 - accuracy: 0.2506 - val_loss: -120.9834 - val_accuracy: 0.2500\n",
            "Epoch 5/10\n",
            "40/40 [==============================] - 307s 8s/step - loss: -122.8402 - accuracy: 0.2686 - val_loss: -152.1228 - val_accuracy: 0.2500\n",
            "Epoch 6/10\n",
            "40/40 [==============================] - 315s 8s/step - loss: -167.6586 - accuracy: 0.2642 - val_loss: -183.4199 - val_accuracy: 0.2500\n",
            "Epoch 7/10\n",
            "40/40 [==============================] - 306s 8s/step - loss: -192.3589 - accuracy: 0.2264 - val_loss: -214.5990 - val_accuracy: 0.2500\n",
            "Epoch 8/10\n",
            "40/40 [==============================] - 308s 8s/step - loss: -232.2174 - accuracy: 0.2592 - val_loss: -246.0758 - val_accuracy: 0.2500\n",
            "Epoch 9/10\n",
            "40/40 [==============================] - 303s 8s/step - loss: -277.0434 - accuracy: 0.2264 - val_loss: -275.7564 - val_accuracy: 0.2500\n",
            "Epoch 10/10\n",
            "40/40 [==============================] - 312s 8s/step - loss: -274.0439 - accuracy: 0.2708 - val_loss: -307.9991 - val_accuracy: 0.2500\n"
          ],
          "name": "stdout"
        }
      ]
    },
    {
      "cell_type": "code",
      "metadata": {
        "id": "tVH3rjgF6-ZW",
        "outputId": "ce0fa190-ac0a-4492-9233-7f12e3af6e45",
        "colab": {
          "base_uri": "https://localhost:8080/",
          "height": 545
        }
      },
      "source": [
        "acc = history.history['accuracy']\r\n",
        "val_acc = history.history['val_accuracy']\r\n",
        "loss = history.history['loss']\r\n",
        "val_loss = history.history['val_loss']\r\n",
        "\r\n",
        "epochs = range(1, len(acc) + 1)\r\n",
        "\r\n",
        "plt.plot(epochs, acc, 'bo', label='Training acc')\r\n",
        "plt.plot(epochs, val_acc, 'b', label='Validation acc')\r\n",
        "plt.title('Training and validation accuracy')\r\n",
        "plt.legend()\r\n",
        "\r\n",
        "plt.figure()\r\n",
        "\r\n",
        "plt.plot(epochs, loss, 'bo', label='Training loss')\r\n",
        "plt.plot(epochs, val_loss, 'b', label='Validation loss')\r\n",
        "plt.title('Training and validation loss')\r\n",
        "plt.legend()\r\n",
        "\r\n",
        "plt.show()"
      ],
      "execution_count": 91,
      "outputs": [
        {
          "output_type": "display_data",
          "data": {
            "image/png": "[encoded data removed]",
            "text/plain": [
              "<Figure size 432x288 with 1 Axes>"
            ]
          },
          "metadata": {
            "tags": [],
            "needs_background": "light"
          }
        },
        {
          "output_type": "display_data",
          "data": {
            "image/png": "[encoded data removed]",
            "text/plain": [
              "<Figure size 432x288 with 1 Axes>"
            ]
          },
          "metadata": {
            "tags": [],
            "needs_background": "light"
          }
        }
      ]
    },
    {
      "cell_type": "code",
      "metadata": {
        "id": "zA0ZIzFx7Fsp",
        "outputId": "c47f5de2-7478-4fc3-d5d4-97d63eab916e",
        "colab": {
          "base_uri": "https://localhost:8080/"
        }
      },
      "source": [
        "from sklearn.metrics import accuracy_score\r\n",
        "\r\n",
        "## Test Accuracy\r\n",
        "predictions = model.predict(test_x)\r\n",
        "ypred = predictions > 0.5\r\n",
        "test_acc = accuracy_score(test_y, ypred)\r\n",
        "\r\n",
        "from sklearn.metrics import precision_recall_fscore_support, roc_auc_score\r\n",
        "\r\n",
        "precision, recall, f1score, _ = precision_recall_fscore_support(test_y, ypred, average='weighted')\r\n",
        "\r\n",
        "\r\n",
        "print(\"Train Accuracy:\\t\", acc[-1])\r\n",
        "print(\"Val Accuracy:\\t\", val_acc[-1])\r\n",
        "print(\"Test Accuracy:\\t\", test_acc)\r\n",
        "print(\"Precision:\\t\", precision)\r\n",
        "print(\"Recall:\\t\\t\", recall)\r\n",
        "print(\"F1 Score:\\t\", f1score)\r\n"
      ],
      "execution_count": 96,
      "outputs": [
        {
          "output_type": "stream",
          "text": [
            "Train Accuracy:\t 0.25\n",
            "Val Accuracy:\t 0.25\n",
            "Test Accuracy:\t 0.25\n",
            "Precision:\t 0.0625\n",
            "Recall:\t\t 0.25\n",
            "F1 Score:\t 0.1\n"
          ],
          "name": "stdout"
        },
        {
          "output_type": "stream",
          "text": [
            "/usr/local/lib/python3.7/dist-packages/sklearn/metrics/_classification.py:1272: UndefinedMetricWarning: Precision and F-score are ill-defined and being set to 0.0 in labels with no predicted samples. Use `zero_division` parameter to control this behavior.\n",
            "  _warn_prf(average, modifier, msg_start, len(result))\n"
          ],
          "name": "stderr"
        }
      ]
    }
  ]
}